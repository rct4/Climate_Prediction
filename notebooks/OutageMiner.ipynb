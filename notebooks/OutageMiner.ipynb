{
 "cells": [
  {
   "cell_type": "code",
   "execution_count": 1,
   "metadata": {
    "colab": {
     "base_uri": "https://localhost:8080/"
    },
    "id": "dNFPey78keDU",
    "outputId": "6284a296-02fa-4e55-e19c-3dc724937d6a"
   },
   "outputs": [
    {
     "name": "stdout",
     "output_type": "stream",
     "text": [
      "Requirement already satisfied: requests in c:\\users\\19713\\anaconda3\\lib\\site-packages (2.28.1)\n",
      "Requirement already satisfied: beautifulsoup4 in c:\\users\\19713\\anaconda3\\lib\\site-packages (4.11.1)\n",
      "Requirement already satisfied: urllib3<1.27,>=1.21.1 in c:\\users\\19713\\anaconda3\\lib\\site-packages (from requests) (1.26.11)\n",
      "Requirement already satisfied: charset-normalizer<3,>=2 in c:\\users\\19713\\anaconda3\\lib\\site-packages (from requests) (2.0.4)\n",
      "Requirement already satisfied: certifi>=2017.4.17 in c:\\users\\19713\\anaconda3\\lib\\site-packages (from requests) (2022.9.14)\n",
      "Requirement already satisfied: idna<4,>=2.5 in c:\\users\\19713\\anaconda3\\lib\\site-packages (from requests) (3.3)\n",
      "Requirement already satisfied: soupsieve>1.2 in c:\\users\\19713\\anaconda3\\lib\\site-packages (from beautifulsoup4) (2.3.1)\n"
     ]
    }
   ],
   "source": [
    "!pip install requests beautifulsoup4"
   ]
  },
  {
   "cell_type": "code",
   "execution_count": 2,
   "metadata": {
    "id": "vkEWvG8Ulutz"
   },
   "outputs": [],
   "source": [
    "import requests\n",
    "from bs4 import BeautifulSoup\n",
    "from urllib.parse import urljoin, quote\n",
    "import pandas as pd\n",
    "import json\n",
    "from concurrent.futures import ThreadPoolExecutor"
   ]
  },
  {
   "cell_type": "code",
   "execution_count": 3,
   "metadata": {
    "id": "zL4PmLOllWgh"
   },
   "outputs": [],
   "source": [
    "state_to_fips = {\n",
    "    'ALABAMA': '01',\n",
    "    'ALASKA': '02',\n",
    "    'ARIZONA': '04',\n",
    "    'ARKANSAS': '05',\n",
    "    'CALIFORNIA': '06',\n",
    "    'COLORADO': '08',\n",
    "    'CONNECTICUT': '09',\n",
    "    'DELAWARE': '10',\n",
    "    'FLORIDA': '12',\n",
    "    'GEORGIA': '13',\n",
    "    'HAWAII': '15',\n",
    "    'IDAHO': '16',\n",
    "    'ILLINOIS': '17',\n",
    "    'INDIANA': '18',\n",
    "    'IOWA': '19',\n",
    "    'KANSAS': '20',\n",
    "    'KENTUCKY': '21',\n",
    "    'LOUISIANA': '22',\n",
    "    'MAINE': '23',\n",
    "    'MARYLAND': '24',\n",
    "    'MASSACHUSETTS': '25',\n",
    "    'MICHIGAN': '26',\n",
    "    'MINNESOTA': '27',\n",
    "    'MISSISSIPPI': '28',\n",
    "    'MISSOURI': '29',\n",
    "    'MONTANA': '30',\n",
    "    'NEBRASKA': '31',\n",
    "    'NEVADA': '32',\n",
    "    'NEW HAMPSHIRE': '33',\n",
    "    'NEW JERSEY': '34',\n",
    "    'NEW MEXICO': '35',\n",
    "    'NEW YORK': '36',\n",
    "    'NORTH CAROLINA': '37',\n",
    "    'NORTH DAKOTA': '38',\n",
    "    'OHIO': '39',\n",
    "    'OKLAHOMA': '40',\n",
    "    'OREGON': '41',\n",
    "    'PENNSYLVANIA': '42',\n",
    "    'RHODE ISLAND': '44',\n",
    "    'SOUTH CAROLINA': '45',\n",
    "    'SOUTH DAKOTA': '46',\n",
    "    'TENNESSEE': '47',\n",
    "    'TEXAS': '48',\n",
    "    'UTAH': '49',\n",
    "    'VERMONT': '50',\n",
    "    'VIRGINIA': '51',\n",
    "    'WASHINGTON': '53',\n",
    "    'WEST VIRGINIA': '54',\n",
    "    'WISCONSIN': '55',\n",
    "    'WYOMING': '56',\n",
    "    'DISTRICT OF COLUMBIA': '11',\n",
    "    'PUERTO RICO': '72',\n",
    "    'GUAM': '66',\n",
    "    'AMERICAN SAMOA': '60',\n",
    "    'U.S. VIRGIN ISLANDS': '78',\n",
    "    'NORTHERN MARIANA ISLANDS': '69'\n",
    "}\n",
    "\n"
   ]
  },
  {
   "cell_type": "code",
   "execution_count": 26,
   "metadata": {
    "id": "42IPCJN3jm2b"
   },
   "outputs": [],
   "source": [
    "def create_noaa_url(state_fips, start_date, end_date, state):\n",
    "\n",
    "    def format_date_component(date_component):\n",
    "      \"\"\"Ensure date components are two digits.\"\"\"\n",
    "      if len(date_component) == 1:\n",
    "          return '0' + date_component\n",
    "      return date_component\n",
    "    # Split the dates to extract year, month, and day components\n",
    "    start_year, start_month, start_day = start_date.split('-')\n",
    "    end_year, end_month, end_day = end_date.split('-')\n",
    "\n",
    "    start_month = format_date_component(start_month)\n",
    "    start_day = format_date_component(start_day)\n",
    "    end_month = format_date_component(end_month)\n",
    "    end_day = format_date_component(end_day)\n",
    "\n",
    "    base_url = 'https://www.ncdc.noaa.gov/stormevents/listevents.jsp?'\n",
    "    url = (f\"{base_url}eventType=ALL\"\n",
    "           f\"&beginDate_mm={start_month}&beginDate_dd={start_day}&beginDate_yyyy={start_year}\"\n",
    "           f\"&endDate_mm={end_month}&endDate_dd={end_day}&endDate_yyyy={end_year}\"\n",
    "           f\"&county=ALL&hailfilter=0.00&tornfilter=0&windfilter=000\"\n",
    "           f\"&sort=DT&submitbutton=Search&statefips={state_fips}%2C{state}\")\n",
    "\n",
    "    return url"
   ]
  },
  {
   "cell_type": "code",
   "execution_count": 27,
   "metadata": {
    "colab": {
     "base_uri": "https://localhost:8080/"
    },
    "id": "-pQvQqhDko_i",
    "outputId": "d77d1885-74b4-4033-f64e-d2bf51899bf2"
   },
   "outputs": [
    {
     "ename": "ValueError",
     "evalue": "not enough values to unpack (expected 3, got 1)",
     "output_type": "error",
     "traceback": [
      "\u001b[1;31m---------------------------------------------------------------------------\u001b[0m",
      "\u001b[1;31mValueError\u001b[0m                                Traceback (most recent call last)",
      "\u001b[1;32m~\\AppData\\Local\\Temp\\ipykernel_33832\\1365806642.py\u001b[0m in \u001b[0;36m<module>\u001b[1;34m\u001b[0m\n\u001b[0;32m      2\u001b[0m \u001b[1;33m\u001b[0m\u001b[0m\n\u001b[0;32m      3\u001b[0m \u001b[0mstart_date\u001b[0m \u001b[1;33m=\u001b[0m \u001b[1;34m'01/12/2020'\u001b[0m\u001b[1;33m\u001b[0m\u001b[1;33m\u001b[0m\u001b[0m\n\u001b[1;32m----> 4\u001b[1;33m \u001b[0murl\u001b[0m \u001b[1;33m=\u001b[0m \u001b[0mcreate_noaa_url\u001b[0m\u001b[1;33m(\u001b[0m\u001b[0mstate_to_fips\u001b[0m\u001b[1;33m[\u001b[0m\u001b[0mstate\u001b[0m\u001b[1;33m]\u001b[0m\u001b[1;33m,\u001b[0m \u001b[0mstart_date\u001b[0m\u001b[1;33m,\u001b[0m \u001b[0mstart_date\u001b[0m\u001b[1;33m,\u001b[0m \u001b[0mquote\u001b[0m\u001b[1;33m(\u001b[0m\u001b[0mstate\u001b[0m\u001b[1;33m)\u001b[0m\u001b[1;33m)\u001b[0m\u001b[1;33m\u001b[0m\u001b[1;33m\u001b[0m\u001b[0m\n\u001b[0m\u001b[0;32m      5\u001b[0m \u001b[0mprint\u001b[0m\u001b[1;33m(\u001b[0m\u001b[0murl\u001b[0m\u001b[1;33m)\u001b[0m\u001b[1;33m\u001b[0m\u001b[1;33m\u001b[0m\u001b[0m\n",
      "\u001b[1;32m~\\AppData\\Local\\Temp\\ipykernel_33832\\3899605326.py\u001b[0m in \u001b[0;36mcreate_noaa_url\u001b[1;34m(state_fips, start_date, end_date, state)\u001b[0m\n\u001b[0;32m      7\u001b[0m       \u001b[1;32mreturn\u001b[0m \u001b[0mdate_component\u001b[0m\u001b[1;33m\u001b[0m\u001b[1;33m\u001b[0m\u001b[0m\n\u001b[0;32m      8\u001b[0m     \u001b[1;31m# Split the dates to extract year, month, and day components\u001b[0m\u001b[1;33m\u001b[0m\u001b[1;33m\u001b[0m\u001b[0m\n\u001b[1;32m----> 9\u001b[1;33m     \u001b[0mstart_year\u001b[0m\u001b[1;33m,\u001b[0m \u001b[0mstart_month\u001b[0m\u001b[1;33m,\u001b[0m \u001b[0mstart_day\u001b[0m \u001b[1;33m=\u001b[0m \u001b[0mstart_date\u001b[0m\u001b[1;33m.\u001b[0m\u001b[0msplit\u001b[0m\u001b[1;33m(\u001b[0m\u001b[1;34m'-'\u001b[0m\u001b[1;33m)\u001b[0m\u001b[1;33m\u001b[0m\u001b[1;33m\u001b[0m\u001b[0m\n\u001b[0m\u001b[0;32m     10\u001b[0m     \u001b[0mend_year\u001b[0m\u001b[1;33m,\u001b[0m \u001b[0mend_month\u001b[0m\u001b[1;33m,\u001b[0m \u001b[0mend_day\u001b[0m \u001b[1;33m=\u001b[0m \u001b[0mend_date\u001b[0m\u001b[1;33m.\u001b[0m\u001b[0msplit\u001b[0m\u001b[1;33m(\u001b[0m\u001b[1;34m'-'\u001b[0m\u001b[1;33m)\u001b[0m\u001b[1;33m\u001b[0m\u001b[1;33m\u001b[0m\u001b[0m\n\u001b[0;32m     11\u001b[0m \u001b[1;33m\u001b[0m\u001b[0m\n",
      "\u001b[1;31mValueError\u001b[0m: not enough values to unpack (expected 3, got 1)"
     ]
    }
   ],
   "source": [
    "state = 'NEW YORK'\n",
    "\n",
    "start_date = '01/12/2020'\n",
    "url = create_noaa_url(state_to_fips[state], start_date, start_date, quote(state))\n",
    "print(url)"
   ]
  },
  {
   "cell_type": "code",
   "execution_count": 28,
   "metadata": {
    "id": "CbYBsjRulrOy"
   },
   "outputs": [],
   "source": [
    "def mine_info(url):\n",
    "    session = requests.Session()\n",
    "    response = requests.get(url)\n",
    "    event_list = []\n",
    "\n",
    "    if response.status_code == 200:\n",
    "        soup = BeautifulSoup(response.text, 'html.parser')\n",
    "        table = soup.find('table', id='results')\n",
    "        table_rows = table.find_all('tr')\n",
    "        \n",
    "        # For each event. A resutls table contains a list of events with a link to more data\n",
    "        for row in table_rows:\n",
    "            # Open a dictionary to store the data for an event\n",
    "            data_table = {}\n",
    "            cells = row.find_all('td')\n",
    "            if cells:  # Make sure cells list is not empty\n",
    "                first_cell_link = cells[0].find('a')\n",
    "                if first_cell_link and first_cell_link.has_attr('href') and len(cells) > 9:\n",
    "\n",
    "                    county_zone = cells[1].text\n",
    "                    tz = cells[5].text\n",
    "                    event_type = cells[6].text\n",
    "                    prd = cells[10].text\n",
    "                    \n",
    "                    href = first_cell_link['href'].strip(' ')\n",
    "                    \n",
    "                    # Use urljoin to resolve relative URL\n",
    "                    full_url = urljoin('https://www.ncdc.noaa.gov/stormevents/', href)\n",
    "\n",
    "                    link_response = requests.get(full_url)\n",
    "                    \n",
    "                    # Super dirty error handling - looking to fix later\n",
    "                    \n",
    "                    if link_response.status_code == 200:\n",
    "                        linked_soup = BeautifulSoup(link_response.text, 'html.parser')\n",
    "                        \n",
    "                        if (linked_soup):\n",
    "                            rows = linked_soup.find_all('tr')\n",
    "                            event_narrative = rows[len(rows) - 1].get_text(strip=True)\n",
    "                            data_table['event narrative'] = event_narrative\n",
    "                        else:\n",
    "                            data_table['event narrative'] = None\n",
    "                            \n",
    "                        data_table['county/zone'] = county_zone\n",
    "                        data_table['tz'] = tz\n",
    "                        data_table['event type'] = event_type\n",
    "                        data_table['prd'] = prd\n",
    "                        event_list.append(data_table)\n",
    "                    else:\n",
    "                        print(f\"Failed to retrieve the linked webpage, status code: {link_response.status_code}\")\n",
    "                        return link_response.status_code\n",
    "        return json.dumps(event_list)\n",
    "    else:\n",
    "        print(\"Failed to retrieve the webpage, status code: \", response.status_code)\n",
    "        return response.status_code"
   ]
  },
  {
   "cell_type": "code",
   "execution_count": 29,
   "metadata": {
    "colab": {
     "base_uri": "https://localhost:8080/"
    },
    "id": "6GPcyiiYl1QK",
    "outputId": "275f0adf-95b2-4364-db62-ed5237727cc3"
   },
   "outputs": [],
   "source": [
    "#info = mine_info(url)\n",
    "#print(info)"
   ]
  },
  {
   "cell_type": "code",
   "execution_count": 30,
   "metadata": {
    "colab": {
     "base_uri": "https://localhost:8080/",
     "height": 363
    },
    "id": "3sdUe_UtgQwv",
    "outputId": "54687596-4e0e-456e-aa77-5c6f56eca6a7"
   },
   "outputs": [
    {
     "data": {
      "text/html": [
       "<div>\n",
       "<style scoped>\n",
       "    .dataframe tbody tr th:only-of-type {\n",
       "        vertical-align: middle;\n",
       "    }\n",
       "\n",
       "    .dataframe tbody tr th {\n",
       "        vertical-align: top;\n",
       "    }\n",
       "\n",
       "    .dataframe thead th {\n",
       "        text-align: right;\n",
       "    }\n",
       "</style>\n",
       "<table border=\"1\" class=\"dataframe\">\n",
       "  <thead>\n",
       "    <tr style=\"text-align: right;\">\n",
       "      <th></th>\n",
       "      <th>Unnamed: 0</th>\n",
       "      <th>Event Type</th>\n",
       "      <th>Valid Date</th>\n",
       "      <th>Valid Time</th>\n",
       "      <th>State</th>\n",
       "      <th>Cities</th>\n",
       "      <th>Counties</th>\n",
       "      <th>Dirty</th>\n",
       "    </tr>\n",
       "  </thead>\n",
       "  <tbody>\n",
       "    <tr>\n",
       "      <th>0</th>\n",
       "      <td>1</td>\n",
       "      <td>Ice Storm</td>\n",
       "      <td>2002-01-29</td>\n",
       "      <td>NaN</td>\n",
       "      <td>NaN</td>\n",
       "      <td>Kansas City</td>\n",
       "      <td>NaN</td>\n",
       "      <td>1</td>\n",
       "    </tr>\n",
       "    <tr>\n",
       "      <th>1</th>\n",
       "      <td>0</td>\n",
       "      <td>Ice Storm</td>\n",
       "      <td>2002-01-30</td>\n",
       "      <td>6:00:00</td>\n",
       "      <td>Oklahoma</td>\n",
       "      <td>NaN</td>\n",
       "      <td>NaN</td>\n",
       "      <td>NaN</td>\n",
       "    </tr>\n",
       "    <tr>\n",
       "      <th>2</th>\n",
       "      <td>2</td>\n",
       "      <td>Ice Storm</td>\n",
       "      <td>2002-01-30</td>\n",
       "      <td>16:00:00</td>\n",
       "      <td>Missouri</td>\n",
       "      <td>NaN</td>\n",
       "      <td>NaN</td>\n",
       "      <td>NaN</td>\n",
       "    </tr>\n",
       "    <tr>\n",
       "      <th>3</th>\n",
       "      <td>3</td>\n",
       "      <td>Severe Weather</td>\n",
       "      <td>2002-03-09</td>\n",
       "      <td>0:00:00</td>\n",
       "      <td>Michigan</td>\n",
       "      <td>NaN</td>\n",
       "      <td>NaN</td>\n",
       "      <td>1</td>\n",
       "    </tr>\n",
       "    <tr>\n",
       "      <th>4</th>\n",
       "      <td>4</td>\n",
       "      <td>Fire</td>\n",
       "      <td>2002-07-20</td>\n",
       "      <td>12:40:00</td>\n",
       "      <td>New York</td>\n",
       "      <td>NaN</td>\n",
       "      <td>NaN</td>\n",
       "      <td>NaN</td>\n",
       "    </tr>\n",
       "    <tr>\n",
       "      <th>5</th>\n",
       "      <td>5</td>\n",
       "      <td>Severe Weather</td>\n",
       "      <td>2002-08-28</td>\n",
       "      <td>14:09:00</td>\n",
       "      <td>Florida</td>\n",
       "      <td>NaN</td>\n",
       "      <td>NaN</td>\n",
       "      <td>NaN</td>\n",
       "    </tr>\n",
       "    <tr>\n",
       "      <th>6</th>\n",
       "      <td>6</td>\n",
       "      <td>Hurricane Lily</td>\n",
       "      <td>2002-10-03</td>\n",
       "      <td>3:33:00</td>\n",
       "      <td>Louisiana</td>\n",
       "      <td>NaN</td>\n",
       "      <td>NaN</td>\n",
       "      <td>1</td>\n",
       "    </tr>\n",
       "    <tr>\n",
       "      <th>7</th>\n",
       "      <td>7</td>\n",
       "      <td>Winter Storm</td>\n",
       "      <td>2002-11-06</td>\n",
       "      <td>22:00:00</td>\n",
       "      <td>California</td>\n",
       "      <td>NaN</td>\n",
       "      <td>NaN</td>\n",
       "      <td>1</td>\n",
       "    </tr>\n",
       "    <tr>\n",
       "      <th>8</th>\n",
       "      <td>8</td>\n",
       "      <td>Ice Storm</td>\n",
       "      <td>2002-11-17</td>\n",
       "      <td>6:00:00</td>\n",
       "      <td>Connecticut</td>\n",
       "      <td>NaN</td>\n",
       "      <td>NaN</td>\n",
       "      <td>1</td>\n",
       "    </tr>\n",
       "    <tr>\n",
       "      <th>9</th>\n",
       "      <td>9</td>\n",
       "      <td>Ice Storm</td>\n",
       "      <td>2002-12-03</td>\n",
       "      <td>18:30:00</td>\n",
       "      <td>Arkansas</td>\n",
       "      <td>NaN</td>\n",
       "      <td>NaN</td>\n",
       "      <td>NaN</td>\n",
       "    </tr>\n",
       "  </tbody>\n",
       "</table>\n",
       "</div>"
      ],
      "text/plain": [
       "   Unnamed: 0      Event Type  Valid Date Valid Time        State  \\\n",
       "0           1       Ice Storm  2002-01-29        NaN          NaN   \n",
       "1           0       Ice Storm  2002-01-30    6:00:00     Oklahoma   \n",
       "2           2       Ice Storm  2002-01-30   16:00:00     Missouri   \n",
       "3           3  Severe Weather  2002-03-09    0:00:00     Michigan   \n",
       "4           4            Fire  2002-07-20   12:40:00     New York   \n",
       "5           5  Severe Weather  2002-08-28   14:09:00      Florida   \n",
       "6           6  Hurricane Lily  2002-10-03    3:33:00    Louisiana   \n",
       "7           7    Winter Storm  2002-11-06   22:00:00   California   \n",
       "8           8       Ice Storm  2002-11-17    6:00:00  Connecticut   \n",
       "9           9       Ice Storm  2002-12-03   18:30:00     Arkansas   \n",
       "\n",
       "        Cities Counties Dirty  \n",
       "0  Kansas City      NaN     1  \n",
       "1          NaN      NaN   NaN  \n",
       "2          NaN      NaN   NaN  \n",
       "3          NaN      NaN     1  \n",
       "4          NaN      NaN   NaN  \n",
       "5          NaN      NaN   NaN  \n",
       "6          NaN      NaN     1  \n",
       "7          NaN      NaN     1  \n",
       "8          NaN      NaN     1  \n",
       "9          NaN      NaN   NaN  "
      ]
     },
     "execution_count": 30,
     "metadata": {},
     "output_type": "execute_result"
    }
   ],
   "source": [
    "# We can now synthesize these to add description for multiple events\n",
    "df = pd.read_csv('../tables/state_regularized_v2.csv')\n",
    "df.head(10)"
   ]
  },
  {
   "cell_type": "code",
   "execution_count": 31,
   "metadata": {
    "id": "NErthXspjxmm"
   },
   "outputs": [],
   "source": [
    "def get_description(row):\n",
    "\n",
    "    try:\n",
    "      if (type(row['State']) != str):\n",
    "        return None\n",
    "      state_upper = row['State'].upper()\n",
    "\n",
    "      # Construct the URL from date and state (this is hypothetical and needs to match your URL scheme)\n",
    "      url = create_noaa_url(state_to_fips[state_upper], row['Valid Date'], row['Valid Date'], quote(state_upper))\n",
    "\n",
    "      print(url)\n",
    "\n",
    "      # Call mine_info and get description\n",
    "      description = mine_info(url)\n",
    "\n",
    "      # Return the description\n",
    "      return description\n",
    "    except:\n",
    "      print('Failed on ' + row['State'] + ' ' + str(row['Valid Date']))\n",
    "      return 'FAILED'"
   ]
  },
  {
   "cell_type": "code",
   "execution_count": null,
   "metadata": {
    "colab": {
     "base_uri": "https://localhost:8080/"
    },
    "id": "LEs_FX33jDC2",
    "outputId": "ca362771-dc61-40da-d75c-bcebb81dbfdb"
   },
   "outputs": [
    {
     "name": "stdout",
     "output_type": "stream",
     "text": [
      "https://www.ncdc.noaa.gov/stormevents/listevents.jsp?eventType=ALL&beginDate_mm=01&beginDate_dd=30&beginDate_yyyy=2002&endDate_mm=01&endDate_dd=30&endDate_yyyy=2002&county=ALL&hailfilter=0.00&tornfilter=0&windfilter=000&sort=DT&submitbutton=Search&statefips=40%2COKLAHOMAhttps://www.ncdc.noaa.gov/stormevents/listevents.jsp?eventType=ALL&beginDate_mm=01&beginDate_dd=30&beginDate_yyyy=2002&endDate_mm=01&endDate_dd=30&endDate_yyyy=2002&county=ALL&hailfilter=0.00&tornfilter=0&windfilter=000&sort=DT&submitbutton=Search&statefips=29%2CMISSOURI\n",
      "\n",
      "https://www.ncdc.noaa.gov/stormevents/listevents.jsp?eventType=ALL&beginDate_mm=03&beginDate_dd=09&beginDate_yyyy=2002&endDate_mm=03&endDate_dd=09&endDate_yyyy=2002&county=ALL&hailfilter=0.00&tornfilter=0&windfilter=000&sort=DT&submitbutton=Search&statefips=26%2CMICHIGAN\n",
      "https://www.ncdc.noaa.gov/stormevents/listevents.jsp?eventType=ALL&beginDate_mm=07&beginDate_dd=20&beginDate_yyyy=2002&endDate_mm=07&endDate_dd=20&endDate_yyyy=2002&county=ALL&hailfilter=0.00&tornfilter=0&windfilter=000&sort=DT&submitbutton=Search&statefips=36%2CNEW%20YORK\n",
      "https://www.ncdc.noaa.gov/stormevents/listevents.jsp?eventType=ALL&beginDate_mm=08&beginDate_dd=28&beginDate_yyyy=2002&endDate_mm=08&endDate_dd=28&endDate_yyyy=2002&county=ALL&hailfilter=0.00&tornfilter=0&windfilter=000&sort=DT&submitbutton=Search&statefips=12%2CFLORIDA\n",
      "https://www.ncdc.noaa.gov/stormevents/listevents.jsp?eventType=ALL&beginDate_mm=10&beginDate_dd=03&beginDate_yyyy=2002&endDate_mm=10&endDate_dd=03&endDate_yyyy=2002&county=ALL&hailfilter=0.00&tornfilter=0&windfilter=000&sort=DT&submitbutton=Search&statefips=22%2CLOUISIANA\n",
      "https://www.ncdc.noaa.gov/stormevents/listevents.jsp?eventType=ALL&beginDate_mm=11&beginDate_dd=06&beginDate_yyyy=2002&endDate_mm=11&endDate_dd=06&endDate_yyyy=2002&county=ALL&hailfilter=0.00&tornfilter=0&windfilter=000&sort=DT&submitbutton=Search&statefips=06%2CCALIFORNIA\n",
      "https://www.ncdc.noaa.gov/stormevents/listevents.jsp?eventType=ALL&beginDate_mm=11&beginDate_dd=17&beginDate_yyyy=2002&endDate_mm=11&endDate_dd=17&endDate_yyyy=2002&county=ALL&hailfilter=0.00&tornfilter=0&windfilter=000&sort=DT&submitbutton=Search&statefips=09%2CCONNECTICUT\n",
      "https://www.ncdc.noaa.gov/stormevents/listevents.jsp?eventType=ALL&beginDate_mm=12&beginDate_dd=03&beginDate_yyyy=2002&endDate_mm=12&endDate_dd=03&endDate_yyyy=2002&county=ALL&hailfilter=0.00&tornfilter=0&windfilter=000&sort=DT&submitbutton=Search&statefips=05%2CARKANSAS\n",
      "https://www.ncdc.noaa.gov/stormevents/listevents.jsp?eventType=ALL&beginDate_mm=12&beginDate_dd=11&beginDate_yyyy=2002&endDate_mm=12&endDate_dd=11&endDate_yyyy=2002&county=ALL&hailfilter=0.00&tornfilter=0&windfilter=000&sort=DT&submitbutton=Search&statefips=51%2CVIRGINIA\n",
      "https://www.ncdc.noaa.gov/stormevents/listevents.jsp?eventType=ALL&beginDate_mm=12&beginDate_dd=14&beginDate_yyyy=2002&endDate_mm=12&endDate_dd=14&endDate_yyyy=2002&county=ALL&hailfilter=0.00&tornfilter=0&windfilter=000&sort=DT&submitbutton=Search&statefips=06%2CCALIFORNIA\n",
      "https://www.ncdc.noaa.gov/stormevents/listevents.jsp?eventType=ALL&beginDate_mm=12&beginDate_dd=19&beginDate_yyyy=2002&endDate_mm=12&endDate_dd=19&endDate_yyyy=2002&county=ALL&hailfilter=0.00&tornfilter=0&windfilter=000&sort=DT&submitbutton=Search&statefips=06%2CCALIFORNIA\n",
      "https://www.ncdc.noaa.gov/stormevents/listevents.jsp?eventType=ALL&beginDate_mm=12&beginDate_dd=25&beginDate_yyyy=2002&endDate_mm=12&endDate_dd=25&endDate_yyyy=2002&county=ALL&hailfilter=0.00&tornfilter=0&windfilter=000&sort=DT&submitbutton=Search&statefips=42%2CPENNSYLVANIA\n",
      "https://www.ncdc.noaa.gov/stormevents/listevents.jsp?eventType=ALL&beginDate_mm=12&beginDate_dd=25&beginDate_yyyy=2002&endDate_mm=12&endDate_dd=25&endDate_yyyy=2002&county=ALL&hailfilter=0.00&tornfilter=0&windfilter=000&sort=DT&submitbutton=Search&statefips=42%2CPENNSYLVANIA\n",
      "https://www.ncdc.noaa.gov/stormevents/listevents.jsp?eventType=ALL&beginDate_mm=02&beginDate_dd=27&beginDate_yyyy=2003&endDate_mm=02&endDate_dd=27&endDate_yyyy=2003&county=ALL&hailfilter=0.00&tornfilter=0&windfilter=000&sort=DT&submitbutton=Search&statefips=37%2CNORTH%20CAROLINA\n",
      "https://www.ncdc.noaa.gov/stormevents/listevents.jsp?eventType=ALL&beginDate_mm=04&beginDate_dd=03&beginDate_yyyy=2003&endDate_mm=04&endDate_dd=03&endDate_yyyy=2003&county=ALL&hailfilter=0.00&tornfilter=0&windfilter=000&sort=DT&submitbutton=Search&statefips=26%2CMICHIGAN\n",
      "https://www.ncdc.noaa.gov/stormevents/listevents.jsp?eventType=ALL&beginDate_mm=04&beginDate_dd=04&beginDate_yyyy=2003&endDate_mm=04&endDate_dd=04&endDate_yyyy=2003&county=ALL&hailfilter=0.00&tornfilter=0&windfilter=000&sort=DT&submitbutton=Search&statefips=36%2CNEW%20YORK\n",
      "https://www.ncdc.noaa.gov/stormevents/listevents.jsp?eventType=ALL&beginDate_mm=05&beginDate_dd=02&beginDate_yyyy=2003&endDate_mm=05&endDate_dd=02&endDate_yyyy=2003&county=ALL&hailfilter=0.00&tornfilter=0&windfilter=000&sort=DT&submitbutton=Search&statefips=37%2CNORTH%20CAROLINA\n",
      "https://www.ncdc.noaa.gov/stormevents/listevents.jsp?eventType=ALL&beginDate_mm=05&beginDate_dd=02&beginDate_yyyy=2003&endDate_mm=05&endDate_dd=02&endDate_yyyy=2003&county=ALL&hailfilter=0.00&tornfilter=0&windfilter=000&sort=DT&submitbutton=Search&statefips=13%2CGEORGIA\n",
      "Failed on MichigaDIRTY 2003-05-15\n",
      "https://www.ncdc.noaa.gov/stormevents/listevents.jsp?eventType=ALL&beginDate_mm=07&beginDate_dd=04&beginDate_yyyy=2003&endDate_mm=07&endDate_dd=04&endDate_yyyy=2003&county=ALL&hailfilter=0.00&tornfilter=0&windfilter=000&sort=DT&submitbutton=Search&statefips=55%2CWISCONSIN\n",
      "https://www.ncdc.noaa.gov/stormevents/listevents.jsp?eventType=ALL&beginDate_mm=07&beginDate_dd=04&beginDate_yyyy=2003&endDate_mm=07&endDate_dd=04&endDate_yyyy=2003&county=ALL&hailfilter=0.00&tornfilter=0&windfilter=000&sort=DT&submitbutton=Search&statefips=26%2CMICHIGAN\n",
      "Failed on Indiana, Ohio 2003-07-04\n",
      "https://www.ncdc.noaa.gov/stormevents/listevents.jsp?eventType=ALL&beginDate_mm=07&beginDate_dd=05&beginDate_yyyy=2003&endDate_mm=07&endDate_dd=05&endDate_yyyy=2003&county=ALL&hailfilter=0.00&tornfilter=0&windfilter=000&sort=DT&submitbutton=Search&statefips=17%2CILLINOIS\n",
      "https://www.ncdc.noaa.gov/stormevents/listevents.jsp?eventType=ALL&beginDate_mm=07&beginDate_dd=07&beginDate_yyyy=2003&endDate_mm=07&endDate_dd=07&endDate_yyyy=2003&county=ALL&hailfilter=0.00&tornfilter=0&windfilter=000&sort=DT&submitbutton=Search&statefips=17%2CILLINOIS\n",
      "https://www.ncdc.noaa.gov/stormevents/listevents.jsp?eventType=ALL&beginDate_mm=07&beginDate_dd=08&beginDate_yyyy=2003&endDate_mm=07&endDate_dd=08&endDate_yyyy=2003&county=ALL&hailfilter=0.00&tornfilter=0&windfilter=000&sort=DT&submitbutton=Search&statefips=39%2COHIO\n",
      "https://www.ncdc.noaa.gov/stormevents/listevents.jsp?eventType=ALL&beginDate_mm=07&beginDate_dd=09&beginDate_yyyy=2003&endDate_mm=07&endDate_dd=09&endDate_yyyy=2003&county=ALL&hailfilter=0.00&tornfilter=0&windfilter=000&sort=DT&submitbutton=Search&statefips=51%2CVIRGINIA\n",
      "https://www.ncdc.noaa.gov/stormevents/listevents.jsp?eventType=ALL&beginDate_mm=07&beginDate_dd=15&beginDate_yyyy=2003&endDate_mm=07&endDate_dd=15&endDate_yyyy=2003&county=ALL&hailfilter=0.00&tornfilter=0&windfilter=000&sort=DT&submitbutton=Search&statefips=48%2CTEXAS\n",
      "https://www.ncdc.noaa.gov/stormevents/listevents.jsp?eventType=ALL&beginDate_mm=07&beginDate_dd=21&beginDate_yyyy=2003&endDate_mm=07&endDate_dd=21&endDate_yyyy=2003&county=ALL&hailfilter=0.00&tornfilter=0&windfilter=000&sort=DT&submitbutton=Search&statefips=42%2CPENNSYLVANIA\n",
      "https://www.ncdc.noaa.gov/stormevents/listevents.jsp?eventType=ALL&beginDate_mm=08&beginDate_dd=26&beginDate_yyyy=2003&endDate_mm=08&endDate_dd=26&endDate_yyyy=2003&county=ALL&hailfilter=0.00&tornfilter=0&windfilter=000&sort=DT&submitbutton=Search&statefips=24%2CMARYLAND\n",
      "https://www.ncdc.noaa.gov/stormevents/listevents.jsp?eventType=ALL&beginDate_mm=08&beginDate_dd=26&beginDate_yyyy=2003&endDate_mm=08&endDate_dd=26&endDate_yyyy=2003&county=ALL&hailfilter=0.00&tornfilter=0&windfilter=000&sort=DT&submitbutton=Search&statefips=24%2CMARYLAND\n",
      "Failed on North Carolina, Virginia 2003-09-18\n",
      "https://www.ncdc.noaa.gov/stormevents/listevents.jsp?eventType=ALL&beginDate_mm=09&beginDate_dd=18&beginDate_yyyy=2003&endDate_mm=09&endDate_dd=18&endDate_yyyy=2003&county=ALL&hailfilter=0.00&tornfilter=0&windfilter=000&sort=DT&submitbutton=Search&statefips=37%2CNORTH%20CAROLINA\n"
     ]
    },
    {
     "name": "stdout",
     "output_type": "stream",
     "text": [
      "https://www.ncdc.noaa.gov/stormevents/listevents.jsp?eventType=ALL&beginDate_mm=09&beginDate_dd=18&beginDate_yyyy=2003&endDate_mm=09&endDate_dd=18&endDate_yyyy=2003&county=ALL&hailfilter=0.00&tornfilter=0&windfilter=000&sort=DT&submitbutton=Search&statefips=24%2CMARYLAND\n",
      "Failed on Pennsylvania, Maryland, Virginia 2003-09-18\n",
      "https://www.ncdc.noaa.gov/stormevents/listevents.jsp?eventType=ALL&beginDate_mm=09&beginDate_dd=18&beginDate_yyyy=2003&endDate_mm=09&endDate_dd=18&endDate_yyyy=2003&county=ALL&hailfilter=0.00&tornfilter=0&windfilter=000&sort=DT&submitbutton=Search&statefips=37%2CNORTH%20CAROLINA\n",
      "https://www.ncdc.noaa.gov/stormevents/listevents.jsp?eventType=ALL&beginDate_mm=09&beginDate_dd=18&beginDate_yyyy=2003&endDate_mm=09&endDate_dd=18&endDate_yyyy=2003&county=ALL&hailfilter=0.00&tornfilter=0&windfilter=000&sort=DT&submitbutton=Search&statefips=24%2CMARYLAND\n",
      "Failed on All PPL includingDIRTY 2003-09-18\n",
      "https://www.ncdc.noaa.gov/stormevents/listevents.jsp?eventType=ALL&beginDate_mm=10&beginDate_dd=26&beginDate_yyyy=2003&endDate_mm=10&endDate_dd=26&endDate_yyyy=2003&county=ALL&hailfilter=0.00&tornfilter=0&windfilter=000&sort=DT&submitbutton=Search&statefips=06%2CCALIFORNIA\n",
      "Failed on Maryland, Virginia 2003-11-05\n",
      "https://www.ncdc.noaa.gov/stormevents/listevents.jsp?eventType=ALL&beginDate_mm=11&beginDate_dd=12&beginDate_yyyy=2003&endDate_mm=11&endDate_dd=12&endDate_yyyy=2003&county=ALL&hailfilter=0.00&tornfilter=0&windfilter=000&sort=DT&submitbutton=Search&statefips=17%2CILLINOIS\n",
      "https://www.ncdc.noaa.gov/stormevents/listevents.jsp?eventType=ALL&beginDate_mm=11&beginDate_dd=12&beginDate_yyyy=2003&endDate_mm=11&endDate_dd=12&endDate_yyyy=2003&county=ALL&hailfilter=0.00&tornfilter=0&windfilter=000&sort=DT&submitbutton=Search&statefips=26%2CMICHIGAN\n",
      "https://www.ncdc.noaa.gov/stormevents/listevents.jsp?eventType=ALL&beginDate_mm=11&beginDate_dd=12&beginDate_yyyy=2003&endDate_mm=11&endDate_dd=12&endDate_yyyy=2003&county=ALL&hailfilter=0.00&tornfilter=0&windfilter=000&sort=DT&submitbutton=Search&statefips=26%2CMICHIGAN\n",
      "https://www.ncdc.noaa.gov/stormevents/listevents.jsp?eventType=ALL&beginDate_mm=11&beginDate_dd=13&beginDate_yyyy=2003&endDate_mm=11&endDate_dd=13&endDate_yyyy=2003&county=ALL&hailfilter=0.00&tornfilter=0&windfilter=000&sort=DT&submitbutton=Search&statefips=24%2CMARYLAND\n",
      "https://www.ncdc.noaa.gov/stormevents/listevents.jsp?eventType=ALL&beginDate_mm=11&beginDate_dd=13&beginDate_yyyy=2003&endDate_mm=11&endDate_dd=13&endDate_yyyy=2003&county=ALL&hailfilter=0.00&tornfilter=0&windfilter=000&sort=DT&submitbutton=Search&statefips=51%2CVIRGINIA\n",
      "https://www.ncdc.noaa.gov/stormevents/listevents.jsp?eventType=ALL&beginDate_mm=11&beginDate_dd=13&beginDate_yyyy=2003&endDate_mm=11&endDate_dd=13&endDate_yyyy=2003&county=ALL&hailfilter=0.00&tornfilter=0&windfilter=000&sort=DT&submitbutton=Search&statefips=36%2CNEW%20YORK\n",
      "https://www.ncdc.noaa.gov/stormevents/listevents.jsp?eventType=ALL&beginDate_mm=11&beginDate_dd=13&beginDate_yyyy=2003&endDate_mm=11&endDate_dd=13&endDate_yyyy=2003&county=ALL&hailfilter=0.00&tornfilter=0&windfilter=000&sort=DT&submitbutton=Search&statefips=53%2CWASHINGTON\n",
      "Failed on Eastern portions of King County and Pierce CountyDIRTY 2003-12-04\n",
      "https://www.ncdc.noaa.gov/stormevents/listevents.jsp?eventType=ALL&beginDate_mm=12&beginDate_dd=22&beginDate_yyyy=2003&endDate_mm=12&endDate_dd=22&endDate_yyyy=2003&county=ALL&hailfilter=0.00&tornfilter=0&windfilter=000&sort=DT&submitbutton=Search&statefips=06%2CCALIFORNIA\n",
      "https://www.ncdc.noaa.gov/stormevents/listevents.jsp?eventType=ALL&beginDate_mm=12&beginDate_dd=28&beginDate_yyyy=2003&endDate_mm=12&endDate_dd=28&endDate_yyyy=2003&county=ALL&hailfilter=0.00&tornfilter=0&windfilter=000&sort=DT&submitbutton=Search&statefips=06%2CCALIFORNIA\n",
      "https://www.ncdc.noaa.gov/stormevents/listevents.jsp?eventType=ALL&beginDate_mm=01&beginDate_dd=01&beginDate_yyyy=2004&endDate_mm=01&endDate_dd=01&endDate_yyyy=2004&county=ALL&hailfilter=0.00&tornfilter=0&windfilter=000&sort=DT&submitbutton=Search&statefips=06%2CCALIFORNIA\n",
      "Failed on King CountyDIRTY 2004-01-07\n",
      "Failed on North Carolina, South Carolina 2004-01-26\n",
      "https://www.ncdc.noaa.gov/stormevents/listevents.jsp?eventType=ALL&beginDate_mm=01&beginDate_dd=26&beginDate_yyyy=2004&endDate_mm=01&endDate_dd=26&endDate_yyyy=2004&county=ALL&hailfilter=0.00&tornfilter=0&windfilter=000&sort=DT&submitbutton=Search&statefips=45%2CSOUTH%20CAROLINA\n",
      "https://www.ncdc.noaa.gov/stormevents/listevents.jsp?eventType=ALL&beginDate_mm=01&beginDate_dd=26&beginDate_yyyy=2004&endDate_mm=01&endDate_dd=26&endDate_yyyy=2004&county=ALL&hailfilter=0.00&tornfilter=0&windfilter=000&sort=DT&submitbutton=Search&statefips=13%2CGEORGIA\n",
      "https://www.ncdc.noaa.gov/stormevents/listevents.jsp?eventType=ALL&beginDate_mm=01&beginDate_dd=28&beginDate_yyyy=2004&endDate_mm=01&endDate_dd=28&endDate_yyyy=2004&county=ALL&hailfilter=0.00&tornfilter=0&windfilter=000&sort=DT&submitbutton=Search&statefips=24%2CMARYLAND\n",
      "Failed on Pennsylvania, Maryland, Virginia 2004-02-05\n",
      "https://www.ncdc.noaa.gov/stormevents/listevents.jsp?eventType=ALL&beginDate_mm=02&beginDate_dd=17&beginDate_yyyy=2004&endDate_mm=02&endDate_dd=17&endDate_yyyy=2004&county=ALL&hailfilter=0.00&tornfilter=0&windfilter=000&sort=DT&submitbutton=Search&statefips=06%2CCALIFORNIA\n",
      "https://www.ncdc.noaa.gov/stormevents/listevents.jsp?eventType=ALL&beginDate_mm=02&beginDate_dd=25&beginDate_yyyy=2004&endDate_mm=02&endDate_dd=25&endDate_yyyy=2004&county=ALL&hailfilter=0.00&tornfilter=0&windfilter=000&sort=DT&submitbutton=Search&statefips=06%2CCALIFORNIA\n",
      "https://www.ncdc.noaa.gov/stormevents/listevents.jsp?eventType=ALL&beginDate_mm=02&beginDate_dd=26&beginDate_yyyy=2004&endDate_mm=02&endDate_dd=26&endDate_yyyy=2004&county=ALL&hailfilter=0.00&tornfilter=0&windfilter=000&sort=DT&submitbutton=Search&statefips=13%2CGEORGIA\n",
      "https://www.ncdc.noaa.gov/stormevents/listevents.jsp?eventType=ALL&beginDate_mm=03&beginDate_dd=04&beginDate_yyyy=2004&endDate_mm=03&endDate_dd=04&endDate_yyyy=2004&county=ALL&hailfilter=0.00&tornfilter=0&windfilter=000&sort=DT&submitbutton=Search&statefips=48%2CTEXAS\n",
      "Failed on North Carolina, South Carolina 2004-03-07\n",
      "https://www.ncdc.noaa.gov/stormevents/listevents.jsp?eventType=ALL&beginDate_mm=04&beginDate_dd=10&beginDate_yyyy=2004&endDate_mm=04&endDate_dd=10&endDate_yyyy=2004&county=ALL&hailfilter=0.00&tornfilter=0&windfilter=000&sort=DT&submitbutton=Search&statefips=48%2CTEXAS\n",
      "https://www.ncdc.noaa.gov/stormevents/listevents.jsp?eventType=ALL&beginDate_mm=04&beginDate_dd=12&beginDate_yyyy=2004&endDate_mm=04&endDate_dd=12&endDate_yyyy=2004&county=ALL&hailfilter=0.00&tornfilter=0&windfilter=000&sort=DT&submitbutton=Search&statefips=12%2CFLORIDA\n",
      "https://www.ncdc.noaa.gov/stormevents/listevents.jsp?eventType=ALL&beginDate_mm=04&beginDate_dd=27&beginDate_yyyy=2004&endDate_mm=04&endDate_dd=27&endDate_yyyy=2004&county=ALL&hailfilter=0.00&tornfilter=0&windfilter=000&sort=DT&submitbutton=Search&statefips=53%2CWASHINGTON\n",
      "https://www.ncdc.noaa.gov/stormevents/listevents.jsp?eventType=ALL&beginDate_mm=05&beginDate_dd=03&beginDate_yyyy=2004&endDate_mm=05&endDate_dd=03&endDate_yyyy=2004&county=ALL&hailfilter=0.00&tornfilter=0&windfilter=000&sort=DT&submitbutton=Search&statefips=06%2CCALIFORNIA\n",
      "https://www.ncdc.noaa.gov/stormevents/listevents.jsp?eventType=ALL&beginDate_mm=05&beginDate_dd=11&beginDate_yyyy=2004&endDate_mm=05&endDate_dd=11&endDate_yyyy=2004&county=ALL&hailfilter=0.00&tornfilter=0&windfilter=000&sort=DT&submitbutton=Search&statefips=48%2CTEXAS\n",
      "https://www.ncdc.noaa.gov/stormevents/listevents.jsp?eventType=ALL&beginDate_mm=05&beginDate_dd=21&beginDate_yyyy=2004&endDate_mm=05&endDate_dd=21&endDate_yyyy=2004&county=ALL&hailfilter=0.00&tornfilter=0&windfilter=000&sort=DT&submitbutton=Search&statefips=26%2CMICHIGAN\n",
      "Failed on MichigaDIRTY 2004-05-21\n",
      "https://www.ncdc.noaa.gov/stormevents/listevents.jsp?eventType=ALL&beginDate_mm=05&beginDate_dd=21&beginDate_yyyy=2004&endDate_mm=05&endDate_dd=21&endDate_yyyy=2004&county=ALL&hailfilter=0.00&tornfilter=0&windfilter=000&sort=DT&submitbutton=Search&statefips=26%2CMICHIGAN\n",
      "Failed on West Virginia, Pennsylvania, Maryland, Virginia 2004-05-21\n",
      "https://www.ncdc.noaa.gov/stormevents/listevents.jsp?eventType=ALL&beginDate_mm=05&beginDate_dd=21&beginDate_yyyy=2004&endDate_mm=05&endDate_dd=21&endDate_yyyy=2004&county=ALL&hailfilter=0.00&tornfilter=0&windfilter=000&sort=DT&submitbutton=Search&statefips=39%2COHIO\n"
     ]
    },
    {
     "name": "stdout",
     "output_type": "stream",
     "text": [
      "https://www.ncdc.noaa.gov/stormevents/listevents.jsp?eventType=ALL&beginDate_mm=05&beginDate_dd=21&beginDate_yyyy=2004&endDate_mm=05&endDate_dd=21&endDate_yyyy=2004&county=ALL&hailfilter=0.00&tornfilter=0&windfilter=000&sort=DT&submitbutton=Search&statefips=39%2COHIO\n",
      "https://www.ncdc.noaa.gov/stormevents/listevents.jsp?eventType=ALL&beginDate_mm=06&beginDate_dd=01&beginDate_yyyy=2004&endDate_mm=06&endDate_dd=01&endDate_yyyy=2004&county=ALL&hailfilter=0.00&tornfilter=0&windfilter=000&sort=DT&submitbutton=Search&statefips=48%2CTEXAS\n",
      "https://www.ncdc.noaa.gov/stormevents/listevents.jsp?eventType=ALL&beginDate_mm=06&beginDate_dd=02&beginDate_yyyy=2004&endDate_mm=06&endDate_dd=02&endDate_yyyy=2004&county=ALL&hailfilter=0.00&tornfilter=0&windfilter=000&sort=DT&submitbutton=Search&statefips=40%2COKLAHOMA\n",
      "https://www.ncdc.noaa.gov/stormevents/listevents.jsp?eventType=ALL&beginDate_mm=06&beginDate_dd=02&beginDate_yyyy=2004&endDate_mm=06&endDate_dd=02&endDate_yyyy=2004&county=ALL&hailfilter=0.00&tornfilter=0&windfilter=000&sort=DT&submitbutton=Search&statefips=22%2CLOUISIANA\n",
      "https://www.ncdc.noaa.gov/stormevents/listevents.jsp?eventType=ALL&beginDate_mm=06&beginDate_dd=12&beginDate_yyyy=2004&endDate_mm=06&endDate_dd=12&endDate_yyyy=2004&county=ALL&hailfilter=0.00&tornfilter=0&windfilter=000&sort=DT&submitbutton=Search&statefips=31%2CNEBRASKA\n",
      "Failed on Alabama, Georgia 2004-06-23\n",
      "https://www.ncdc.noaa.gov/stormevents/listevents.jsp?eventType=ALL&beginDate_mm=07&beginDate_dd=07&beginDate_yyyy=2004&endDate_mm=07&endDate_dd=07&endDate_yyyy=2004&county=ALL&hailfilter=0.00&tornfilter=0&windfilter=000&sort=DT&submitbutton=Search&statefips=51%2CVIRGINIA\n",
      "https://www.ncdc.noaa.gov/stormevents/listevents.jsp?eventType=ALL&beginDate_mm=07&beginDate_dd=13&beginDate_yyyy=2004&endDate_mm=07&endDate_dd=13&endDate_yyyy=2004&county=ALL&hailfilter=0.00&tornfilter=0&windfilter=000&sort=DT&submitbutton=Search&statefips=18%2CINDIANA\n",
      "Failed on Regions of  San Juan, Caguas, Ponce, Bayamon, Carolina, Arecibo and MayaguezDIRTY 2004-07-20\n",
      "https://www.ncdc.noaa.gov/stormevents/listevents.jsp?eventType=ALL&beginDate_mm=07&beginDate_dd=21&beginDate_yyyy=2004&endDate_mm=07&endDate_dd=21&endDate_yyyy=2004&county=ALL&hailfilter=0.00&tornfilter=0&windfilter=000&sort=DT&submitbutton=Search&statefips=17%2CILLINOIS\n",
      "Failed on Alabama, Georgia 2004-07-25\n",
      "https://www.ncdc.noaa.gov/stormevents/listevents.jsp?eventType=ALL&beginDate_mm=08&beginDate_dd=03&beginDate_yyyy=2004&endDate_mm=08&endDate_dd=03&endDate_yyyy=2004&county=ALL&hailfilter=0.00&tornfilter=0&windfilter=000&sort=DT&submitbutton=Search&statefips=17%2CILLINOIS\n",
      "https://www.ncdc.noaa.gov/stormevents/listevents.jsp?eventType=ALL&beginDate_mm=08&beginDate_dd=13&beginDate_yyyy=2004&endDate_mm=08&endDate_dd=13&endDate_yyyy=2004&county=ALL&hailfilter=0.00&tornfilter=0&windfilter=000&sort=DT&submitbutton=Search&statefips=12%2CFLORIDA\n",
      "https://www.ncdc.noaa.gov/stormevents/listevents.jsp?eventType=ALL&beginDate_mm=08&beginDate_dd=13&beginDate_yyyy=2004&endDate_mm=08&endDate_dd=13&endDate_yyyy=2004&county=ALL&hailfilter=0.00&tornfilter=0&windfilter=000&sort=DT&submitbutton=Search&statefips=12%2CFLORIDA\n",
      "https://www.ncdc.noaa.gov/stormevents/listevents.jsp?eventType=ALL&beginDate_mm=08&beginDate_dd=13&beginDate_yyyy=2004&endDate_mm=08&endDate_dd=13&endDate_yyyy=2004&county=ALL&hailfilter=0.00&tornfilter=0&windfilter=000&sort=DT&submitbutton=Search&statefips=12%2CFLORIDA\n",
      "https://www.ncdc.noaa.gov/stormevents/listevents.jsp?eventType=ALL&beginDate_mm=08&beginDate_dd=13&beginDate_yyyy=2004&endDate_mm=08&endDate_dd=13&endDate_yyyy=2004&county=ALL&hailfilter=0.00&tornfilter=0&windfilter=000&sort=DT&submitbutton=Search&statefips=12%2CFLORIDA\n"
     ]
    }
   ],
   "source": [
    "# Spawn 16 workers\n",
    "# switching and scheduling\n",
    "workers = 16\n",
    "\n",
    "with ThreadPoolExecutor(max_workers=workers) as executor:\n",
    "    rows_list = [row for _, row in df.iterrows()]\n",
    "    result = list(executor.map(get_description, rows_list))\n",
    "\n",
    "# Assign the result back to the DataFrame\n",
    "df['description'] = result"
   ]
  },
  {
   "cell_type": "code",
   "execution_count": 11,
   "metadata": {
    "colab": {
     "base_uri": "https://localhost:8080/",
     "height": 141
    },
    "id": "VTbEqgYvyOSE",
    "outputId": "d59bf2a6-3cab-4cfc-ee36-e9a31f296206"
   },
   "outputs": [],
   "source": [
    "df.to_csv('all_weather_events_labeled.csv')"
   ]
  },
  {
   "cell_type": "code",
   "execution_count": 12,
   "metadata": {
    "id": "HkFwZ_nLwBFq"
   },
   "outputs": [],
   "source": [
    "#for m in gai.list_models():\n",
    "#  if 'generateContent' in m.supported_generation_methods:\n",
    "#    print(m)"
   ]
  },
  {
   "cell_type": "code",
   "execution_count": 13,
   "metadata": {
    "id": "aoGlZlw4v3Ex"
   },
   "outputs": [],
   "source": [
    "#def send_prompt(model, text):\n",
    "#  response = model.generate_content([text])\n",
    "#  print(response)\n",
    "#  return response"
   ]
  },
  {
   "cell_type": "code",
   "execution_count": 14,
   "metadata": {
    "id": "8QTmrjKbwHPU"
   },
   "outputs": [],
   "source": [
    "#model = gai.GenerativeModel('gemini-1.0-pro')\n",
    "\n",
    "#response = send_prompt(model, \"Hi\")\n",
    "#print(response)"
   ]
  },
  {
   "cell_type": "code",
   "execution_count": 15,
   "metadata": {
    "id": "sVDAO-JWwrAt"
   },
   "outputs": [],
   "source": [
    "#response.text"
   ]
  }
 ],
 "metadata": {
  "colab": {
   "provenance": []
  },
  "kernelspec": {
   "display_name": "Python 3 (ipykernel)",
   "language": "python",
   "name": "python3"
  },
  "language_info": {
   "codemirror_mode": {
    "name": "ipython",
    "version": 3
   },
   "file_extension": ".py",
   "mimetype": "text/x-python",
   "name": "python",
   "nbconvert_exporter": "python",
   "pygments_lexer": "ipython3",
   "version": "3.9.13"
  }
 },
 "nbformat": 4,
 "nbformat_minor": 1
}
