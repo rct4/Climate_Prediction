{
 "cells": [
  {
   "cell_type": "code",
   "execution_count": 2,
   "metadata": {},
   "outputs": [],
   "source": [
    "import cdsapi\n",
    "import climetlab as cml\n",
    "import numpy as np\n",
    "import matplotlib.pyplot as plt\n",
    "import geopandas\n",
    "import geopy\n",
    "import xarray as xr\n",
    "import pandas as pd\n",
    "\n",
    "import csv\n",
    "import os\n",
    "import pickle\n",
    "\n",
    "import scipy\n",
    "import sklearn \n",
    "from sklearn.cluster import KMeans\n",
    "\n",
    "import seaborn as sns\n",
    "\n",
    "\n",
    "\n",
    "power_data = []\n",
    "\n",
    "with open('../datafiles/eaglei_outages/eaglei_outages/eaglei_outages_2018.csv', mode='r') as file:\n",
    "    csvFile = csv.DictReader(file)\n",
    "    for lines in csvFile:\n",
    "        power_data.append(lines)"
   ]
  },
  {
   "cell_type": "code",
   "execution_count": 3,
   "metadata": {},
   "outputs": [
    {
     "name": "stdout",
     "output_type": "stream",
     "text": [
      "{'fips_code': '01015', 'county': 'Calhoun', 'state': 'Alabama', 'sum': '1', 'run_start_time': '2018-01-01 00:00:00'}\n",
      "{'fips_code': '01029', 'county': 'Cleburne', 'state': 'Alabama', 'sum': '5', 'run_start_time': '2018-01-01 00:00:00'}\n",
      "{'fips_code': '01057', 'county': 'Fayette', 'state': 'Alabama', 'sum': '16', 'run_start_time': '2018-01-01 00:00:00'}\n",
      "{'fips_code': '01073', 'county': 'Jefferson', 'state': 'Alabama', 'sum': '6', 'run_start_time': '2018-01-01 00:00:00'}\n",
      "{'fips_code': '01097', 'county': 'Mobile', 'state': 'Alabama', 'sum': '2', 'run_start_time': '2018-01-01 00:00:00'}\n",
      "{'fips_code': '01101', 'county': 'Montgomery', 'state': 'Alabama', 'sum': '1', 'run_start_time': '2018-01-01 00:00:00'}\n",
      "{'fips_code': '01117', 'county': 'Shelby', 'state': 'Alabama', 'sum': '2', 'run_start_time': '2018-01-01 00:00:00'}\n",
      "{'fips_code': '01121', 'county': 'Talladega', 'state': 'Alabama', 'sum': '1', 'run_start_time': '2018-01-01 00:00:00'}\n",
      "{'fips_code': '01125', 'county': 'Tuscaloosa', 'state': 'Alabama', 'sum': '5', 'run_start_time': '2018-01-01 00:00:00'}\n",
      "{'fips_code': '02122', 'county': 'Kenai Peninsula', 'state': 'Alaska', 'sum': '25', 'run_start_time': '2018-01-01 00:00:00'}\n"
     ]
    }
   ],
   "source": [
    "for i in range(10):\n",
    "    print(power_data[i])"
   ]
  },
  {
   "cell_type": "code",
   "execution_count": null,
   "metadata": {},
   "outputs": [],
   "source": []
  }
 ],
 "metadata": {
  "kernelspec": {
   "display_name": "workenv",
   "language": "python",
   "name": "python3"
  },
  "language_info": {
   "codemirror_mode": {
    "name": "ipython",
    "version": 3
   },
   "file_extension": ".py",
   "mimetype": "text/x-python",
   "name": "python",
   "nbconvert_exporter": "python",
   "pygments_lexer": "ipython3",
   "version": "3.9.18"
  }
 },
 "nbformat": 4,
 "nbformat_minor": 2
}
