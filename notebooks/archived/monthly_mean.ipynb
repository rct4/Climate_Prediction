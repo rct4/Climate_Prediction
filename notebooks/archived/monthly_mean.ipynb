{
 "cells": [
  {
   "cell_type": "code",
   "execution_count": 3,
   "metadata": {},
   "outputs": [],
   "source": [
    "import cdsapi\n",
    "import climetlab as cml\n",
    "import numpy as np\n",
    "import matplotlib.pyplot as plt\n",
    "import geopandas\n",
    "import geopy\n",
    "import xarray as xr\n",
    "\n",
    "import csv"
   ]
  },
  {
   "cell_type": "code",
   "execution_count": 1,
   "metadata": {},
   "outputs": [],
   "source": [
    "states = [\"Alaska\", \"Alabama\", \"Arkansas\", \"Arizona\", \"California\", \"Colorado\", \"Connecticut\", \"Delaware\", \"Florida\", \"Georgia\", \"Hawaii\", \"Iowa\", \"Idaho\", \"Illinois\", \"Indiana\", \"Kansas\", \"Kentucky\", \"Louisiana\", \"Massachusetts\", \"Maryland\", \"Maine\", \"Michigan\", \"Minnesota\", \"Missouri\", \"Mississippi\", \"Montana\", \"North Carolina\", \"North Dakota\", \"Nebraska\", \"New Hampshire\", \"New Jersey\", \"New Mexico\", \"Nevada\", \"New York\", \"Ohio\", \"Oklahoma\", \"Oregon\", \"Pennsylvania\", \"Rhode Island\", \"South Carolina\", \"South Dakota\", \"Tennessee\", \"Texas\", \"Utah\", \"Virginia\", \"Vermont\", \"Washington\", \"Wisconsin\", \"West Virginia\", \"Wyoming\"]"
   ]
  },
  {
   "cell_type": "code",
   "execution_count": 6,
   "metadata": {},
   "outputs": [
    {
     "name": "stderr",
     "output_type": "stream",
     "text": [
      "2024-03-01 11:42:48,868 INFO Welcome to the CDS\n",
      "2024-03-01 11:42:48,869 INFO Sending request to https://cds.climate.copernicus.eu/api/v2/resources/reanalysis-era5-single-levels-monthly-means\n",
      "2024-03-01 11:42:49,105 INFO Request is queued\n",
      "2024-03-01 12:51:31,415 INFO Request is running\n",
      "2024-03-01 13:09:37,455 INFO Request is completed\n",
      "2024-03-01 13:09:37,456 INFO Downloading https://download-0000-clone.copernicus-climate.eu/cache-compute-0000/cache/data6/adaptor.mars.internal-1709320072.148346-1866-4-9e7442d5-7e56-4fc9-876f-a01a823ea963.nc to ../../a/state_means/global_mean.nc (380.2M)\n",
      "2024-03-01 13:10:14,751 INFO Download rate 10.2M/s   \n"
     ]
    },
    {
     "data": {
      "text/plain": [
       "Result(content_length=398695868,content_type=application/x-netcdf,location=https://download-0000-clone.copernicus-climate.eu/cache-compute-0000/cache/data6/adaptor.mars.internal-1709320072.148346-1866-4-9e7442d5-7e56-4fc9-876f-a01a823ea963.nc)"
      ]
     },
     "execution_count": 6,
     "metadata": {},
     "output_type": "execute_result"
    }
   ],
   "source": [
    "c = cdsapi.Client()\n",
    "c.retrieve(\n",
    "'reanalysis-era5-single-levels-monthly-means',\n",
    "{\n",
    "    'format': 'netcdf',\n",
    "    'product_type': 'monthly_averaged_reanalysis',\n",
    "    'variable': [\n",
    "        '10m_u_component_of_wind', '10m_v_component_of_wind', '2m_temperature',\n",
    "        'instantaneous_10m_wind_gust', 'mean_sea_level_pressure', 'surface_pressure',\n",
    "        'total_precipitation', 'snowfall',\n",
    "    ],\n",
    "    'month': [\n",
    "        '01', '02', '03',\n",
    "        '04', '05', '06',\n",
    "        '07', '08', '09',\n",
    "        '10', '11', '12',\n",
    "    ],\n",
    "    'year': [\n",
    "        '2022', '2023',\n",
    "    ],\n",
    "    'time': '00:00',\n",
    "},\n",
    "'../../a/state_means/global_mean.nc')\n"
   ]
  },
  {
   "cell_type": "code",
   "execution_count": null,
   "metadata": {},
   "outputs": [],
   "source": []
  }
 ],
 "metadata": {
  "kernelspec": {
   "display_name": "workenv",
   "language": "python",
   "name": "python3"
  },
  "language_info": {
   "codemirror_mode": {
    "name": "ipython",
    "version": 3
   },
   "file_extension": ".py",
   "mimetype": "text/x-python",
   "name": "python",
   "nbconvert_exporter": "python",
   "pygments_lexer": "ipython3",
   "version": "3.9.18"
  }
 },
 "nbformat": 4,
 "nbformat_minor": 2
}
