{
 "cells": [
  {
   "cell_type": "code",
   "execution_count": 1,
   "metadata": {},
   "outputs": [],
   "source": [
    "import cdsapi\n",
    "import climetlab as cml\n",
    "import numpy as np\n",
    "import matplotlib.pyplot as plt\n",
    "import geopandas\n",
    "import geopy\n",
    "import xarray as xr\n",
    "import pandas as pd\n",
    "\n",
    "\n",
    "import csv\n",
    "import os\n",
    "import pickle\n",
    "import os.path"
   ]
  },
  {
   "cell_type": "code",
   "execution_count": 2,
   "metadata": {},
   "outputs": [],
   "source": [
    "states = [\"Alaska\", \"Alabama\", \"Arkansas\", \"Arizona\", \"California\", \"Colorado\", \"Connecticut\", \"Delaware\", \"Florida\", \"Georgia\", \"Hawaii\", \"Iowa\", \"Idaho\", \"Illinois\", \"Indiana\", \"Kansas\", \"Kentucky\", \"Louisiana\", \"Massachusetts\", \"Maryland\", \"Maine\", \"Michigan\", \"Minnesota\", \"Missouri\", \"Mississippi\", \"Montana\", \"North Carolina\", \"North Dakota\", \"Nebraska\", \"New Hampshire\", \"New Jersey\", \"New Mexico\", \"Nevada\", \"New York\", \"Ohio\", \"Oklahoma\", \"Oregon\", \"Pennsylvania\", \"Rhode Island\", \"South Carolina\", \"South Dakota\", \"Tennessee\", \"Texas\", \"Utah\", \"Virginia\", \"Vermont\", \"Washington\", \"Wisconsin\", \"West Virginia\", \"Wyoming\"]"
   ]
  },
  {
   "cell_type": "code",
   "execution_count": 3,
   "metadata": {},
   "outputs": [
    {
     "name": "stderr",
     "output_type": "stream",
     "text": [
      "2024-04-11 08:40:54,529 INFO Welcome to the CDS\n",
      "2024-04-11 08:40:54,530 INFO Sending request to https://cds.climate.copernicus.eu/api/v2/resources/reanalysis-era5-single-levels-monthly-means\n",
      "2024-04-11 08:40:54,950 INFO Request is queued\n",
      "2024-04-11 08:40:56,085 INFO Request is running\n",
      "2024-04-11 08:47:15,517 INFO Request is completed\n",
      "2024-04-11 08:47:15,519 INFO Downloading https://download-0006-clone.copernicus-climate.eu/cache-compute-0006/cache/data8/adaptor.mars.internal-1712843037.3863301-22708-5-57272b6e-f29f-495a-9101-694366e43c5e.nc to ../../a/state_means/global_mean.nc (4.1G)\n",
      "2024-04-11 10:20:13,485 INFO Download rate 767.8K/s      \n"
     ]
    },
    {
     "data": {
      "text/plain": [
       "Result(content_length=4385538432,content_type=application/x-netcdf,location=https://download-0006-clone.copernicus-climate.eu/cache-compute-0006/cache/data8/adaptor.mars.internal-1712843037.3863301-22708-5-57272b6e-f29f-495a-9101-694366e43c5e.nc)"
      ]
     },
     "execution_count": 3,
     "metadata": {},
     "output_type": "execute_result"
    }
   ],
   "source": [
    "c = cdsapi.Client()\n",
    "c.retrieve(\n",
    "'reanalysis-era5-single-levels-monthly-means',\n",
    "{\n",
    "    'format': 'netcdf',\n",
    "    'product_type': 'monthly_averaged_reanalysis',\n",
    "    'variable': [\n",
    "        '10m_u_component_of_wind', '10m_v_component_of_wind', '2m_temperature',\n",
    "        'instantaneous_10m_wind_gust', 'mean_sea_level_pressure', 'surface_pressure',\n",
    "        'total_precipitation', 'snowfall',\n",
    "    ],\n",
    "    'month': [\n",
    "        '01', '02', '03',\n",
    "        '04', '05', '06',\n",
    "        '07', '08', '09',\n",
    "        '10', '11', '12',\n",
    "    ],\n",
    "    'year': [\n",
    "        '2002', '2003', '2004', '2005', '2006', '2007', '2008', '2009', '2010', '2011', '2012', '2013', '2014', '2015', '2016', '2017', '2018', '2019', '2020', '2021', '2022', '2023',\n",
    "    ],\n",
    "    'time': ['00:00', '12:00',]\n",
    "},\n",
    "'../../a/state_means/global_mean.nc')\n"
   ]
  },
  {
   "cell_type": "code",
   "execution_count": 3,
   "metadata": {},
   "outputs": [],
   "source": [
    "tablev2 = pd.read_csv(\"../tables/state_regularized_v2.csv\")"
   ]
  },
  {
   "cell_type": "code",
   "execution_count": 11,
   "metadata": {},
   "outputs": [
    {
     "name": "stdout",
     "output_type": "stream",
     "text": [
      "      Unnamed: 0      Event Type  Valid Date Valid Time  \\\n",
      "0              1       Ice Storm  2002-01-29        NaN   \n",
      "1              0       Ice Storm  2002-01-30    6:00:00   \n",
      "2              2       Ice Storm  2002-01-30   16:00:00   \n",
      "3              3  Severe Weather  2002-03-09    0:00:00   \n",
      "4              4            Fire  2002-07-20   12:40:00   \n",
      "...          ...             ...         ...        ...   \n",
      "1658        1268  Severe Weather  2023-03-31   20:49:00   \n",
      "1659        1269  Severe Weather  2023-04-01   14:00:00   \n",
      "1660        1270  Severe Weather  2023-04-29    0:00:00   \n",
      "1661        1271  Severe Weather  2023-05-01    5:16:00   \n",
      "1662        1272  Severe Weather  2023-05-22   15:39:00   \n",
      "\n",
      "                                                  State       Cities  \\\n",
      "0                                                   NaN  Kansas City   \n",
      "1                                              Oklahoma          NaN   \n",
      "2                                              Missouri          NaN   \n",
      "3                                              Michigan          NaN   \n",
      "4                                              New York          NaN   \n",
      "...                                                 ...          ...   \n",
      "1658                                           Illinois          NaN   \n",
      "1659                      West Virginia, Ohio, Virginia          NaN   \n",
      "1660                                              Texas          NaN   \n",
      "1661  New Hampshire, Maine, Massachusetts, Connectic...          NaN   \n",
      "1662                                            Florida          NaN   \n",
      "\n",
      "                                               Counties Dirty  \n",
      "0                                                   NaN     1  \n",
      "1                                                   NaN   NaN  \n",
      "2                                                   NaN   NaN  \n",
      "3                                                   NaN     1  \n",
      "4                                                   NaN   NaN  \n",
      "...                                                 ...   ...  \n",
      "1658                                                NaN   NaN  \n",
      "1659                                                NaN   NaN  \n",
      "1660  Hidalgo County, Cameron County, Willacy County...   NaN  \n",
      "1661                                                NaN   NaN  \n",
      "1662                                     Putnam County;   NaN  \n",
      "\n",
      "[1663 rows x 8 columns]\n"
     ]
    }
   ],
   "source": [
    "print(tablev2)"
   ]
  },
  {
   "cell_type": "code",
   "execution_count": 6,
   "metadata": {},
   "outputs": [],
   "source": [
    "c = cdsapi.Client()\n",
    "for row in tablev2.iterrows():\n",
    "    entry = row[1]\n",
    "    if \"nan\" not in str(entry['State']) and \"DIRTY\" not in str(entry['State']):\n",
    "        date = entry['Valid Date']\n",
    "        date_split = date.split('-')\n",
    "        new_date = str(date_split[1]) + \"-\" + str(date_split[2]) + \"-\" + str(date_split[0])\n",
    "        # print(new_date)\n",
    "        if os.path.isfile(\"../../a/era5_data/\" + new_date + \".nc\") == False:\n",
    "            c.retrieve(\n",
    "            'reanalysis-era5-single-levels',\n",
    "            {\n",
    "                'product_type': 'reanalysis', 'format': 'netcdf', #netcdf\n",
    "                'year': [\n",
    "                date_split[0],\n",
    "                ],\n",
    "                'month': [\n",
    "                date_split[1]\n",
    "                ],\n",
    "                'day': [\n",
    "                date_split[2]\n",
    "                ],\n",
    "                'time': [\n",
    "                '00:00', '03:00', '06:00', '09:00',\n",
    "                '12:00', '15:00', '18:00', '21:00'\n",
    "                ],\n",
    "                'variable': [\n",
    "                '10m_u_component_of_wind', '10m_v_component_of_wind', '2m_temperature',\n",
    "                'snowfall', 'surface_pressure', 'total_precipitation',\n",
    "                ],\n",
    "                },\n",
    "                '../../a/era5_data/' + new_date + '.nc')\n",
    "            \n",
    "\n"
   ]
  },
  {
   "cell_type": "code",
   "execution_count": null,
   "metadata": {},
   "outputs": [],
   "source": []
  }
 ],
 "metadata": {
  "kernelspec": {
   "display_name": "workenv",
   "language": "python",
   "name": "python3"
  },
  "language_info": {
   "codemirror_mode": {
    "name": "ipython",
    "version": 3
   },
   "file_extension": ".py",
   "mimetype": "text/x-python",
   "name": "python",
   "nbconvert_exporter": "python",
   "pygments_lexer": "ipython3",
   "version": "3.9.18"
  }
 },
 "nbformat": 4,
 "nbformat_minor": 2
}
