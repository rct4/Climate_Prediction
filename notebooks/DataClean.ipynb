{
 "cells": [
  {
   "cell_type": "code",
   "execution_count": 15,
   "id": "717241d0",
   "metadata": {},
   "outputs": [],
   "source": [
    "# Cleaning the post manual-processed dataset"
   ]
  },
  {
   "cell_type": "code",
   "execution_count": 35,
   "id": "4c3be0eb",
   "metadata": {},
   "outputs": [],
   "source": [
    "import pandas as pd\n",
    "import re"
   ]
  },
  {
   "cell_type": "code",
   "execution_count": 36,
   "id": "32aeaf34",
   "metadata": {},
   "outputs": [],
   "source": [
    "df = pd.read_csv(\"../tables/all_weather_events.csv\").iloc[:,2:]"
   ]
  },
  {
   "cell_type": "code",
   "execution_count": 37,
   "id": "a85ef851",
   "metadata": {},
   "outputs": [
    {
     "data": {
      "text/html": [
       "<div>\n",
       "<style scoped>\n",
       "    .dataframe tbody tr th:only-of-type {\n",
       "        vertical-align: middle;\n",
       "    }\n",
       "\n",
       "    .dataframe tbody tr th {\n",
       "        vertical-align: top;\n",
       "    }\n",
       "\n",
       "    .dataframe thead th {\n",
       "        text-align: right;\n",
       "    }\n",
       "</style>\n",
       "<table border=\"1\" class=\"dataframe\">\n",
       "  <thead>\n",
       "    <tr style=\"text-align: right;\">\n",
       "      <th></th>\n",
       "      <th>Event Type</th>\n",
       "      <th>Valid Date</th>\n",
       "      <th>Valid Time</th>\n",
       "      <th>State</th>\n",
       "      <th>Cities</th>\n",
       "      <th>Counties</th>\n",
       "      <th>Dirty</th>\n",
       "    </tr>\n",
       "  </thead>\n",
       "  <tbody>\n",
       "    <tr>\n",
       "      <th>0</th>\n",
       "      <td>Ice Storm</td>\n",
       "      <td>1/30/2002</td>\n",
       "      <td>6:00:00</td>\n",
       "      <td>Oklahoma</td>\n",
       "      <td>NaN</td>\n",
       "      <td>NaN</td>\n",
       "      <td>NaN</td>\n",
       "    </tr>\n",
       "    <tr>\n",
       "      <th>1</th>\n",
       "      <td>Ice Storm</td>\n",
       "      <td>1/29/2002</td>\n",
       "      <td>NaN</td>\n",
       "      <td>NaN</td>\n",
       "      <td>Kansas City</td>\n",
       "      <td>NaN</td>\n",
       "      <td>1</td>\n",
       "    </tr>\n",
       "    <tr>\n",
       "      <th>2</th>\n",
       "      <td>Ice Storm</td>\n",
       "      <td>1/30/2002</td>\n",
       "      <td>16:00:00</td>\n",
       "      <td>Missouri</td>\n",
       "      <td>NaN</td>\n",
       "      <td>NaN</td>\n",
       "      <td>NaN</td>\n",
       "    </tr>\n",
       "    <tr>\n",
       "      <th>3</th>\n",
       "      <td>Severe Weather</td>\n",
       "      <td>3/9/2002</td>\n",
       "      <td>0:00:00</td>\n",
       "      <td>Michigan</td>\n",
       "      <td>NaN</td>\n",
       "      <td>NaN</td>\n",
       "      <td>1</td>\n",
       "    </tr>\n",
       "    <tr>\n",
       "      <th>4</th>\n",
       "      <td>Fire</td>\n",
       "      <td>7/20/2002</td>\n",
       "      <td>12:40:00</td>\n",
       "      <td>New York</td>\n",
       "      <td>NaN</td>\n",
       "      <td>NaN</td>\n",
       "      <td>NaN</td>\n",
       "    </tr>\n",
       "  </tbody>\n",
       "</table>\n",
       "</div>"
      ],
      "text/plain": [
       "       Event Type Valid Date Valid Time     State       Cities Counties Dirty\n",
       "0       Ice Storm  1/30/2002    6:00:00  Oklahoma          NaN      NaN   NaN\n",
       "1       Ice Storm  1/29/2002        NaN       NaN  Kansas City      NaN     1\n",
       "2       Ice Storm  1/30/2002   16:00:00  Missouri          NaN      NaN   NaN\n",
       "3  Severe Weather   3/9/2002    0:00:00  Michigan          NaN      NaN     1\n",
       "4            Fire  7/20/2002   12:40:00  New York          NaN      NaN   NaN"
      ]
     },
     "execution_count": 37,
     "metadata": {},
     "output_type": "execute_result"
    }
   ],
   "source": [
    "df.head(5)"
   ]
  },
  {
   "cell_type": "code",
   "execution_count": 38,
   "id": "baa83646",
   "metadata": {},
   "outputs": [],
   "source": [
    "# Sort by date\n",
    "df['Valid Date'] = pd.to_datetime(df['Valid Date'])"
   ]
  },
  {
   "cell_type": "code",
   "execution_count": 39,
   "id": "bafc9eb4",
   "metadata": {},
   "outputs": [],
   "source": [
    "df = df.sort_values(by='Valid Date').dropna(subset=['Valid Date'])"
   ]
  },
  {
   "cell_type": "code",
   "execution_count": 40,
   "id": "c79d9b02",
   "metadata": {},
   "outputs": [],
   "source": [
    "# Import the necessary module for regular expressions\n",
    "us_states = {\n",
    "    'Alabama', 'Alaska', 'Arizona', 'Arkansas', 'California', 'Colorado', 'Connecticut', 'Delaware', 'Florida', 'Georgia',\n",
    "    'Hawaii', 'Idaho', 'Illinois', 'Indiana', 'Iowa', 'Kansas', 'Kentucky', 'Louisiana', 'Maine', 'Maryland',\n",
    "    'Massachusetts', 'Michigan', 'Minnesota', 'Mississippi', 'Missouri', 'Montana', 'Nebraska', 'Nevada', 'New Hampshire',\n",
    "    'New Jersey', 'New Mexico', 'New York', 'North Carolina', 'North Dakota', 'Ohio', 'Oklahoma', 'Oregon', 'Pennsylvania',\n",
    "    'Rhode Island', 'South Carolina', 'South Dakota', 'Tennessee', 'Texas', 'Utah', 'Vermont', 'Virginia', 'Washington',\n",
    "    'West Virginia', 'Wisconsin', 'Wyoming'\n",
    "}\n",
    "data = df\n",
    "# Correcting the clean_state_column function with the re module imported\n",
    "def clean_state_column(state_entry):\n",
    "    if pd.isna(state_entry):\n",
    "        return state_entry\n",
    "    # Initialize an empty list to hold valid state names found as substrings\n",
    "    valid_states = []\n",
    "    # Loop over the set of state names and check if each is a substring of the entry\n",
    "    for state in us_states:\n",
    "        if state in state_entry:\n",
    "            valid_states.append(state)\n",
    "    # Join the found valid state names using commas\n",
    "\n",
    "    if (len(valid_states) == 0):\n",
    "      return state_entry + \"DIRTY\"\n",
    "    return ', '.join(valid_states)\n",
    "\n",
    "# Apply the adjusted cleaning function to the 'State' column\n",
    "\n",
    "# Apply the cleaning function to the 'State' column again\n",
    "data['State'] = data['State'].apply(clean_state_column)\n",
    "\n",
    "# Display the first few rows to verify the cleaning\n",
    "data.head()\n",
    "\n",
    "data.to_csv('../tables/state_regularized_v2.csv')"
   ]
  },
  {
   "cell_type": "code",
   "execution_count": null,
   "id": "00a8cb52",
   "metadata": {},
   "outputs": [],
   "source": []
  }
 ],
 "metadata": {
  "kernelspec": {
   "display_name": "Python 3 (ipykernel)",
   "language": "python",
   "name": "python3"
  },
  "language_info": {
   "codemirror_mode": {
    "name": "ipython",
    "version": 3
   },
   "file_extension": ".py",
   "mimetype": "text/x-python",
   "name": "python",
   "nbconvert_exporter": "python",
   "pygments_lexer": "ipython3",
   "version": "3.9.13"
  }
 },
 "nbformat": 4,
 "nbformat_minor": 5
}
