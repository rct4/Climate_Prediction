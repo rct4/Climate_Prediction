{
 "cells": [
  {
   "cell_type": "code",
   "execution_count": 1,
   "metadata": {},
   "outputs": [],
   "source": [
    "import cdsapi\n",
    "import climetlab as cml\n",
    "import numpy as np\n",
    "import matplotlib.pyplot as plt\n",
    "import geopandas\n",
    "import geopy\n",
    "import xarray as xr\n",
    "\n",
    "import csv\n",
    "import os"
   ]
  },
  {
   "cell_type": "code",
   "execution_count": 22,
   "metadata": {},
   "outputs": [],
   "source": [
    "# path = \"/data/keeling/a/rct4/work\"\n",
    "# dir_list = os.listdir(path)\n",
    "\n",
    "# for i in dir_list:\n",
    "#     if \"grib\" in i:\n",
    "#         os.remove(i)"
   ]
  },
  {
   "cell_type": "code",
   "execution_count": 2,
   "metadata": {},
   "outputs": [
    {
     "name": "stdout",
     "output_type": "stream",
     "text": [
      "{'Event Type': 'Severe Weather', 'Valid Date': '1/2/2022', 'Valid Time': '13:21:00', 'State': 'California', 'Counties': 'Tuolumne County;', 'Valid DateTime': '1/2/2022 13:21', 'State_FIPS': '6', 'County_FIPS': '6109'}\n",
      "\n",
      "{'Event Type': 'Severe Weather', 'Valid Date': '1/3/2022', 'Valid Time': '1:00:00', 'State': 'Georgia: Alabama: Mississippi:', 'Counties': '', 'Valid DateTime': '1/3/2022 1:00', 'State_FIPS': '13, 01, 28', 'County_FIPS': ''}\n",
      "\n",
      "{'Event Type': 'Severe Weather', 'Valid Date': '1/16/2022', 'Valid Time': '5:15:00', 'State': 'Georgia: Alabama:', 'Counties': '', 'Valid DateTime': '1/16/2022 5:15', 'State_FIPS': '13, 01', 'County_FIPS': ''}\n",
      "\n",
      "{'Event Type': 'Severe Weather', 'Valid Date': '1/29/2022', 'Valid Time': '8:45:00', 'State': 'Connecticut: Massachusetts: New Hampshire: Rhode Island: Vermont: Maine:', 'Counties': '', 'Valid DateTime': '1/29/2022 8:45', 'State_FIPS': '09, 25, 33, 44, 50, 23', 'County_FIPS': ''}\n",
      "\n",
      "{'Event Type': 'Severe Weather/Transmission Interruption', 'Valid Date': '2/3/2022', 'Valid Time': '10:00:00', 'State': 'Tennessee', 'Counties': 'Shelby County;', 'Valid DateTime': '2/3/2022 10:00', 'State_FIPS': '47', 'County_FIPS': '47157'}\n",
      "\n",
      "{'Event Type': 'Severe Weather/Transmission Interruption', 'Valid Date': '2/3/2022', 'Valid Time': '12:56:00', 'State': 'Ohio', 'Counties': '', 'Valid DateTime': '2/3/2022 12:56', 'State_FIPS': '39', 'County_FIPS': ''}\n",
      "\n",
      "{'Event Type': 'Severe Weather/Transmission Interruption', 'Valid Date': '2/4/2022', 'Valid Time': '13:10:00', 'State': 'New York', 'Counties': 'Ulster County;', 'Valid DateTime': '2/4/2022 13:10', 'State_FIPS': '36', 'County_FIPS': '36111'}\n",
      "\n",
      "{'Event Type': 'Severe Weather', 'Valid Date': '2/18/2022', 'Valid Time': '7:10:00', 'State': 'Connecticut: Maine: Massachusetts: New Hampshire: Vermont: Rhode Island:', 'Counties': '', 'Valid DateTime': '2/18/2022 7:10', 'State_FIPS': '09, 23, 25, 33, 50, 44', 'County_FIPS': ''}\n",
      "\n",
      "{'Event Type': 'Severe Weather', 'Valid Date': '3/12/2022', 'Valid Time': '8:33:00', 'State': 'Alabama: Georgia: Mississippi: Florida:', 'Counties': '', 'Valid DateTime': '3/12/2022 8:33', 'State_FIPS': '01, 13, 28, 12', 'County_FIPS': ''}\n",
      "\n",
      "{'Event Type': 'Severe Weather', 'Valid Date': '3/21/2022', 'Valid Time': '19:00:00', 'State': 'Texas', 'Counties': 'Anderson County, Bell County, Bosque County, Comanche County, Coryell County, Falls County, Freestone County, Hamilton County, Henderson County, Hill County, Lampasas County, Leon County, Limestone County, McLennan County, Milam County, Mills County, Robertson County, Collin County, Cooke County, Dallas County, Denton County, Ellis County, Erath County, Fannin County, Grayson County, Hood County, Hunt County, Johnson County, Kaufman County, Navarro County, Parker County, Rains County, Rockwall County, Somervell County, Tarrant County, Van Zandt County, Wise County;', 'Valid DateTime': '3/21/2022 19:00', 'State_FIPS': '48', 'County_FIPS': '48001, 48027, 48035, 48093, 48099, 48145, 48161, 48193, 48213, 48217, 48281, 48289, 48293, 48309, 48331, 48333, 48395, 48085, 48097, 48113, 48121, 48139, 48143, 48147, 48181, 48221, 48231, 48251, 48257, 48349, 48367, 48379, 48397, 48425, 48439, 48467, 48497'}\n",
      "\n",
      "{'Event Type': 'Severe Weather', 'Valid Date': '3/30/2022', 'Valid Time': '15:45:00', 'State': 'Louisiana: Mississippi: Arkansas:', 'Counties': '', 'Valid DateTime': '3/30/2022 15:45', 'State_FIPS': '22, 28, 05', 'County_FIPS': ''}\n",
      "\n",
      "{'Event Type': 'Severe Weather', 'Valid Date': '3/31/2022', 'Valid Time': '0:04:00', 'State': 'Georgia: Alabama: Mississippi: Florida:', 'Counties': '', 'Valid DateTime': '3/31/2022 0:04', 'State_FIPS': '13, 01, 28, 12', 'County_FIPS': ''}\n",
      "\n",
      "{'Event Type': 'Severe Weather', 'Valid Date': '4/11/2022', 'Valid Time': '9:15:00', 'State': 'Oregon', 'Counties': 'Multnomah County, Clackamas County, Marion County, Yamhill County, Washington County;', 'Valid DateTime': '4/11/2022 9:15', 'State_FIPS': '41', 'County_FIPS': '41051, 41005, 41047, 41071, 41067'}\n",
      "\n",
      "{'Event Type': 'Severe Weather', 'Valid Date': '4/19/2022', 'Valid Time': '4:07:00', 'State': 'New York', 'Counties': 'Broome County, Chemung County, Chenango County, Clinton County, Columbia County, Cortland County, Delaware County, Dutchess County, Erie County, Essex County, Greene County, Hamilton County, Herkimer County, Madison County, Oneida County, Otsego County, Putnam County, Saratoga County, Schoharie County, Schuyler County, Steuben County, Sullivan County, Tioga County, Tompkins County, Ulster County, Westchester County;', 'Valid DateTime': '4/19/2022 4:07', 'State_FIPS': '36', 'County_FIPS': '36007, 36015, 36017, 36019, 36021, 36023, 36025, 36027, 36029, 36031, 36039, 36041, 36043, 36053, 36065, 36077, 36079, 36091, 36095, 36097, 36101, 36105, 36107, 36109, 36111, 36119'}\n",
      "\n",
      "{'Event Type': 'Severe Weather', 'Valid Date': '4/22/2022', 'Valid Time': '23:00:00', 'State': 'North Dakota', 'Counties': '', 'Valid DateTime': '4/22/2022 23:00', 'State_FIPS': '38', 'County_FIPS': ''}\n",
      "\n",
      "{'Event Type': 'Severe Weather', 'Valid Date': '4/22/2022', 'Valid Time': '23:16:00', 'State': 'North Dakota: Montana: ', 'Counties': 'Wibaux County, Richland County', 'Valid DateTime': '4/22/2022 23:16', 'State_FIPS': '38, 30', 'County_FIPS': '38077, 30109, 30083'}\n",
      "\n",
      "{'Event Type': 'Severe Weather', 'Valid Date': '4/23/2022', 'Valid Time': '15:38:00', 'State': 'North Dakota', 'Counties': 'Mountrail County, Williams County;', 'Valid DateTime': '4/23/2022 15:38', 'State_FIPS': '38', 'County_FIPS': '38061, 38105'}\n",
      "\n",
      "{'Event Type': 'Severe Weather', 'Valid Date': '4/23/2022', 'Valid Time': '19:42:00', 'State': 'Iowa', 'Counties': 'Illinois:', 'Valid DateTime': '4/23/2022 19:42', 'State_FIPS': '19', 'County_FIPS': ''}\n",
      "\n",
      "{'Event Type': 'Severe Weather', 'Valid Date': '5/22/2022', 'Valid Time': '2:30:00', 'State': 'Texas', 'Counties': 'Harris County;', 'Valid DateTime': '5/22/2022 2:30', 'State_FIPS': '48', 'County_FIPS': '48201'}\n",
      "\n",
      "{'Event Type': 'Severe Weather', 'Valid Date': '6/8/2022', 'Valid Time': '0:00:00', 'State': 'Kansas: Missouri: Nebraska:', 'Counties': '', 'Valid DateTime': '6/8/2022 0:00', 'State_FIPS': '20, 29, 31', 'County_FIPS': ''}\n",
      "\n",
      "{'Event Type': 'Severe Weather/Distribution Interruption', 'Valid Date': '6/8/2022', 'Valid Time': '1:00:00', 'State': 'Missouri', 'Counties': '', 'Valid DateTime': '6/8/2022 1:00', 'State_FIPS': '29', 'County_FIPS': ''}\n",
      "\n",
      "{'Event Type': 'Severe Weather/Transmission Interruption', 'Valid Date': '6/12/2022', 'Valid Time': '23:30:00', 'State': 'Ohio: West Virginia: Virginia: Indiana:', 'Counties': '', 'Valid DateTime': '6/12/2022 23:30', 'State_FIPS': '39, 54, 51, 18', 'County_FIPS': ''}\n",
      "\n",
      "{'Event Type': 'Severe Weather/Transmission Interruption', 'Valid Date': '6/13/2022', 'Valid Time': '18:00:00', 'State': 'Ohio: Kentucky:', 'Counties': '', 'Valid DateTime': '6/13/2022 18:00', 'State_FIPS': '39, 21', 'County_FIPS': ''}\n",
      "\n",
      "{'Event Type': 'Severe Weather', 'Valid Date': '6/17/2022', 'Valid Time': '6:02:00', 'State': 'Illinois: Missouri:', 'Counties': '', 'Valid DateTime': '6/17/2022 6:02', 'State_FIPS': '17, 29', 'County_FIPS': ''}\n",
      "\n",
      "{'Event Type': 'Severe Weather/Distribution Interruption', 'Valid Date': '6/22/2022', 'Valid Time': '16:56:00', 'State': 'Virginia', 'Counties': '', 'Valid DateTime': '6/22/2022 16:56', 'State_FIPS': '51', 'County_FIPS': ''}\n",
      "\n",
      "{'Event Type': 'Severe Weather', 'Valid Date': '7/23/2022', 'Valid Time': '20:45:00', 'State': 'Michigan', 'Counties': 'Muskegon County, Ottawa County, Kent County, Montcalm County, Ionia County, Allegan County, Van Buren County, Kalamazoo County, Barry County, Mason County, Shiawassee County, Ingham County, Genesee County, Saginaw County, Midland County, Wexford County, Grand Traverse County;', 'Valid DateTime': '7/23/2022 20:45', 'State_FIPS': '26', 'County_FIPS': '26121, 26139, 26081, 26117, 26067, 26005, 26159, 26077, 26015, 26105, 26155, 26065, 26049, 26145, 26111, 26165, 26055'}\n",
      "\n",
      "{'Event Type': 'Severe Weather', 'Valid Date': '8/3/2022', 'Valid Time': '2:30:00', 'State': 'Minnesota: Wisconsin:', 'Counties': '', 'Valid DateTime': '8/3/2022 2:30', 'State_FIPS': '27, 55', 'County_FIPS': ''}\n",
      "\n",
      "{'Event Type': 'Severe Weather', 'Valid Date': '8/3/2022', 'Valid Time': '17:00:00', 'State': 'Michigan', 'Counties': 'Allegan County, Van Buren County, Barry County, Kalamazoo County, Calhoun County, Jackson County, Calhoun County, Washtenaw County;', 'Valid DateTime': '8/3/2022 17:00', 'State_FIPS': '26', 'County_FIPS': '26005, 26159, 26015, 26077, 26025, 26075, 26025, 26161'}\n",
      "\n",
      "{'Event Type': 'Severe Weather', 'Valid Date': '8/4/2022', 'Valid Time': '18:00:00', 'State': 'Maryland', 'Counties': 'Anne Arundel County, Baltimore County;', 'Valid DateTime': '8/4/2022 18:00', 'State_FIPS': '24', 'County_FIPS': '24003, 24005'}\n",
      "\n",
      "{'Event Type': 'Severe Weather', 'Valid Date': '8/10/2022', 'Valid Time': '1:25:00', 'State': 'Arkansas', 'Counties': 'Lawrence County;', 'Valid DateTime': '8/10/2022 1:25', 'State_FIPS': '5', 'County_FIPS': '5075'}\n",
      "\n",
      "{'Event Type': 'Severe Weather', 'Valid Date': '8/10/2022', 'Valid Time': '19:56:00', 'State': 'Texas', 'Counties': 'Harris County;', 'Valid DateTime': '8/10/2022 19:56', 'State_FIPS': '48', 'County_FIPS': '48201'}\n",
      "\n",
      "{'Event Type': 'Severe Weather', 'Valid Date': '8/22/2022', 'Valid Time': '20:40:00', 'State': 'Texas', 'Counties': 'El Paso County;', 'Valid DateTime': '8/22/2022 20:40', 'State_FIPS': '48', 'County_FIPS': '48141'}\n",
      "\n",
      "{'Event Type': 'Severe Weather', 'Valid Date': '9/1/2022', 'Valid Time': '15:00:00', 'State': 'California', 'Counties': 'Shasta County;', 'Valid DateTime': '9/1/2022 15:00', 'State_FIPS': '6', 'County_FIPS': '6089'}\n",
      "\n",
      "{'Event Type': 'Severe Weather', 'Valid Date': '9/4/2022', 'Valid Time': '16:00:00', 'State': 'Texas', 'Counties': 'Tarrant County, Collin County, Dallas County, Ellis County, Kaufman County, Rockwall County, Williamson County, Denton County, Archer County;', 'Valid DateTime': '9/4/2022 16:00', 'State_FIPS': '48', 'County_FIPS': '48439, 48085, 48113, 48139, 48257, 48397, 48491, 48121, 48009'}\n",
      "\n",
      "{'Event Type': 'Severe Weather', 'Valid Date': '9/6/2022', 'Valid Time': '16:00:00', 'State': 'California', 'Counties': 'Shasta County;', 'Valid DateTime': '9/6/2022 16:00', 'State_FIPS': '6', 'County_FIPS': '6089'}\n",
      "\n",
      "{'Event Type': 'Severe Weather', 'Valid Date': '9/7/2022', 'Valid Time': '16:00:00', 'State': 'California', 'Counties': 'Shasta County;', 'Valid DateTime': '9/7/2022 16:00', 'State_FIPS': '6', 'County_FIPS': '6089'}\n",
      "\n",
      "{'Event Type': 'Severe Weather', 'Valid Date': '9/8/2022', 'Valid Time': '11:54:00', 'State': 'California', 'Counties': 'Shasta County;', 'Valid DateTime': '9/8/2022 11:54', 'State_FIPS': '6', 'County_FIPS': '6089'}\n",
      "\n",
      "{'Event Type': 'Severe Weather', 'Valid Date': '9/9/2022', 'Valid Time': '16:00:00', 'State': 'California', 'Counties': 'Shasta County;', 'Valid DateTime': '9/9/2022 16:00', 'State_FIPS': '6', 'County_FIPS': '6089'}\n",
      "\n",
      "{'Event Type': 'Severe Weather', 'Valid Date': '9/13/2022', 'Valid Time': '19:55:00', 'State': 'Texas', 'Counties': 'El Paso County;', 'Valid DateTime': '9/13/2022 19:55', 'State_FIPS': '48', 'County_FIPS': '48141'}\n",
      "\n",
      "{'Event Type': 'Severe Weather', 'Valid Date': '9/28/2022', 'Valid Time': '15:00:00', 'State': 'Florida', 'Counties': 'Hillsborough County, Polk County, Pasco County, Pinellas County;', 'Valid DateTime': '9/28/2022 15:00', 'State_FIPS': '12', 'County_FIPS': '12057, 12105, 12101, 12103'}\n",
      "\n",
      "{'Event Type': 'Severe Weather', 'Valid Date': '9/29/2022', 'Valid Time': '3:27:00', 'State': 'Florida', 'Counties': 'Polk County;', 'Valid DateTime': '9/29/2022 3:27', 'State_FIPS': '12', 'County_FIPS': '12105'}\n",
      "\n",
      "{'Event Type': 'Severe Weather', 'Valid Date': '9/30/2022', 'Valid Time': '2:45:00', 'State': 'North Carolina', 'Counties': '', 'Valid DateTime': '9/30/2022 2:45', 'State_FIPS': '37', 'County_FIPS': ''}\n",
      "\n",
      "{'Event Type': 'Sever Weather', 'Valid Date': '10/14/2022', 'Valid Time': '13:15:00', 'State': 'Connecticut: Massachusetts: Maine: Rhode Island: New Hampshire: Vermont:', 'Counties': '', 'Valid DateTime': '10/14/2022 13:15', 'State_FIPS': '09, 25, 23, 44, 33, 50', 'County_FIPS': ''}\n",
      "\n",
      "{'Event Type': 'Severe Weather', 'Valid Date': '11/4/2022', 'Valid Time': '20:05:00', 'State': 'Washington', 'Counties': 'Island County, King County, Kittitas County, Thurston County, Kitsap County, Pierce County, Skagit County, Whatcom County;', 'Valid DateTime': '11/4/2022 20:05', 'State_FIPS': '53', 'County_FIPS': '53029, 53033, 53037, 53067, 53035, 53053, 53057, 53073'}\n",
      "\n",
      "{'Event Type': 'Severe Weather', 'Valid Date': '11/5/2022', 'Valid Time': '13:00:00', 'State': 'Michigan', 'Counties': 'Kalamazoo County, Kent County, Calhoun County, Genesee County, Ottawa County, Muskegon County, Eaton County, Saginaw County, Van Buren County, Hillsdale County, Shiawassee County, Jackson County, Lenawee County, Branch County, Montcalm County, Monroe County, Manistee County, Roscommon County, Clinton County, Ingham County, Gladwin County, Arenac County, Ogemaw County, Iosco County, Alcona County;', 'Valid DateTime': '11/5/2022 13:00', 'State_FIPS': '26', 'County_FIPS': '26077, 26081, 26025, 26049, 26139, 26121, 26045, 26145, 26159, 26059, 26155, 26075, 26091, 26023, 26117, 26115, 26101, 26143, 26037, 26065, 26051, 26011, 26129, 26069, 26001'}\n",
      "\n",
      "{'Event Type': 'Severe Weather', 'Valid Date': '11/5/2022', 'Valid Time': '19:00:00', 'State': 'Wisconsin', 'Counties': '', 'Valid DateTime': '11/5/2022 19:00', 'State_FIPS': '55', 'County_FIPS': ''}\n",
      "\n",
      "{'Event Type': 'Severe Weather', 'Valid Date': '11/10/2022', 'Valid Time': '6:00:00', 'State': 'Florida', 'Counties': 'Alachua County, Bay County, Citrus County, Columbia County, Dixie County, Franklin County, Gilchrist County, Gulf County, Hamilton County, Hardee County, Hernando County, Highlands County, Jefferson County, Lafayette County, Lake County, Levy County, Madison County, Marion County, Orange County, Osceola County, Pasco County, Pinellas County, Polk County, Seminole County, Sumter County, Suwannee County, Taylor County, Volusia County, Wakulla County;', 'Valid DateTime': '11/10/2022 6:00', 'State_FIPS': '12', 'County_FIPS': '12001, 12005, 12017, 12023, 12029, 12037, 12041, 12045, 12047, 12049, 12053, 12055, 12065, 12067, 12069, 12075, 12079, 12083, 12095, 12097, 12101, 12103, 12105, 12117, 12119, 12121, 12123, 12127, 12129'}\n",
      "\n",
      "{'Event Type': 'Severe Weather', 'Valid Date': '11/30/2022', 'Valid Time': '3:35:00', 'State': 'Alabama: Mississippi: Georgia:', 'Counties': '', 'Valid DateTime': '11/30/2022 3:35', 'State_FIPS': '01, 28, 13', 'County_FIPS': ''}\n",
      "\n",
      "{'Event Type': 'Severe Weather', 'Valid Date': '12/16/2022', 'Valid Time': '23:30:00', 'State': 'Massachusetts: Vermont: New Hampshire: Maine:', 'Counties': '', 'Valid DateTime': '12/16/2022 23:30', 'State_FIPS': '25, 50, 33, 23', 'County_FIPS': ''}\n",
      "\n",
      "{'Event Type': 'Severe Weather', 'Valid Date': '12/23/2022', 'Valid Time': '3:03:00', 'State': 'Alabama: Georgia: Mississippi:', 'Counties': '', 'Valid DateTime': '12/23/2022 3:03', 'State_FIPS': '01, 13, 28', 'County_FIPS': ''}\n",
      "\n",
      "{'Event Type': 'Severe Weather', 'Valid Date': '12/23/2022', 'Valid Time': '7:19:00', 'State': 'Missouri', 'Counties': 'Jasper County;', 'Valid DateTime': '12/23/2022 7:19', 'State_FIPS': '29', 'County_FIPS': '29097'}\n",
      "\n",
      "{'Event Type': 'Severe Weather', 'Valid Date': '12/24/2022', 'Valid Time': '4:45:00', 'State': 'North Carolina: South Carolina:', 'Counties': '', 'Valid DateTime': '12/24/2022 4:45', 'State_FIPS': '37, 45', 'County_FIPS': ''}\n",
      "\n",
      "{'Event Type': 'Severe Weather', 'Valid Date': '12/24/2022', 'Valid Time': '9:00:00', 'State': 'Alabama: Georgia: Mississippi:', 'Counties': '', 'Valid DateTime': '12/24/2022 9:00', 'State_FIPS': '01, 13, 28', 'County_FIPS': ''}\n",
      "\n",
      "{'Event Type': 'Severe Weather', 'Valid Date': '12/26/2022', 'Valid Time': '8:30:00', 'State': 'Washington', 'Counties': 'King County, Island County, Kittitas County, Kitsap County, Pierce County, Skagit County, Thurston County, Whatcom County;', 'Valid DateTime': '12/26/2022 8:30', 'State_FIPS': '53', 'County_FIPS': '53033, 53029, 53037, 53035, 53053, 53057, 53067, 53073'}\n",
      "\n",
      "{'Event Type': 'Severe Weather', 'Valid Date': '12/31/2022', 'Valid Time': '19:00:00', 'State': 'California', 'Counties': 'Sacramento County;', 'Valid DateTime': '12/31/2022 19:00', 'State_FIPS': '6', 'County_FIPS': '6067'}\n",
      "\n",
      "{'Event Type': 'Severe Weather', 'Valid Date': '1/2/2023', 'Valid Time': '18:22:00', 'State': 'Arkansas: Louisiana:', 'Counties': 'Ouachita Parish', 'Valid DateTime': '1/2/2023 18:22', 'State_FIPS': '05, 22', 'County_FIPS': '22073'}\n",
      "\n",
      "{'Event Type': 'Severe Weather', 'Valid Date': '1/7/2023', 'Valid Time': '22:00:00', 'State': 'California', 'Counties': 'Sacramento County;', 'Valid DateTime': '1/7/2023 22:00', 'State_FIPS': '6', 'County_FIPS': '6067'}\n",
      "\n",
      "{'Event Type': 'Severe Weather', 'Valid Date': '1/23/2023', 'Valid Time': '7:05:00', 'State': 'Connecticut: Rhode Island: Massachusetts: Vermont: New Hampshire: Maine:', 'Counties': '', 'Valid DateTime': '1/23/2023 7:05', 'State_FIPS': '09, 44, 25, 50, 33, 23', 'County_FIPS': ''}\n",
      "\n",
      "{'Event Type': 'Severe Weather', 'Valid Date': '1/24/2023', 'Valid Time': '15:25:00', 'State': 'Texas', 'Counties': 'Harris County;', 'Valid DateTime': '1/24/2023 15:25', 'State_FIPS': '48', 'County_FIPS': '48201'}\n",
      "\n",
      "{'Event Type': 'Severe Weather', 'Valid Date': '1/25/2023', 'Valid Time': '3:30:00', 'State': 'Arkansas: Texas: Louisiana: Mississippi:', 'Counties': '', 'Valid DateTime': '1/25/2023 3:30', 'State_FIPS': '05, 48, 22, 28', 'County_FIPS': ''}\n",
      "\n",
      "{'Event Type': 'Severe Weather', 'Valid Date': '1/31/2023', 'Valid Time': '8:15:00', 'State': 'Texas', 'Counties': 'Dallas County, Anderson County, Bosque County, Collin County, Comanche County, Cooke County, Delta County, Denton County, Ellis County, Erath County, Fannin County, Freestone County, Hamilton County, Henderson County, Hill County, Hood County, Hopkins County, Hunt County, Jack County, Johnson County, Kaufman County, Lamar County, Navarro County, Palo Pinto County, Parker County, Rains County, Red River County, Rockwall County, Somervell County, Tarrant County, Van Zandt County, Wichita County, Wise County;', 'Valid DateTime': '1/31/2023 8:15', 'State_FIPS': '48', 'County_FIPS': '48113, 48001, 48035, 48085, 48093, 48097, 48119, 48121, 48139, 48143, 48147, 48161, 48193, 48213, 48217, 48221, 48223, 48231, 48237, 48251, 48257, 48277, 48349, 48363, 48367, 48379, 48387, 48397, 48425, 48439, 48467, 48485, 48497'}\n",
      "\n",
      "{'Event Type': 'Severe Weather', 'Valid Date': '2/1/2023', 'Valid Time': '5:00:00', 'State': 'Texas', 'Counties': 'Travis County;', 'Valid DateTime': '2/1/2023 5:00', 'State_FIPS': '48', 'County_FIPS': '48453'}\n",
      "\n",
      "{'Event Type': 'Severe Weather', 'Valid Date': '2/2/2023', 'Valid Time': '8:15:00', 'State': 'Arkansas: Mississippi: Texas:', 'Counties': '', 'Valid DateTime': '2/2/2023 8:15', 'State_FIPS': '05, 28, 48', 'County_FIPS': ''}\n",
      "\n",
      "{'Event Type': 'Severe Weather', 'Valid Date': '2/23/2023', 'Valid Time': '4:30:00', 'State': 'Wisconsin', 'Counties': 'Michigan:', 'Valid DateTime': '2/23/2023 4:30', 'State_FIPS': '55', 'County_FIPS': ''}\n",
      "\n",
      "{'Event Type': 'Severe Weather', 'Valid Date': '2/25/2023', 'Valid Time': '0:08:00', 'State': 'California', 'Counties': 'Los Angeles County;', 'Valid DateTime': '2/25/2023 0:08', 'State_FIPS': '6', 'County_FIPS': '6037'}\n",
      "\n",
      "{'Event Type': 'Severe Weather', 'Valid Date': '2/27/2023', 'Valid Time': '13:25:00', 'State': 'Michigan', 'Counties': 'Newaygo County, Oceana County, Ionia County, Montcalm County, Jackson County, Van Buren County, Washtenaw County, Hillsdale County, Lenawee County;', 'Valid DateTime': '2/27/2023 13:25', 'State_FIPS': '26', 'County_FIPS': '26123, 26127, 26067, 26117, 26075, 26159, 26161, 26059, 26091'}\n",
      "\n",
      "{'Event Type': 'Severe Weather', 'Valid Date': '3/2/2023', 'Valid Time': '19:00:00', 'State': 'Texas', 'Counties': 'Montague County, Cooke County, Grayson County, Fannin County, Lamar County, Young County, Jack County, Wise County, Denton County, Collin County, Hunt County, Delta County, Hopkins County, Stephens County, Palo Pinto County, Parker County, Tarrant County, Dallas County, Rockwall County, Kaufman County, Van Zandt County, Rains County, Eastland County, Erath County, Hood County, Somervell County, Johnson County, Ellis County, Henderson County, Comanche County, Mills County, Hamilton County, Bosque County, Hill County, Navarro County, Freestone County, Anderson County, Lampasas County, Coryell County, Bell County, McLennan County, Falls County, Limestone County, Leon County, Milam County, Robertson County;', 'Valid DateTime': '3/2/2023 19:00', 'State_FIPS': '48', 'County_FIPS': '48337, 48097, 48181, 48147, 48277, 48503, 48237, 48497, 48121, 48085, 48231, 48119, 48223, 48429, 48363, 48367, 48439, 48113, 48397, 48257, 48467, 48379, 48133, 48143, 48221, 48425, 48251, 48139, 48213, 48093, 48333, 48193, 48035, 48217, 48349, 48161, 48001, 48281, 48099, 48027, 48309, 48145, 48293, 48289, 48331, 48395'}\n",
      "\n",
      "{'Event Type': 'Severe Weather', 'Valid Date': '3/3/2023', 'Valid Time': '12:45:00', 'State': 'Alabama: Georgia: Mississippi:', 'Counties': '', 'Valid DateTime': '3/3/2023 12:45', 'State_FIPS': '01, 13, 28', 'County_FIPS': ''}\n",
      "\n",
      "{'Event Type': 'Severe Weather', 'Valid Date': '3/3/2023', 'Valid Time': '15:40:00', 'State': 'Kentucky: Virginia:', 'Counties': 'Williamsburg, Wise County', 'Valid DateTime': '3/3/2023 15:40', 'State_FIPS': '21, 51', 'County_FIPS': '51830, 51195'}\n",
      "\n",
      "{'Event Type': 'Severe Weather', 'Valid Date': '3/9/2023', 'Valid Time': '18:00:00', 'State': 'Wisconsin', 'Counties': 'Walworth County, Waukesha County, Milwaukee County, Racine County, Ozaukee County, Kenosha County;', 'Valid DateTime': '3/9/2023 18:00', 'State_FIPS': '55', 'County_FIPS': '55127, 55133, 55079, 55101, 55089, 55059'}\n",
      "\n",
      "{'Event Type': 'Severe Weather', 'Valid Date': '3/14/2023', 'Valid Time': '8:00:00', 'State': 'Connecticut: Massachusetts: Vermont: Rhode Island: New Hampshire: Maine:', 'Counties': '', 'Valid DateTime': '3/14/2023 8:00', 'State_FIPS': '09, 25, 50, 44, 33, 23', 'County_FIPS': ''}\n",
      "\n",
      "{'Event Type': 'Severe Weather', 'Valid Date': '3/14/2023', 'Valid Time': '9:25:00', 'State': 'New York', 'Counties': '', 'Valid DateTime': '3/14/2023 9:25', 'State_FIPS': '36', 'County_FIPS': ''}\n",
      "\n",
      "{'Event Type': 'Severe Weather', 'Valid Date': '3/25/2023', 'Valid Time': '16:12:00', 'State': 'Ohio: West Virginia: Virginia:', 'Counties': '', 'Valid DateTime': '3/25/2023 16:12', 'State_FIPS': '39, 54, 51', 'County_FIPS': ''}\n",
      "\n",
      "{'Event Type': 'Severe Weather', 'Valid Date': '3/31/2023', 'Valid Time': '18:00:00', 'State': 'Arkansas', 'Counties': '', 'Valid DateTime': '3/31/2023 18:00', 'State_FIPS': '5', 'County_FIPS': ''}\n",
      "\n",
      "{'Event Type': 'Severe Weather', 'Valid Date': '3/31/2023', 'Valid Time': '20:49:00', 'State': 'Illinois', 'Counties': '', 'Valid DateTime': '3/31/2023 20:49', 'State_FIPS': '17', 'County_FIPS': ''}\n",
      "\n",
      "{'Event Type': 'Severe Weather', 'Valid Date': '4/1/2023', 'Valid Time': '14:00:00', 'State': 'Ohio: West Virginia: Virginia:', 'Counties': '', 'Valid DateTime': '4/1/2023 14:00', 'State_FIPS': '39, 54, 51', 'County_FIPS': ''}\n",
      "\n",
      "{'Event Type': 'Severe Weather', 'Valid Date': '4/29/2023', 'Valid Time': '0:00:00', 'State': 'Texas', 'Counties': 'Hidalgo County, Cameron County, Willacy County, Starr County;', 'Valid DateTime': '4/29/2023 0:00', 'State_FIPS': '48', 'County_FIPS': '48215, 48061, 48489, 48427'}\n",
      "\n",
      "{'Event Type': 'Severe Weather', 'Valid Date': '5/1/2023', 'Valid Time': '5:16:00', 'State': 'Connecticut: Massachusetts: Rhode Island: Maine: New Hampshire: Vermont:', 'Counties': '', 'Valid DateTime': '5/1/2023 5:16', 'State_FIPS': '09, 25, 44, 23, 33, 50', 'County_FIPS': ''}\n",
      "\n",
      "{'Event Type': 'Severe Weather', 'Valid Date': '5/22/2023', 'Valid Time': '15:39:00', 'State': 'Florida', 'Counties': 'Putnam County;', 'Valid DateTime': '5/22/2023 15:39', 'State_FIPS': '12', 'County_FIPS': '12107'}\n",
      "\n"
     ]
    }
   ],
   "source": [
    "# x = xr.load_dataset(\"2014-01-22.grib\", engine=\"cfgrib\")\n",
    "recent_rows = []\n",
    "with open('out.csv', mode='r') as file:\n",
    "    csvFile = csv.DictReader(file)\n",
    "    for lines in csvFile:\n",
    "        recent_rows.append(lines)\n",
    "        print(lines)\n",
    "        print()\n",
    "\n"
   ]
  },
  {
   "cell_type": "code",
   "execution_count": 20,
   "metadata": {},
   "outputs": [
    {
     "name": "stdout",
     "output_type": "stream",
     "text": [
      "California\n",
      "                      geometry                              address\n",
      "0  POINT (-119.99194 38.05694)  Tuolumne, California, United States\n",
      "0\n",
      "01\n",
      "02\n",
      "Georgia\n",
      "                     geometry                 address\n",
      "0  POINT (-83.11374 32.32938)  Georgia, United States\n",
      "1\n",
      "01\n",
      "03\n",
      " Alabama\n",
      "                     geometry                 address\n",
      "0  POINT (-86.82953 33.25888)  Alabama, United States\n",
      "2\n",
      "01\n",
      "03\n",
      " Mississippi\n",
      "                     geometry                     address\n",
      "0  POINT (-89.73485 32.97153)  Mississippi, United States\n",
      "3\n",
      "01\n",
      "03\n",
      "Georgia\n",
      "                     geometry                 address\n",
      "0  POINT (-83.11374 32.32938)  Georgia, United States\n",
      "4\n",
      "01\n",
      "16\n",
      " Alabama\n",
      "                     geometry                 address\n",
      "0  POINT (-86.82953 33.25888)  Alabama, United States\n",
      "5\n",
      "01\n",
      "16\n",
      "Connecticut\n",
      "                     geometry                     address\n",
      "0  POINT (-72.73422 41.65002)  Connecticut, United States\n",
      "6\n",
      "01\n",
      "29\n",
      " Massachusetts\n",
      "                     geometry                       address\n",
      "0  POINT (-72.03237 42.37888)  Massachusetts, United States\n",
      "7\n",
      "01\n",
      "29\n",
      " New Hampshire\n",
      "                     geometry                       address\n",
      "0  POINT (-71.65540 43.48491)  New Hampshire, United States\n",
      "8\n",
      "01\n",
      "29\n",
      " Rhode Island\n",
      "                     geometry                      address\n",
      "0  POINT (-71.59924 41.79624)  Rhode Island, United States\n",
      "9\n",
      "01\n",
      "29\n",
      " Vermont\n",
      "                     geometry                 address\n",
      "0  POINT (-72.50026 44.59907)  Vermont, United States\n",
      "10\n",
      "01\n",
      "29\n",
      " Maine\n",
      "                     geometry               address\n",
      "0  POINT (-68.85902 45.70910)  Maine, United States\n",
      "11\n",
      "01\n",
      "29\n",
      "Tennessee\n",
      "                     geometry                           address\n",
      "0  POINT (-89.87398 35.17826)  Shelby, Tennessee, United States\n",
      "12\n",
      "02\n",
      "03\n",
      "Ohio\n",
      "                     geometry              address\n",
      "0  POINT (-82.68814 40.22536)  Ohio, United States\n",
      "13\n",
      "02\n",
      "03\n",
      "New York\n",
      "                     geometry                          address\n",
      "0  POINT (-74.26185 41.86893)  Ulster, New York, United States\n",
      "14\n",
      "02\n",
      "04\n",
      "Connecticut\n",
      "                     geometry                     address\n",
      "0  POINT (-72.73422 41.65002)  Connecticut, United States\n",
      "15\n",
      "02\n",
      "18\n",
      " Maine\n",
      "                     geometry               address\n",
      "0  POINT (-68.85902 45.70910)  Maine, United States\n",
      "16\n",
      "02\n",
      "18\n",
      " Massachusetts\n",
      "                     geometry                       address\n",
      "0  POINT (-72.03237 42.37888)  Massachusetts, United States\n",
      "17\n",
      "02\n",
      "18\n",
      " New Hampshire\n",
      "                     geometry                       address\n",
      "0  POINT (-71.65540 43.48491)  New Hampshire, United States\n",
      "18\n",
      "02\n",
      "18\n",
      " Vermont\n",
      "                     geometry                 address\n",
      "0  POINT (-72.50026 44.59907)  Vermont, United States\n",
      "19\n",
      "02\n",
      "18\n",
      " Rhode Island\n",
      "                     geometry                      address\n",
      "0  POINT (-71.59924 41.79624)  Rhode Island, United States\n",
      "20\n",
      "02\n",
      "18\n",
      "Alabama\n",
      "                     geometry                 address\n",
      "0  POINT (-86.82953 33.25888)  Alabama, United States\n",
      "21\n",
      "03\n",
      "12\n",
      " Georgia\n",
      "                     geometry                 address\n",
      "0  POINT (-83.11374 32.32938)  Georgia, United States\n",
      "22\n",
      "03\n",
      "12\n",
      " Mississippi\n",
      "                     geometry                     address\n",
      "0  POINT (-89.73485 32.97153)  Mississippi, United States\n",
      "23\n",
      "03\n",
      "12\n",
      " Florida\n",
      "                     geometry                 address\n",
      "0  POINT (-81.46398 27.75677)  Florida, United States\n",
      "24\n",
      "03\n",
      "12\n",
      "Texas\n",
      "                     geometry                         address\n",
      "0  POINT (-95.62582 31.78192)  Anderson, Texas, United States\n",
      "25\n",
      "03\n",
      "21\n",
      "Louisiana\n",
      "                     geometry                   address\n",
      "0  POINT (-92.00713 30.87039)  Louisiana, United States\n",
      "26\n",
      "03\n",
      "30\n",
      " Mississippi\n",
      "                     geometry                     address\n",
      "0  POINT (-89.73485 32.97153)  Mississippi, United States\n",
      "27\n",
      "03\n",
      "30\n",
      " Arkansas\n",
      "                     geometry                  address\n",
      "0  POINT (-92.44791 35.20489)  Arkansas, United States\n",
      "28\n",
      "03\n",
      "30\n",
      "Georgia\n",
      "                     geometry                 address\n",
      "0  POINT (-83.11374 32.32938)  Georgia, United States\n",
      "29\n",
      "03\n",
      "31\n",
      " Alabama\n",
      "                     geometry                 address\n",
      "0  POINT (-86.82953 33.25888)  Alabama, United States\n",
      "30\n",
      "03\n",
      "31\n",
      " Mississippi\n",
      "                     geometry                     address\n",
      "0  POINT (-89.73485 32.97153)  Mississippi, United States\n",
      "31\n",
      "03\n",
      "31\n",
      " Florida\n",
      "                     geometry                 address\n",
      "0  POINT (-81.46398 27.75677)  Florida, United States\n",
      "32\n",
      "03\n",
      "31\n",
      "Oregon\n",
      "                      geometry                           address\n",
      "0  POINT (-122.40064 45.50938)  Multnomah, Oregon, United States\n",
      "33\n",
      "04\n",
      "11\n",
      "New York\n",
      "                     geometry                          address\n",
      "0  POINT (-75.84041 42.14556)  Broome, New York, United States\n",
      "34\n",
      "04\n",
      "19\n",
      "North Dakota\n",
      "                      geometry                      address\n",
      "0  POINT (-100.54074 47.62015)  North Dakota, United States\n",
      "35\n",
      "04\n",
      "22\n",
      "North Dakota\n",
      "                     geometry  \\\n",
      "0  POINT (-96.81827 46.89715)   \n",
      "\n",
      "                                             address  \n",
      "0  North Dakota State University, 13th Avenue Nor...  \n",
      "36\n",
      "04\n",
      "22\n",
      "North Dakota\n",
      "                      geometry                                 address\n",
      "0  POINT (-102.36033 48.23032)  Mountrail, North Dakota, United States\n",
      "37\n",
      "04\n",
      "23\n",
      "Iowa\n",
      "                     geometry  \\\n",
      "0  POINT (-94.18770 42.49331)   \n",
      "\n",
      "                                             address  \n",
      "0  Fort Dodge Iowa Illinois Gas & Electric Millda...  \n",
      "38\n",
      "04\n",
      "23\n",
      "Texas\n",
      "                     geometry                       address\n",
      "0  POINT (-95.37412 29.81198)  Harris, Texas, United States\n",
      "39\n",
      "05\n",
      "22\n",
      "Kansas\n",
      "                     geometry                address\n",
      "0  POINT (-98.58219 38.27312)  Kansas, United States\n",
      "40\n",
      "06\n",
      "08\n",
      " Missouri\n",
      "                     geometry                  address\n",
      "0  POINT (-92.56179 38.76048)  Missouri, United States\n",
      "41\n",
      "06\n",
      "08\n",
      " Nebraska\n",
      "                     geometry                  address\n",
      "0  POINT (-99.58738 41.73702)  Nebraska, United States\n",
      "42\n",
      "06\n",
      "08\n",
      "Missouri\n",
      "                     geometry                  address\n",
      "0  POINT (-92.56179 38.76048)  Missouri, United States\n",
      "43\n",
      "06\n",
      "08\n",
      "Ohio\n",
      "                     geometry              address\n",
      "0  POINT (-82.68814 40.22536)  Ohio, United States\n",
      "44\n",
      "06\n",
      "12\n",
      " West Virginia\n",
      "                     geometry                       address\n",
      "0  POINT (-80.84084 38.47584)  West Virginia, United States\n",
      "45\n",
      "06\n",
      "12\n",
      " Virginia\n",
      "                     geometry                  address\n",
      "0  POINT (-78.49277 37.12322)  Virginia, United States\n",
      "46\n",
      "06\n",
      "12\n",
      " Indiana\n",
      "                     geometry                 address\n",
      "0  POINT (-86.17469 40.32701)  Indiana, United States\n",
      "47\n",
      "06\n",
      "12\n",
      "Ohio\n",
      "                     geometry              address\n",
      "0  POINT (-82.68814 40.22536)  Ohio, United States\n",
      "48\n",
      "06\n",
      "13\n",
      " Kentucky\n",
      "                     geometry                  address\n",
      "0  POINT (-85.15514 37.57260)  Kentucky, United States\n",
      "49\n",
      "06\n",
      "13\n",
      "Illinois\n",
      "                     geometry                  address\n",
      "0  POINT (-89.43373 40.07966)  Illinois, United States\n",
      "50\n",
      "06\n",
      "17\n",
      " Missouri\n",
      "                     geometry                  address\n",
      "0  POINT (-92.56179 38.76048)  Missouri, United States\n",
      "51\n",
      "06\n",
      "17\n",
      "Virginia\n",
      "                     geometry                  address\n",
      "0  POINT (-78.49277 37.12322)  Virginia, United States\n",
      "52\n",
      "06\n",
      "22\n",
      "Michigan\n",
      "                     geometry                            address\n",
      "0  POINT (-86.12935 43.24846)  Muskegon, Michigan, United States\n",
      "53\n",
      "07\n",
      "23\n",
      "Minnesota\n",
      "                     geometry                   address\n",
      "0  POINT (-94.61133 45.98966)  Minnesota, United States\n",
      "54\n",
      "08\n",
      "03\n",
      " Wisconsin\n",
      "                     geometry                   address\n",
      "0  POINT (-89.68846 44.43090)  Wisconsin, United States\n",
      "55\n",
      "08\n",
      "03\n",
      "Michigan\n",
      "                     geometry                           address\n",
      "0  POINT (-85.88615 42.58672)  Allegan, Michigan, United States\n",
      "56\n",
      "08\n",
      "03\n",
      "Maryland\n",
      "                     geometry                                address\n",
      "0  POINT (-76.57345 38.97226)  Anne Arundel, Maryland, United States\n",
      "57\n",
      "08\n",
      "04\n",
      "Arkansas\n",
      "                     geometry                            address\n",
      "0  POINT (-91.16555 36.00782)  Lawrence, Arkansas, United States\n",
      "58\n",
      "08\n",
      "10\n",
      "Texas\n",
      "                     geometry                       address\n",
      "0  POINT (-95.37412 29.81198)  Harris, Texas, United States\n",
      "59\n",
      "08\n",
      "10\n",
      "Texas\n",
      "                      geometry                        address\n",
      "0  POINT (-106.22304 31.80722)  El Paso, Texas, United States\n",
      "60\n",
      "08\n",
      "22\n",
      "California\n",
      "                      geometry                            address\n",
      "0  POINT (-121.99792 40.79651)  Shasta, California, United States\n",
      "61\n",
      "09\n",
      "01\n",
      "Texas\n",
      "                     geometry                               address\n",
      "0  POINT (-97.33570 32.75137)  Tarrant County, Texas, United States\n",
      "62\n",
      "09\n",
      "04\n",
      "California\n",
      "                      geometry                            address\n",
      "0  POINT (-121.99792 40.79651)  Shasta, California, United States\n",
      "63\n",
      "09\n",
      "06\n",
      "California\n",
      "                      geometry                            address\n",
      "0  POINT (-121.99792 40.79651)  Shasta, California, United States\n",
      "64\n",
      "09\n",
      "07\n",
      "California\n",
      "                      geometry                            address\n",
      "0  POINT (-121.99792 40.79651)  Shasta, California, United States\n",
      "65\n",
      "09\n",
      "08\n",
      "California\n",
      "                      geometry                            address\n",
      "0  POINT (-121.99792 40.79651)  Shasta, California, United States\n",
      "66\n",
      "09\n",
      "09\n",
      "Texas\n",
      "                      geometry                        address\n",
      "0  POINT (-106.22304 31.80722)  El Paso, Texas, United States\n",
      "67\n",
      "09\n",
      "13\n",
      "Florida\n",
      "                     geometry                               address\n",
      "0  POINT (-82.34881 27.91845)  Hillsborough, Florida, United States\n",
      "68\n",
      "09\n",
      "28\n",
      "Florida\n",
      "                     geometry                       address\n",
      "0  POINT (-81.72688 27.94485)  Polk, Florida, United States\n",
      "69\n",
      "09\n",
      "29\n",
      "North Carolina\n",
      "                     geometry                        address\n",
      "0  POINT (-79.03929 35.67296)  North Carolina, United States\n",
      "70\n",
      "09\n",
      "30\n",
      "Connecticut\n",
      "                     geometry                     address\n",
      "0  POINT (-72.73422 41.65002)  Connecticut, United States\n",
      "71\n",
      "10\n",
      "14\n",
      " Massachusetts\n",
      "                     geometry                       address\n",
      "0  POINT (-72.03237 42.37888)  Massachusetts, United States\n",
      "72\n",
      "10\n",
      "14\n",
      " Maine\n",
      "                     geometry               address\n",
      "0  POINT (-68.85902 45.70910)  Maine, United States\n",
      "73\n",
      "10\n",
      "14\n",
      " Rhode Island\n",
      "                     geometry                      address\n",
      "0  POINT (-71.59924 41.79624)  Rhode Island, United States\n",
      "74\n",
      "10\n",
      "14\n",
      " New Hampshire\n",
      "                     geometry                       address\n",
      "0  POINT (-71.65540 43.48491)  New Hampshire, United States\n",
      "75\n",
      "10\n",
      "14\n",
      " Vermont\n",
      "                     geometry                 address\n",
      "0  POINT (-72.50026 44.59907)  Vermont, United States\n",
      "76\n",
      "10\n",
      "14\n",
      "Washington\n",
      "                      geometry                            address\n",
      "0  POINT (-122.68424 48.21627)  Island, Washington, United States\n",
      "77\n",
      "11\n",
      "04\n",
      "Michigan\n",
      "                     geometry                             address\n",
      "0  POINT (-85.53728 42.24950)  Kalamazoo, Michigan, United States\n",
      "78\n",
      "11\n",
      "05\n",
      "Wisconsin\n",
      "                     geometry                   address\n",
      "0  POINT (-89.68846 44.43090)  Wisconsin, United States\n",
      "79\n",
      "11\n",
      "05\n",
      "Florida\n",
      "                     geometry                          address\n",
      "0  POINT (-82.36401 29.67557)  Alachua, Florida, United States\n",
      "80\n",
      "11\n",
      "10\n",
      "Alabama\n",
      "                     geometry                 address\n",
      "0  POINT (-86.82953 33.25888)  Alabama, United States\n",
      "81\n",
      "11\n",
      "30\n",
      " Mississippi\n",
      "                     geometry                     address\n",
      "0  POINT (-89.73485 32.97153)  Mississippi, United States\n",
      "82\n",
      "11\n",
      "30\n",
      " Georgia\n",
      "                     geometry                 address\n",
      "0  POINT (-83.11374 32.32938)  Georgia, United States\n",
      "83\n",
      "11\n",
      "30\n",
      "Massachusetts\n",
      "                     geometry                       address\n",
      "0  POINT (-72.03237 42.37888)  Massachusetts, United States\n",
      "84\n",
      "12\n",
      "16\n",
      " Vermont\n",
      "                     geometry                 address\n",
      "0  POINT (-72.50026 44.59907)  Vermont, United States\n",
      "85\n",
      "12\n",
      "16\n",
      " New Hampshire\n",
      "                     geometry                       address\n",
      "0  POINT (-71.65540 43.48491)  New Hampshire, United States\n",
      "86\n",
      "12\n",
      "16\n",
      " Maine\n",
      "                     geometry               address\n",
      "0  POINT (-68.85902 45.70910)  Maine, United States\n",
      "87\n",
      "12\n",
      "16\n",
      "Alabama\n",
      "                     geometry                 address\n",
      "0  POINT (-86.82953 33.25888)  Alabama, United States\n",
      "88\n",
      "12\n",
      "23\n",
      " Georgia\n",
      "                     geometry                 address\n",
      "0  POINT (-83.11374 32.32938)  Georgia, United States\n",
      "89\n",
      "12\n",
      "23\n",
      " Mississippi\n",
      "                     geometry                     address\n",
      "0  POINT (-89.73485 32.97153)  Mississippi, United States\n",
      "90\n",
      "12\n",
      "23\n",
      "Missouri\n",
      "                     geometry                          address\n",
      "0  POINT (-94.31034 37.17652)  Jasper, Missouri, United States\n",
      "91\n",
      "12\n",
      "23\n",
      "North Carolina\n",
      "                     geometry                        address\n",
      "0  POINT (-79.03929 35.67296)  North Carolina, United States\n",
      "92\n",
      "12\n",
      "24\n",
      " South Carolina\n",
      "                     geometry                        address\n",
      "0  POINT (-80.43637 33.68744)  South Carolina, United States\n",
      "93\n",
      "12\n",
      "24\n",
      "Alabama\n",
      "                     geometry                 address\n",
      "0  POINT (-86.82953 33.25888)  Alabama, United States\n",
      "94\n",
      "12\n",
      "24\n",
      " Georgia\n",
      "                     geometry                 address\n",
      "0  POINT (-83.11374 32.32938)  Georgia, United States\n",
      "95\n",
      "12\n",
      "24\n",
      " Mississippi\n",
      "                     geometry                     address\n",
      "0  POINT (-89.73485 32.97153)  Mississippi, United States\n",
      "96\n",
      "12\n",
      "24\n",
      "Washington\n",
      "                      geometry                          address\n",
      "0  POINT (-121.86221 47.48734)  King, Washington, United States\n",
      "97\n",
      "12\n",
      "26\n",
      "California\n",
      "                      geometry                                address\n",
      "0  POINT (-121.29807 38.47323)  Sacramento, California, United States\n",
      "98\n",
      "12\n",
      "31\n",
      "Arkansas\n",
      "                     geometry                                         address\n",
      "0  POINT (-92.19165 32.53370)  Arkansas Road, 71291, Louisiana, United States\n",
      "99\n",
      "01\n",
      "02\n",
      "California\n",
      "                      geometry                                address\n",
      "0  POINT (-121.29807 38.47323)  Sacramento, California, United States\n",
      "100\n",
      "01\n",
      "07\n",
      "Connecticut\n",
      "                     geometry                     address\n",
      "0  POINT (-72.73422 41.65002)  Connecticut, United States\n",
      "101\n",
      "01\n",
      "23\n",
      " Rhode Island\n",
      "                     geometry                      address\n",
      "0  POINT (-71.59924 41.79624)  Rhode Island, United States\n",
      "102\n",
      "01\n",
      "23\n",
      " Massachusetts\n",
      "                     geometry                       address\n",
      "0  POINT (-72.03237 42.37888)  Massachusetts, United States\n",
      "103\n",
      "01\n",
      "23\n",
      " Vermont\n",
      "                     geometry                 address\n",
      "0  POINT (-72.50026 44.59907)  Vermont, United States\n",
      "104\n",
      "01\n",
      "23\n",
      " New Hampshire\n",
      "                     geometry                       address\n",
      "0  POINT (-71.65540 43.48491)  New Hampshire, United States\n",
      "105\n",
      "01\n",
      "23\n",
      " Maine\n",
      "                     geometry               address\n",
      "0  POINT (-68.85902 45.70910)  Maine, United States\n",
      "106\n",
      "01\n",
      "23\n",
      "Texas\n",
      "                     geometry                       address\n",
      "0  POINT (-95.37412 29.81198)  Harris, Texas, United States\n",
      "107\n",
      "01\n",
      "24\n",
      "Arkansas\n",
      "                     geometry                  address\n",
      "0  POINT (-92.44791 35.20489)  Arkansas, United States\n",
      "108\n",
      "01\n",
      "25\n",
      " Texas\n",
      "                     geometry               address\n",
      "0  POINT (-98.54561 31.26389)  Texas, United States\n",
      "109\n",
      "01\n",
      "25\n",
      " Louisiana\n",
      "                     geometry                   address\n",
      "0  POINT (-92.00713 30.87039)  Louisiana, United States\n",
      "110\n",
      "01\n",
      "25\n",
      " Mississippi\n",
      "                     geometry                     address\n",
      "0  POINT (-89.73485 32.97153)  Mississippi, United States\n",
      "111\n",
      "01\n",
      "25\n",
      "Texas\n",
      "                     geometry                       address\n",
      "0  POINT (-96.79686 32.77627)  Dallas, Texas, United States\n",
      "112\n",
      "01\n",
      "31\n",
      "Texas\n",
      "                     geometry                       address\n",
      "0  POINT (-97.75614 30.28786)  Travis, Texas, United States\n",
      "113\n",
      "02\n",
      "01\n",
      "Arkansas\n",
      "                     geometry                  address\n",
      "0  POINT (-92.44791 35.20489)  Arkansas, United States\n",
      "114\n",
      "02\n",
      "02\n",
      " Mississippi\n",
      "                     geometry                     address\n",
      "0  POINT (-89.73485 32.97153)  Mississippi, United States\n",
      "115\n",
      "02\n",
      "02\n",
      " Texas\n",
      "                     geometry               address\n",
      "0  POINT (-98.54561 31.26389)  Texas, United States\n",
      "116\n",
      "02\n",
      "02\n",
      "Wisconsin\n",
      "                     geometry  \\\n",
      "0  POINT (-87.38122 44.83195)   \n",
      "\n",
      "                                             address  \n",
      "0  Michigan Street Bridge, Michigan Street, 54235...  \n",
      "117\n",
      "02\n",
      "23\n",
      "California\n",
      "                      geometry                                 address\n",
      "0  POINT (-118.24277 34.05369)  Los Angeles, California, United States\n",
      "118\n",
      "02\n",
      "25\n",
      "Michigan\n",
      "                     geometry                           address\n",
      "0  POINT (-85.79450 43.51212)  Newaygo, Michigan, United States\n",
      "119\n",
      "02\n",
      "27\n",
      "Texas\n",
      "                     geometry                         address\n",
      "0  POINT (-97.72158 33.62058)  Montague, Texas, United States\n",
      "120\n",
      "03\n",
      "02\n",
      "Alabama\n",
      "                     geometry                 address\n",
      "0  POINT (-86.82953 33.25888)  Alabama, United States\n",
      "121\n",
      "03\n",
      "03\n",
      " Georgia\n",
      "                     geometry                 address\n",
      "0  POINT (-83.11374 32.32938)  Georgia, United States\n",
      "122\n",
      "03\n",
      "03\n",
      " Mississippi\n",
      "                     geometry                     address\n",
      "0  POINT (-89.73485 32.97153)  Mississippi, United States\n",
      "123\n",
      "03\n",
      "03\n",
      "Kentucky\n",
      "                     geometry                                       address\n",
      "0  POINT (-84.15966 36.74342)  Williamsburg, 40769, Kentucky, United States\n",
      "124\n",
      "03\n",
      "03\n",
      "Wisconsin\n",
      "                     geometry                                    address\n",
      "0  POINT (-88.54130 42.66752)  Walworth County, Wisconsin, United States\n",
      "125\n",
      "03\n",
      "09\n",
      "Connecticut\n",
      "                     geometry                     address\n",
      "0  POINT (-72.73422 41.65002)  Connecticut, United States\n",
      "126\n",
      "03\n",
      "14\n",
      " Massachusetts\n",
      "                     geometry                       address\n",
      "0  POINT (-72.03237 42.37888)  Massachusetts, United States\n",
      "127\n",
      "03\n",
      "14\n",
      " Vermont\n",
      "                     geometry                 address\n",
      "0  POINT (-72.50026 44.59907)  Vermont, United States\n",
      "128\n",
      "03\n",
      "14\n",
      " Rhode Island\n",
      "                     geometry                      address\n",
      "0  POINT (-71.59924 41.79624)  Rhode Island, United States\n",
      "129\n",
      "03\n",
      "14\n",
      " New Hampshire\n",
      "                     geometry                       address\n",
      "0  POINT (-71.65540 43.48491)  New Hampshire, United States\n",
      "130\n",
      "03\n",
      "14\n",
      " Maine\n",
      "                     geometry               address\n",
      "0  POINT (-68.85902 45.70910)  Maine, United States\n",
      "131\n",
      "03\n",
      "14\n",
      "New York\n",
      "                     geometry                            address\n",
      "0  POINT (-74.00602 40.71273)  New York, New York, United States\n",
      "132\n",
      "03\n",
      "14\n",
      "Ohio\n",
      "                     geometry              address\n",
      "0  POINT (-82.68814 40.22536)  Ohio, United States\n",
      "133\n",
      "03\n",
      "25\n",
      " West Virginia\n",
      "                     geometry                       address\n",
      "0  POINT (-80.84084 38.47584)  West Virginia, United States\n",
      "134\n",
      "03\n",
      "25\n",
      " Virginia\n",
      "                     geometry                  address\n",
      "0  POINT (-78.49277 37.12322)  Virginia, United States\n",
      "135\n",
      "03\n",
      "25\n",
      "Arkansas\n",
      "                     geometry                  address\n",
      "0  POINT (-92.44791 35.20489)  Arkansas, United States\n",
      "136\n",
      "03\n",
      "31\n",
      "Illinois\n",
      "                     geometry                  address\n",
      "0  POINT (-89.43373 40.07966)  Illinois, United States\n",
      "137\n",
      "03\n",
      "31\n",
      "Ohio\n",
      "                     geometry              address\n",
      "0  POINT (-82.68814 40.22536)  Ohio, United States\n",
      "138\n",
      "04\n",
      "01\n",
      " West Virginia\n",
      "                     geometry                       address\n",
      "0  POINT (-80.84084 38.47584)  West Virginia, United States\n",
      "139\n",
      "04\n",
      "01\n",
      " Virginia\n",
      "                     geometry                  address\n",
      "0  POINT (-78.49277 37.12322)  Virginia, United States\n",
      "140\n",
      "04\n",
      "01\n",
      "Texas\n",
      "                     geometry                        address\n",
      "0  POINT (-98.21644 26.35303)  Hidalgo, Texas, United States\n",
      "141\n",
      "04\n",
      "29\n",
      "Connecticut\n",
      "                     geometry                     address\n",
      "0  POINT (-72.73422 41.65002)  Connecticut, United States\n",
      "142\n",
      "05\n",
      "01\n",
      " Massachusetts\n",
      "                     geometry                       address\n",
      "0  POINT (-72.03237 42.37888)  Massachusetts, United States\n",
      "143\n",
      "05\n",
      "01\n",
      " Rhode Island\n",
      "                     geometry                      address\n",
      "0  POINT (-71.59924 41.79624)  Rhode Island, United States\n",
      "144\n",
      "05\n",
      "01\n",
      " Maine\n",
      "                     geometry               address\n",
      "0  POINT (-68.85902 45.70910)  Maine, United States\n",
      "145\n",
      "05\n",
      "01\n",
      " New Hampshire\n",
      "                     geometry                       address\n",
      "0  POINT (-71.65540 43.48491)  New Hampshire, United States\n",
      "146\n",
      "05\n",
      "01\n",
      " Vermont\n",
      "                     geometry                 address\n",
      "0  POINT (-72.50026 44.59907)  Vermont, United States\n",
      "147\n",
      "05\n",
      "01\n",
      "Florida\n",
      "                     geometry                         address\n",
      "0  POINT (-81.72305 29.62662)  Putnam, Florida, United States\n",
      "148\n",
      "05\n",
      "22\n"
     ]
    }
   ],
   "source": [
    "\n",
    "final_table = []\n",
    "id_count = 0\n",
    "\n",
    "for entry in recent_rows:\n",
    "    \n",
    "    date = entry['Valid Date']\n",
    "    date2 = date.split('/')\n",
    "    day = str(date2[1])\n",
    "    if (len(day) == 1):\n",
    "        day = '0' + str(day)\n",
    "    month = str(date2[0])\n",
    "    if len(month) == 1:\n",
    "        month = '0' + str(month)\n",
    "    year = str(date2[2])\n",
    "    # print(day+ \"/\" + month + \"/\" + year) \n",
    "    state = entry['State'].split(\":\")\n",
    "    # print(state)\n",
    "    counties = entry['Counties'].split(\",\")\n",
    "    # print(counties)\n",
    "    if (counties[0] == ''):\n",
    "        #Cycle through states\n",
    "        \n",
    "        for s in state:\n",
    "            if (s != ''):\n",
    "                data_entry = {}\n",
    "                print(s)\n",
    "                location = geopandas.tools.geocode(s)\n",
    "                print(location)\n",
    "                data_entry[\"Location\"] = location\n",
    "                data_entry[\"Day\"] = day\n",
    "                data_entry[\"Month\"] = month\n",
    "                data_entry[\"Year\"] = year\n",
    "                data_entry[\"ID\"] = id_count\n",
    "                print(id_count)\n",
    "                print(month)\n",
    "                print(day)\n",
    "                \n",
    "                final_table.append(data_entry)\n",
    "                id_count+=1\n",
    "                \n",
    "    else:\n",
    "        data_entry = {}\n",
    "        print(state[0])\n",
    "        county = counties[0][:-1]\n",
    "        location = geopandas.tools.geocode(county + \", \" + state[0])\n",
    "        print(location)\n",
    "        data_entry[\"Location\"] = location\n",
    "        data_entry[\"Day\"] = day\n",
    "        data_entry[\"Month\"] = month\n",
    "        data_entry[\"Year\"] = year\n",
    "        data_entry[\"ID\"] = id_count\n",
    "        print(id_count)\n",
    "        print(month)\n",
    "        print(day)\n",
    "        \n",
    "        final_table.append(data_entry)\n",
    "        id_count+=1\n",
    "    \n"
   ]
  },
  {
   "cell_type": "code",
   "execution_count": 21,
   "metadata": {},
   "outputs": [
    {
     "name": "stdout",
     "output_type": "stream",
     "text": [
      "[{'Location':                       geometry                              address\n",
      "0  POINT (-119.99194 38.05694)  Tuolumne, California, United States, 'Day': '02', 'Month': '01', 'Year': '2022', 'ID': 0}, {'Location':                      geometry                 address\n",
      "0  POINT (-83.11374 32.32938)  Georgia, United States, 'Day': '03', 'Month': '01', 'Year': '2022', 'ID': 1}, {'Location':                      geometry                 address\n",
      "0  POINT (-86.82953 33.25888)  Alabama, United States, 'Day': '03', 'Month': '01', 'Year': '2022', 'ID': 2}, {'Location':                      geometry                     address\n",
      "0  POINT (-89.73485 32.97153)  Mississippi, United States, 'Day': '03', 'Month': '01', 'Year': '2022', 'ID': 3}, {'Location':                      geometry                 address\n",
      "0  POINT (-83.11374 32.32938)  Georgia, United States, 'Day': '16', 'Month': '01', 'Year': '2022', 'ID': 4}, {'Location':                      geometry                 address\n",
      "0  POINT (-86.82953 33.25888)  Alabama, United States, 'Day': '16', 'Month': '01', 'Year': '2022', 'ID': 5}, {'Location':                      geometry                     address\n",
      "0  POINT (-72.73422 41.65002)  Connecticut, United States, 'Day': '29', 'Month': '01', 'Year': '2022', 'ID': 6}, {'Location':                      geometry                       address\n",
      "0  POINT (-72.03237 42.37888)  Massachusetts, United States, 'Day': '29', 'Month': '01', 'Year': '2022', 'ID': 7}, {'Location':                      geometry                       address\n",
      "0  POINT (-71.65540 43.48491)  New Hampshire, United States, 'Day': '29', 'Month': '01', 'Year': '2022', 'ID': 8}, {'Location':                      geometry                      address\n",
      "0  POINT (-71.59924 41.79624)  Rhode Island, United States, 'Day': '29', 'Month': '01', 'Year': '2022', 'ID': 9}, {'Location':                      geometry                 address\n",
      "0  POINT (-72.50026 44.59907)  Vermont, United States, 'Day': '29', 'Month': '01', 'Year': '2022', 'ID': 10}, {'Location':                      geometry               address\n",
      "0  POINT (-68.85902 45.70910)  Maine, United States, 'Day': '29', 'Month': '01', 'Year': '2022', 'ID': 11}, {'Location':                      geometry                           address\n",
      "0  POINT (-89.87398 35.17826)  Shelby, Tennessee, United States, 'Day': '03', 'Month': '02', 'Year': '2022', 'ID': 12}, {'Location':                      geometry              address\n",
      "0  POINT (-82.68814 40.22536)  Ohio, United States, 'Day': '03', 'Month': '02', 'Year': '2022', 'ID': 13}, {'Location':                      geometry                          address\n",
      "0  POINT (-74.26185 41.86893)  Ulster, New York, United States, 'Day': '04', 'Month': '02', 'Year': '2022', 'ID': 14}, {'Location':                      geometry                     address\n",
      "0  POINT (-72.73422 41.65002)  Connecticut, United States, 'Day': '18', 'Month': '02', 'Year': '2022', 'ID': 15}, {'Location':                      geometry               address\n",
      "0  POINT (-68.85902 45.70910)  Maine, United States, 'Day': '18', 'Month': '02', 'Year': '2022', 'ID': 16}, {'Location':                      geometry                       address\n",
      "0  POINT (-72.03237 42.37888)  Massachusetts, United States, 'Day': '18', 'Month': '02', 'Year': '2022', 'ID': 17}, {'Location':                      geometry                       address\n",
      "0  POINT (-71.65540 43.48491)  New Hampshire, United States, 'Day': '18', 'Month': '02', 'Year': '2022', 'ID': 18}, {'Location':                      geometry                 address\n",
      "0  POINT (-72.50026 44.59907)  Vermont, United States, 'Day': '18', 'Month': '02', 'Year': '2022', 'ID': 19}, {'Location':                      geometry                      address\n",
      "0  POINT (-71.59924 41.79624)  Rhode Island, United States, 'Day': '18', 'Month': '02', 'Year': '2022', 'ID': 20}, {'Location':                      geometry                 address\n",
      "0  POINT (-86.82953 33.25888)  Alabama, United States, 'Day': '12', 'Month': '03', 'Year': '2022', 'ID': 21}, {'Location':                      geometry                 address\n",
      "0  POINT (-83.11374 32.32938)  Georgia, United States, 'Day': '12', 'Month': '03', 'Year': '2022', 'ID': 22}, {'Location':                      geometry                     address\n",
      "0  POINT (-89.73485 32.97153)  Mississippi, United States, 'Day': '12', 'Month': '03', 'Year': '2022', 'ID': 23}, {'Location':                      geometry                 address\n",
      "0  POINT (-81.46398 27.75677)  Florida, United States, 'Day': '12', 'Month': '03', 'Year': '2022', 'ID': 24}, {'Location':                      geometry                         address\n",
      "0  POINT (-95.62582 31.78192)  Anderson, Texas, United States, 'Day': '21', 'Month': '03', 'Year': '2022', 'ID': 25}, {'Location':                      geometry                   address\n",
      "0  POINT (-92.00713 30.87039)  Louisiana, United States, 'Day': '30', 'Month': '03', 'Year': '2022', 'ID': 26}, {'Location':                      geometry                     address\n",
      "0  POINT (-89.73485 32.97153)  Mississippi, United States, 'Day': '30', 'Month': '03', 'Year': '2022', 'ID': 27}, {'Location':                      geometry                  address\n",
      "0  POINT (-92.44791 35.20489)  Arkansas, United States, 'Day': '30', 'Month': '03', 'Year': '2022', 'ID': 28}, {'Location':                      geometry                 address\n",
      "0  POINT (-83.11374 32.32938)  Georgia, United States, 'Day': '31', 'Month': '03', 'Year': '2022', 'ID': 29}, {'Location':                      geometry                 address\n",
      "0  POINT (-86.82953 33.25888)  Alabama, United States, 'Day': '31', 'Month': '03', 'Year': '2022', 'ID': 30}, {'Location':                      geometry                     address\n",
      "0  POINT (-89.73485 32.97153)  Mississippi, United States, 'Day': '31', 'Month': '03', 'Year': '2022', 'ID': 31}, {'Location':                      geometry                 address\n",
      "0  POINT (-81.46398 27.75677)  Florida, United States, 'Day': '31', 'Month': '03', 'Year': '2022', 'ID': 32}, {'Location':                       geometry                           address\n",
      "0  POINT (-122.40064 45.50938)  Multnomah, Oregon, United States, 'Day': '11', 'Month': '04', 'Year': '2022', 'ID': 33}, {'Location':                      geometry                          address\n",
      "0  POINT (-75.84041 42.14556)  Broome, New York, United States, 'Day': '19', 'Month': '04', 'Year': '2022', 'ID': 34}, {'Location':                       geometry                      address\n",
      "0  POINT (-100.54074 47.62015)  North Dakota, United States, 'Day': '22', 'Month': '04', 'Year': '2022', 'ID': 35}, {'Location':                      geometry  \\\n",
      "0  POINT (-96.81827 46.89715)   \n",
      "\n",
      "                                             address  \n",
      "0  North Dakota State University, 13th Avenue Nor...  , 'Day': '22', 'Month': '04', 'Year': '2022', 'ID': 36}, {'Location':                       geometry                                 address\n",
      "0  POINT (-102.36033 48.23032)  Mountrail, North Dakota, United States, 'Day': '23', 'Month': '04', 'Year': '2022', 'ID': 37}, {'Location':                      geometry  \\\n",
      "0  POINT (-94.18770 42.49331)   \n",
      "\n",
      "                                             address  \n",
      "0  Fort Dodge Iowa Illinois Gas & Electric Millda...  , 'Day': '23', 'Month': '04', 'Year': '2022', 'ID': 38}, {'Location':                      geometry                       address\n",
      "0  POINT (-95.37412 29.81198)  Harris, Texas, United States, 'Day': '22', 'Month': '05', 'Year': '2022', 'ID': 39}, {'Location':                      geometry                address\n",
      "0  POINT (-98.58219 38.27312)  Kansas, United States, 'Day': '08', 'Month': '06', 'Year': '2022', 'ID': 40}, {'Location':                      geometry                  address\n",
      "0  POINT (-92.56179 38.76048)  Missouri, United States, 'Day': '08', 'Month': '06', 'Year': '2022', 'ID': 41}, {'Location':                      geometry                  address\n",
      "0  POINT (-99.58738 41.73702)  Nebraska, United States, 'Day': '08', 'Month': '06', 'Year': '2022', 'ID': 42}, {'Location':                      geometry                  address\n",
      "0  POINT (-92.56179 38.76048)  Missouri, United States, 'Day': '08', 'Month': '06', 'Year': '2022', 'ID': 43}, {'Location':                      geometry              address\n",
      "0  POINT (-82.68814 40.22536)  Ohio, United States, 'Day': '12', 'Month': '06', 'Year': '2022', 'ID': 44}, {'Location':                      geometry                       address\n",
      "0  POINT (-80.84084 38.47584)  West Virginia, United States, 'Day': '12', 'Month': '06', 'Year': '2022', 'ID': 45}, {'Location':                      geometry                  address\n",
      "0  POINT (-78.49277 37.12322)  Virginia, United States, 'Day': '12', 'Month': '06', 'Year': '2022', 'ID': 46}, {'Location':                      geometry                 address\n",
      "0  POINT (-86.17469 40.32701)  Indiana, United States, 'Day': '12', 'Month': '06', 'Year': '2022', 'ID': 47}, {'Location':                      geometry              address\n",
      "0  POINT (-82.68814 40.22536)  Ohio, United States, 'Day': '13', 'Month': '06', 'Year': '2022', 'ID': 48}, {'Location':                      geometry                  address\n",
      "0  POINT (-85.15514 37.57260)  Kentucky, United States, 'Day': '13', 'Month': '06', 'Year': '2022', 'ID': 49}, {'Location':                      geometry                  address\n",
      "0  POINT (-89.43373 40.07966)  Illinois, United States, 'Day': '17', 'Month': '06', 'Year': '2022', 'ID': 50}, {'Location':                      geometry                  address\n",
      "0  POINT (-92.56179 38.76048)  Missouri, United States, 'Day': '17', 'Month': '06', 'Year': '2022', 'ID': 51}, {'Location':                      geometry                  address\n",
      "0  POINT (-78.49277 37.12322)  Virginia, United States, 'Day': '22', 'Month': '06', 'Year': '2022', 'ID': 52}, {'Location':                      geometry                            address\n",
      "0  POINT (-86.12935 43.24846)  Muskegon, Michigan, United States, 'Day': '23', 'Month': '07', 'Year': '2022', 'ID': 53}, {'Location':                      geometry                   address\n",
      "0  POINT (-94.61133 45.98966)  Minnesota, United States, 'Day': '03', 'Month': '08', 'Year': '2022', 'ID': 54}, {'Location':                      geometry                   address\n",
      "0  POINT (-89.68846 44.43090)  Wisconsin, United States, 'Day': '03', 'Month': '08', 'Year': '2022', 'ID': 55}, {'Location':                      geometry                           address\n",
      "0  POINT (-85.88615 42.58672)  Allegan, Michigan, United States, 'Day': '03', 'Month': '08', 'Year': '2022', 'ID': 56}, {'Location':                      geometry                                address\n",
      "0  POINT (-76.57345 38.97226)  Anne Arundel, Maryland, United States, 'Day': '04', 'Month': '08', 'Year': '2022', 'ID': 57}, {'Location':                      geometry                            address\n",
      "0  POINT (-91.16555 36.00782)  Lawrence, Arkansas, United States, 'Day': '10', 'Month': '08', 'Year': '2022', 'ID': 58}, {'Location':                      geometry                       address\n",
      "0  POINT (-95.37412 29.81198)  Harris, Texas, United States, 'Day': '10', 'Month': '08', 'Year': '2022', 'ID': 59}, {'Location':                       geometry                        address\n",
      "0  POINT (-106.22304 31.80722)  El Paso, Texas, United States, 'Day': '22', 'Month': '08', 'Year': '2022', 'ID': 60}, {'Location':                       geometry                            address\n",
      "0  POINT (-121.99792 40.79651)  Shasta, California, United States, 'Day': '01', 'Month': '09', 'Year': '2022', 'ID': 61}, {'Location':                      geometry                               address\n",
      "0  POINT (-97.33570 32.75137)  Tarrant County, Texas, United States, 'Day': '04', 'Month': '09', 'Year': '2022', 'ID': 62}, {'Location':                       geometry                            address\n",
      "0  POINT (-121.99792 40.79651)  Shasta, California, United States, 'Day': '06', 'Month': '09', 'Year': '2022', 'ID': 63}, {'Location':                       geometry                            address\n",
      "0  POINT (-121.99792 40.79651)  Shasta, California, United States, 'Day': '07', 'Month': '09', 'Year': '2022', 'ID': 64}, {'Location':                       geometry                            address\n",
      "0  POINT (-121.99792 40.79651)  Shasta, California, United States, 'Day': '08', 'Month': '09', 'Year': '2022', 'ID': 65}, {'Location':                       geometry                            address\n",
      "0  POINT (-121.99792 40.79651)  Shasta, California, United States, 'Day': '09', 'Month': '09', 'Year': '2022', 'ID': 66}, {'Location':                       geometry                        address\n",
      "0  POINT (-106.22304 31.80722)  El Paso, Texas, United States, 'Day': '13', 'Month': '09', 'Year': '2022', 'ID': 67}, {'Location':                      geometry                               address\n",
      "0  POINT (-82.34881 27.91845)  Hillsborough, Florida, United States, 'Day': '28', 'Month': '09', 'Year': '2022', 'ID': 68}, {'Location':                      geometry                       address\n",
      "0  POINT (-81.72688 27.94485)  Polk, Florida, United States, 'Day': '29', 'Month': '09', 'Year': '2022', 'ID': 69}, {'Location':                      geometry                        address\n",
      "0  POINT (-79.03929 35.67296)  North Carolina, United States, 'Day': '30', 'Month': '09', 'Year': '2022', 'ID': 70}, {'Location':                      geometry                     address\n",
      "0  POINT (-72.73422 41.65002)  Connecticut, United States, 'Day': '14', 'Month': '10', 'Year': '2022', 'ID': 71}, {'Location':                      geometry                       address\n",
      "0  POINT (-72.03237 42.37888)  Massachusetts, United States, 'Day': '14', 'Month': '10', 'Year': '2022', 'ID': 72}, {'Location':                      geometry               address\n",
      "0  POINT (-68.85902 45.70910)  Maine, United States, 'Day': '14', 'Month': '10', 'Year': '2022', 'ID': 73}, {'Location':                      geometry                      address\n",
      "0  POINT (-71.59924 41.79624)  Rhode Island, United States, 'Day': '14', 'Month': '10', 'Year': '2022', 'ID': 74}, {'Location':                      geometry                       address\n",
      "0  POINT (-71.65540 43.48491)  New Hampshire, United States, 'Day': '14', 'Month': '10', 'Year': '2022', 'ID': 75}, {'Location':                      geometry                 address\n",
      "0  POINT (-72.50026 44.59907)  Vermont, United States, 'Day': '14', 'Month': '10', 'Year': '2022', 'ID': 76}, {'Location':                       geometry                            address\n",
      "0  POINT (-122.68424 48.21627)  Island, Washington, United States, 'Day': '04', 'Month': '11', 'Year': '2022', 'ID': 77}, {'Location':                      geometry                             address\n",
      "0  POINT (-85.53728 42.24950)  Kalamazoo, Michigan, United States, 'Day': '05', 'Month': '11', 'Year': '2022', 'ID': 78}, {'Location':                      geometry                   address\n",
      "0  POINT (-89.68846 44.43090)  Wisconsin, United States, 'Day': '05', 'Month': '11', 'Year': '2022', 'ID': 79}, {'Location':                      geometry                          address\n",
      "0  POINT (-82.36401 29.67557)  Alachua, Florida, United States, 'Day': '10', 'Month': '11', 'Year': '2022', 'ID': 80}, {'Location':                      geometry                 address\n",
      "0  POINT (-86.82953 33.25888)  Alabama, United States, 'Day': '30', 'Month': '11', 'Year': '2022', 'ID': 81}, {'Location':                      geometry                     address\n",
      "0  POINT (-89.73485 32.97153)  Mississippi, United States, 'Day': '30', 'Month': '11', 'Year': '2022', 'ID': 82}, {'Location':                      geometry                 address\n",
      "0  POINT (-83.11374 32.32938)  Georgia, United States, 'Day': '30', 'Month': '11', 'Year': '2022', 'ID': 83}, {'Location':                      geometry                       address\n",
      "0  POINT (-72.03237 42.37888)  Massachusetts, United States, 'Day': '16', 'Month': '12', 'Year': '2022', 'ID': 84}, {'Location':                      geometry                 address\n",
      "0  POINT (-72.50026 44.59907)  Vermont, United States, 'Day': '16', 'Month': '12', 'Year': '2022', 'ID': 85}, {'Location':                      geometry                       address\n",
      "0  POINT (-71.65540 43.48491)  New Hampshire, United States, 'Day': '16', 'Month': '12', 'Year': '2022', 'ID': 86}, {'Location':                      geometry               address\n",
      "0  POINT (-68.85902 45.70910)  Maine, United States, 'Day': '16', 'Month': '12', 'Year': '2022', 'ID': 87}, {'Location':                      geometry                 address\n",
      "0  POINT (-86.82953 33.25888)  Alabama, United States, 'Day': '23', 'Month': '12', 'Year': '2022', 'ID': 88}, {'Location':                      geometry                 address\n",
      "0  POINT (-83.11374 32.32938)  Georgia, United States, 'Day': '23', 'Month': '12', 'Year': '2022', 'ID': 89}, {'Location':                      geometry                     address\n",
      "0  POINT (-89.73485 32.97153)  Mississippi, United States, 'Day': '23', 'Month': '12', 'Year': '2022', 'ID': 90}, {'Location':                      geometry                          address\n",
      "0  POINT (-94.31034 37.17652)  Jasper, Missouri, United States, 'Day': '23', 'Month': '12', 'Year': '2022', 'ID': 91}, {'Location':                      geometry                        address\n",
      "0  POINT (-79.03929 35.67296)  North Carolina, United States, 'Day': '24', 'Month': '12', 'Year': '2022', 'ID': 92}, {'Location':                      geometry                        address\n",
      "0  POINT (-80.43637 33.68744)  South Carolina, United States, 'Day': '24', 'Month': '12', 'Year': '2022', 'ID': 93}, {'Location':                      geometry                 address\n",
      "0  POINT (-86.82953 33.25888)  Alabama, United States, 'Day': '24', 'Month': '12', 'Year': '2022', 'ID': 94}, {'Location':                      geometry                 address\n",
      "0  POINT (-83.11374 32.32938)  Georgia, United States, 'Day': '24', 'Month': '12', 'Year': '2022', 'ID': 95}, {'Location':                      geometry                     address\n",
      "0  POINT (-89.73485 32.97153)  Mississippi, United States, 'Day': '24', 'Month': '12', 'Year': '2022', 'ID': 96}, {'Location':                       geometry                          address\n",
      "0  POINT (-121.86221 47.48734)  King, Washington, United States, 'Day': '26', 'Month': '12', 'Year': '2022', 'ID': 97}, {'Location':                       geometry                                address\n",
      "0  POINT (-121.29807 38.47323)  Sacramento, California, United States, 'Day': '31', 'Month': '12', 'Year': '2022', 'ID': 98}, {'Location':                      geometry                                         address\n",
      "0  POINT (-92.19165 32.53370)  Arkansas Road, 71291, Louisiana, United States, 'Day': '02', 'Month': '01', 'Year': '2023', 'ID': 99}, {'Location':                       geometry                                address\n",
      "0  POINT (-121.29807 38.47323)  Sacramento, California, United States, 'Day': '07', 'Month': '01', 'Year': '2023', 'ID': 100}, {'Location':                      geometry                     address\n",
      "0  POINT (-72.73422 41.65002)  Connecticut, United States, 'Day': '23', 'Month': '01', 'Year': '2023', 'ID': 101}, {'Location':                      geometry                      address\n",
      "0  POINT (-71.59924 41.79624)  Rhode Island, United States, 'Day': '23', 'Month': '01', 'Year': '2023', 'ID': 102}, {'Location':                      geometry                       address\n",
      "0  POINT (-72.03237 42.37888)  Massachusetts, United States, 'Day': '23', 'Month': '01', 'Year': '2023', 'ID': 103}, {'Location':                      geometry                 address\n",
      "0  POINT (-72.50026 44.59907)  Vermont, United States, 'Day': '23', 'Month': '01', 'Year': '2023', 'ID': 104}, {'Location':                      geometry                       address\n",
      "0  POINT (-71.65540 43.48491)  New Hampshire, United States, 'Day': '23', 'Month': '01', 'Year': '2023', 'ID': 105}, {'Location':                      geometry               address\n",
      "0  POINT (-68.85902 45.70910)  Maine, United States, 'Day': '23', 'Month': '01', 'Year': '2023', 'ID': 106}, {'Location':                      geometry                       address\n",
      "0  POINT (-95.37412 29.81198)  Harris, Texas, United States, 'Day': '24', 'Month': '01', 'Year': '2023', 'ID': 107}, {'Location':                      geometry                  address\n",
      "0  POINT (-92.44791 35.20489)  Arkansas, United States, 'Day': '25', 'Month': '01', 'Year': '2023', 'ID': 108}, {'Location':                      geometry               address\n",
      "0  POINT (-98.54561 31.26389)  Texas, United States, 'Day': '25', 'Month': '01', 'Year': '2023', 'ID': 109}, {'Location':                      geometry                   address\n",
      "0  POINT (-92.00713 30.87039)  Louisiana, United States, 'Day': '25', 'Month': '01', 'Year': '2023', 'ID': 110}, {'Location':                      geometry                     address\n",
      "0  POINT (-89.73485 32.97153)  Mississippi, United States, 'Day': '25', 'Month': '01', 'Year': '2023', 'ID': 111}, {'Location':                      geometry                       address\n",
      "0  POINT (-96.79686 32.77627)  Dallas, Texas, United States, 'Day': '31', 'Month': '01', 'Year': '2023', 'ID': 112}, {'Location':                      geometry                       address\n",
      "0  POINT (-97.75614 30.28786)  Travis, Texas, United States, 'Day': '01', 'Month': '02', 'Year': '2023', 'ID': 113}, {'Location':                      geometry                  address\n",
      "0  POINT (-92.44791 35.20489)  Arkansas, United States, 'Day': '02', 'Month': '02', 'Year': '2023', 'ID': 114}, {'Location':                      geometry                     address\n",
      "0  POINT (-89.73485 32.97153)  Mississippi, United States, 'Day': '02', 'Month': '02', 'Year': '2023', 'ID': 115}, {'Location':                      geometry               address\n",
      "0  POINT (-98.54561 31.26389)  Texas, United States, 'Day': '02', 'Month': '02', 'Year': '2023', 'ID': 116}, {'Location':                      geometry  \\\n",
      "0  POINT (-87.38122 44.83195)   \n",
      "\n",
      "                                             address  \n",
      "0  Michigan Street Bridge, Michigan Street, 54235...  , 'Day': '23', 'Month': '02', 'Year': '2023', 'ID': 117}, {'Location':                       geometry                                 address\n",
      "0  POINT (-118.24277 34.05369)  Los Angeles, California, United States, 'Day': '25', 'Month': '02', 'Year': '2023', 'ID': 118}, {'Location':                      geometry                           address\n",
      "0  POINT (-85.79450 43.51212)  Newaygo, Michigan, United States, 'Day': '27', 'Month': '02', 'Year': '2023', 'ID': 119}, {'Location':                      geometry                         address\n",
      "0  POINT (-97.72158 33.62058)  Montague, Texas, United States, 'Day': '02', 'Month': '03', 'Year': '2023', 'ID': 120}, {'Location':                      geometry                 address\n",
      "0  POINT (-86.82953 33.25888)  Alabama, United States, 'Day': '03', 'Month': '03', 'Year': '2023', 'ID': 121}, {'Location':                      geometry                 address\n",
      "0  POINT (-83.11374 32.32938)  Georgia, United States, 'Day': '03', 'Month': '03', 'Year': '2023', 'ID': 122}, {'Location':                      geometry                     address\n",
      "0  POINT (-89.73485 32.97153)  Mississippi, United States, 'Day': '03', 'Month': '03', 'Year': '2023', 'ID': 123}, {'Location':                      geometry                                       address\n",
      "0  POINT (-84.15966 36.74342)  Williamsburg, 40769, Kentucky, United States, 'Day': '03', 'Month': '03', 'Year': '2023', 'ID': 124}, {'Location':                      geometry                                    address\n",
      "0  POINT (-88.54130 42.66752)  Walworth County, Wisconsin, United States, 'Day': '09', 'Month': '03', 'Year': '2023', 'ID': 125}, {'Location':                      geometry                     address\n",
      "0  POINT (-72.73422 41.65002)  Connecticut, United States, 'Day': '14', 'Month': '03', 'Year': '2023', 'ID': 126}, {'Location':                      geometry                       address\n",
      "0  POINT (-72.03237 42.37888)  Massachusetts, United States, 'Day': '14', 'Month': '03', 'Year': '2023', 'ID': 127}, {'Location':                      geometry                 address\n",
      "0  POINT (-72.50026 44.59907)  Vermont, United States, 'Day': '14', 'Month': '03', 'Year': '2023', 'ID': 128}, {'Location':                      geometry                      address\n",
      "0  POINT (-71.59924 41.79624)  Rhode Island, United States, 'Day': '14', 'Month': '03', 'Year': '2023', 'ID': 129}, {'Location':                      geometry                       address\n",
      "0  POINT (-71.65540 43.48491)  New Hampshire, United States, 'Day': '14', 'Month': '03', 'Year': '2023', 'ID': 130}, {'Location':                      geometry               address\n",
      "0  POINT (-68.85902 45.70910)  Maine, United States, 'Day': '14', 'Month': '03', 'Year': '2023', 'ID': 131}, {'Location':                      geometry                            address\n",
      "0  POINT (-74.00602 40.71273)  New York, New York, United States, 'Day': '14', 'Month': '03', 'Year': '2023', 'ID': 132}, {'Location':                      geometry              address\n",
      "0  POINT (-82.68814 40.22536)  Ohio, United States, 'Day': '25', 'Month': '03', 'Year': '2023', 'ID': 133}, {'Location':                      geometry                       address\n",
      "0  POINT (-80.84084 38.47584)  West Virginia, United States, 'Day': '25', 'Month': '03', 'Year': '2023', 'ID': 134}, {'Location':                      geometry                  address\n",
      "0  POINT (-78.49277 37.12322)  Virginia, United States, 'Day': '25', 'Month': '03', 'Year': '2023', 'ID': 135}, {'Location':                      geometry                  address\n",
      "0  POINT (-92.44791 35.20489)  Arkansas, United States, 'Day': '31', 'Month': '03', 'Year': '2023', 'ID': 136}, {'Location':                      geometry                  address\n",
      "0  POINT (-89.43373 40.07966)  Illinois, United States, 'Day': '31', 'Month': '03', 'Year': '2023', 'ID': 137}, {'Location':                      geometry              address\n",
      "0  POINT (-82.68814 40.22536)  Ohio, United States, 'Day': '01', 'Month': '04', 'Year': '2023', 'ID': 138}, {'Location':                      geometry                       address\n",
      "0  POINT (-80.84084 38.47584)  West Virginia, United States, 'Day': '01', 'Month': '04', 'Year': '2023', 'ID': 139}, {'Location':                      geometry                  address\n",
      "0  POINT (-78.49277 37.12322)  Virginia, United States, 'Day': '01', 'Month': '04', 'Year': '2023', 'ID': 140}, {'Location':                      geometry                        address\n",
      "0  POINT (-98.21644 26.35303)  Hidalgo, Texas, United States, 'Day': '29', 'Month': '04', 'Year': '2023', 'ID': 141}, {'Location':                      geometry                     address\n",
      "0  POINT (-72.73422 41.65002)  Connecticut, United States, 'Day': '01', 'Month': '05', 'Year': '2023', 'ID': 142}, {'Location':                      geometry                       address\n",
      "0  POINT (-72.03237 42.37888)  Massachusetts, United States, 'Day': '01', 'Month': '05', 'Year': '2023', 'ID': 143}, {'Location':                      geometry                      address\n",
      "0  POINT (-71.59924 41.79624)  Rhode Island, United States, 'Day': '01', 'Month': '05', 'Year': '2023', 'ID': 144}, {'Location':                      geometry               address\n",
      "0  POINT (-68.85902 45.70910)  Maine, United States, 'Day': '01', 'Month': '05', 'Year': '2023', 'ID': 145}, {'Location':                      geometry                       address\n",
      "0  POINT (-71.65540 43.48491)  New Hampshire, United States, 'Day': '01', 'Month': '05', 'Year': '2023', 'ID': 146}, {'Location':                      geometry                 address\n",
      "0  POINT (-72.50026 44.59907)  Vermont, United States, 'Day': '01', 'Month': '05', 'Year': '2023', 'ID': 147}, {'Location':                      geometry                         address\n",
      "0  POINT (-81.72305 29.62662)  Putnam, Florida, United States, 'Day': '22', 'Month': '05', 'Year': '2023', 'ID': 148}]\n"
     ]
    }
   ],
   "source": [
    "print(final_table)"
   ]
  },
  {
   "cell_type": "code",
   "execution_count": 23,
   "metadata": {},
   "outputs": [
    {
     "name": "stdout",
     "output_type": "stream",
     "text": [
      "                      geometry                              address\n",
      "0  POINT (-119.99194 38.05694)  Tuolumne, California, United States\n",
      "02\n",
      "01\n",
      "2022\n",
      "0\n"
     ]
    },
    {
     "name": "stderr",
     "output_type": "stream",
     "text": [
      "2024-01-22 18:34:38,567 INFO Welcome to the CDS\n",
      "2024-01-22 18:34:38,568 INFO Sending request to https://cds.climate.copernicus.eu/api/v2/resources/reanalysis-era5-single-levels\n",
      "2024-01-22 18:34:38,774 INFO Request is queued\n",
      "2024-01-22 18:36:33,480 INFO Request is completed\n",
      "2024-01-22 18:36:33,481 INFO Downloading https://download-0001-clone.copernicus-climate.eu/cache-compute-0001/cache/data0/adaptor.mars.internal-1705970162.1210039-29823-17-7479e996-61e0-4cb5-a792-6f08019a2b7e.grib to 0.grib (71.3M)\n",
      "2024-01-22 18:36:38,315 INFO Download rate 14.8M/s  \n",
      "2024-01-22 18:36:38,572 INFO Welcome to the CDS\n",
      "2024-01-22 18:36:38,573 INFO Sending request to https://cds.climate.copernicus.eu/api/v2/resources/reanalysis-era5-single-levels\n"
     ]
    },
    {
     "name": "stdout",
     "output_type": "stream",
     "text": [
      "                     geometry                 address\n",
      "0  POINT (-83.11374 32.32938)  Georgia, United States\n",
      "03\n",
      "01\n",
      "2022\n",
      "1\n"
     ]
    },
    {
     "name": "stderr",
     "output_type": "stream",
     "text": [
      "2024-01-22 18:36:38,720 INFO Request is queued\n",
      "2024-01-22 18:38:33,416 INFO Request is completed\n",
      "2024-01-22 18:38:33,417 INFO Downloading https://download-0018.copernicus-climate.eu/cache-compute-0018/cache/data1/adaptor.mars.internal-1705970310.1895187-16608-3-69307e7b-31d7-4acb-892f-0d69ec129c2c.grib to 1.grib (71.3M)\n",
      "2024-01-22 18:38:48,462 INFO Download rate 4.7M/s   \n",
      "2024-01-22 18:38:48,720 INFO Welcome to the CDS\n",
      "2024-01-22 18:38:48,721 INFO Sending request to https://cds.climate.copernicus.eu/api/v2/resources/reanalysis-era5-single-levels\n"
     ]
    },
    {
     "name": "stdout",
     "output_type": "stream",
     "text": [
      "                     geometry                 address\n",
      "0  POINT (-86.82953 33.25888)  Alabama, United States\n",
      "03\n",
      "01\n",
      "2022\n",
      "2\n"
     ]
    },
    {
     "name": "stderr",
     "output_type": "stream",
     "text": [
      "2024-01-22 18:38:48,870 INFO Downloading https://download-0018.copernicus-climate.eu/cache-compute-0018/cache/data1/adaptor.mars.internal-1705970310.1895187-16608-3-69307e7b-31d7-4acb-892f-0d69ec129c2c.grib to 2.grib (71.3M)\n",
      "2024-01-22 18:39:08,165 INFO Download rate 3.7M/s   \n",
      "2024-01-22 18:39:08,422 INFO Welcome to the CDS\n",
      "2024-01-22 18:39:08,423 INFO Sending request to https://cds.climate.copernicus.eu/api/v2/resources/reanalysis-era5-single-levels\n"
     ]
    },
    {
     "name": "stdout",
     "output_type": "stream",
     "text": [
      "                     geometry                     address\n",
      "0  POINT (-89.73485 32.97153)  Mississippi, United States\n",
      "03\n",
      "01\n",
      "2022\n",
      "3\n"
     ]
    },
    {
     "name": "stderr",
     "output_type": "stream",
     "text": [
      "2024-01-22 18:39:08,572 INFO Downloading https://download-0018.copernicus-climate.eu/cache-compute-0018/cache/data1/adaptor.mars.internal-1705970310.1895187-16608-3-69307e7b-31d7-4acb-892f-0d69ec129c2c.grib to 3.grib (71.3M)\n",
      "2024-01-22 18:39:22,074 INFO Download rate 5.3M/s   \n",
      "2024-01-22 18:39:22,336 INFO Welcome to the CDS\n",
      "2024-01-22 18:39:22,337 INFO Sending request to https://cds.climate.copernicus.eu/api/v2/resources/reanalysis-era5-single-levels\n"
     ]
    },
    {
     "name": "stdout",
     "output_type": "stream",
     "text": [
      "                     geometry                 address\n",
      "0  POINT (-83.11374 32.32938)  Georgia, United States\n",
      "16\n",
      "01\n",
      "2022\n",
      "4\n"
     ]
    },
    {
     "name": "stderr",
     "output_type": "stream",
     "text": [
      "2024-01-22 18:39:22,482 INFO Request is queued\n",
      "2024-01-22 18:41:17,194 INFO Request is completed\n",
      "2024-01-22 18:41:17,195 INFO Downloading https://download-0017.copernicus-climate.eu/cache-compute-0017/cache/data9/adaptor.mars.internal-1705970444.2147424-11344-12-cc9ac547-7a55-4ff3-aec8-5a444bed328f.grib to 4.grib (71.3M)\n",
      "2024-01-22 18:41:21,750 INFO Download rate 15.7M/s  \n",
      "2024-01-22 18:41:22,008 INFO Welcome to the CDS\n",
      "2024-01-22 18:41:22,009 INFO Sending request to https://cds.climate.copernicus.eu/api/v2/resources/reanalysis-era5-single-levels\n"
     ]
    },
    {
     "name": "stdout",
     "output_type": "stream",
     "text": [
      "                     geometry                 address\n",
      "0  POINT (-86.82953 33.25888)  Alabama, United States\n",
      "16\n",
      "01\n",
      "2022\n",
      "5\n"
     ]
    },
    {
     "name": "stderr",
     "output_type": "stream",
     "text": [
      "2024-01-22 18:41:22,159 INFO Downloading https://download-0017.copernicus-climate.eu/cache-compute-0017/cache/data9/adaptor.mars.internal-1705970444.2147424-11344-12-cc9ac547-7a55-4ff3-aec8-5a444bed328f.grib to 5.grib (71.3M)\n",
      "2024-01-22 18:41:25,224 INFO Download rate 23.3M/s  \n",
      "2024-01-22 18:41:25,484 INFO Welcome to the CDS\n",
      "2024-01-22 18:41:25,485 INFO Sending request to https://cds.climate.copernicus.eu/api/v2/resources/reanalysis-era5-single-levels\n"
     ]
    },
    {
     "name": "stdout",
     "output_type": "stream",
     "text": [
      "                     geometry                     address\n",
      "0  POINT (-72.73422 41.65002)  Connecticut, United States\n",
      "29\n",
      "01\n",
      "2022\n",
      "6\n"
     ]
    },
    {
     "name": "stderr",
     "output_type": "stream",
     "text": [
      "2024-01-22 18:41:25,617 INFO Request is queued\n",
      "2024-01-22 18:47:46,096 INFO Request is completed\n",
      "2024-01-22 18:47:46,097 INFO Downloading https://download-0011-clone.copernicus-climate.eu/cache-compute-0011/cache/data4/adaptor.mars.internal-1705970826.5667481-28973-20-bd690f14-da29-42c4-b32e-fa24cfa27988.grib to 6.grib (71.3M)\n",
      "2024-01-22 18:47:51,259 INFO Download rate 13.8M/s  \n",
      "2024-01-22 18:47:51,533 INFO Welcome to the CDS\n",
      "2024-01-22 18:47:51,534 INFO Sending request to https://cds.climate.copernicus.eu/api/v2/resources/reanalysis-era5-single-levels\n"
     ]
    },
    {
     "name": "stdout",
     "output_type": "stream",
     "text": [
      "                     geometry                       address\n",
      "0  POINT (-72.03237 42.37888)  Massachusetts, United States\n",
      "29\n",
      "01\n",
      "2022\n",
      "7\n"
     ]
    },
    {
     "name": "stderr",
     "output_type": "stream",
     "text": [
      "2024-01-22 18:47:51,698 INFO Downloading https://download-0011-clone.copernicus-climate.eu/cache-compute-0011/cache/data4/adaptor.mars.internal-1705970826.5667481-28973-20-bd690f14-da29-42c4-b32e-fa24cfa27988.grib to 7.grib (71.3M)\n",
      "2024-01-22 18:47:58,083 INFO Download rate 11.2M/s  \n",
      "2024-01-22 18:47:58,351 INFO Welcome to the CDS\n",
      "2024-01-22 18:47:58,353 INFO Sending request to https://cds.climate.copernicus.eu/api/v2/resources/reanalysis-era5-single-levels\n"
     ]
    },
    {
     "name": "stdout",
     "output_type": "stream",
     "text": [
      "                     geometry                       address\n",
      "0  POINT (-71.65540 43.48491)  New Hampshire, United States\n",
      "29\n",
      "01\n",
      "2022\n",
      "8\n"
     ]
    },
    {
     "name": "stderr",
     "output_type": "stream",
     "text": [
      "2024-01-22 18:47:58,660 INFO Downloading https://download-0011-clone.copernicus-climate.eu/cache-compute-0011/cache/data4/adaptor.mars.internal-1705970826.5667481-28973-20-bd690f14-da29-42c4-b32e-fa24cfa27988.grib to 8.grib (71.3M)\n",
      "2024-01-22 18:48:08,146 INFO Download rate 7.5M/s   \n",
      "2024-01-22 18:48:08,414 INFO Welcome to the CDS\n",
      "2024-01-22 18:48:08,415 INFO Sending request to https://cds.climate.copernicus.eu/api/v2/resources/reanalysis-era5-single-levels\n"
     ]
    },
    {
     "name": "stdout",
     "output_type": "stream",
     "text": [
      "                     geometry                      address\n",
      "0  POINT (-71.59924 41.79624)  Rhode Island, United States\n",
      "29\n",
      "01\n",
      "2022\n",
      "9\n"
     ]
    },
    {
     "name": "stderr",
     "output_type": "stream",
     "text": [
      "2024-01-22 18:48:08,576 INFO Downloading https://download-0011-clone.copernicus-climate.eu/cache-compute-0011/cache/data4/adaptor.mars.internal-1705970826.5667481-28973-20-bd690f14-da29-42c4-b32e-fa24cfa27988.grib to 9.grib (71.3M)\n",
      "2024-01-22 18:48:17,453 INFO Download rate 8M/s     \n",
      "2024-01-22 18:48:17,728 INFO Welcome to the CDS\n",
      "2024-01-22 18:48:17,730 INFO Sending request to https://cds.climate.copernicus.eu/api/v2/resources/reanalysis-era5-single-levels\n"
     ]
    },
    {
     "name": "stdout",
     "output_type": "stream",
     "text": [
      "                     geometry                 address\n",
      "0  POINT (-72.50026 44.59907)  Vermont, United States\n",
      "29\n",
      "01\n",
      "2022\n",
      "10\n"
     ]
    },
    {
     "name": "stderr",
     "output_type": "stream",
     "text": [
      "2024-01-22 18:48:17,907 INFO Downloading https://download-0011-clone.copernicus-climate.eu/cache-compute-0011/cache/data4/adaptor.mars.internal-1705970826.5667481-28973-20-bd690f14-da29-42c4-b32e-fa24cfa27988.grib to 10.grib (71.3M)\n",
      "2024-01-22 18:48:27,093 INFO Download rate 7.8M/s   \n",
      "2024-01-22 18:48:27,361 INFO Welcome to the CDS\n",
      "2024-01-22 18:48:27,362 INFO Sending request to https://cds.climate.copernicus.eu/api/v2/resources/reanalysis-era5-single-levels\n"
     ]
    },
    {
     "name": "stdout",
     "output_type": "stream",
     "text": [
      "                     geometry               address\n",
      "0  POINT (-68.85902 45.70910)  Maine, United States\n",
      "29\n",
      "01\n",
      "2022\n",
      "11\n"
     ]
    },
    {
     "name": "stderr",
     "output_type": "stream",
     "text": [
      "2024-01-22 18:48:27,569 INFO Downloading https://download-0011-clone.copernicus-climate.eu/cache-compute-0011/cache/data4/adaptor.mars.internal-1705970826.5667481-28973-20-bd690f14-da29-42c4-b32e-fa24cfa27988.grib to 11.grib (71.3M)\n",
      "2024-01-22 18:48:36,795 INFO Download rate 7.7M/s   \n",
      "2024-01-22 18:48:37,061 INFO Welcome to the CDS\n",
      "2024-01-22 18:48:37,062 INFO Sending request to https://cds.climate.copernicus.eu/api/v2/resources/reanalysis-era5-single-levels\n"
     ]
    },
    {
     "name": "stdout",
     "output_type": "stream",
     "text": [
      "                     geometry                           address\n",
      "0  POINT (-89.87398 35.17826)  Shelby, Tennessee, United States\n",
      "03\n",
      "02\n",
      "2022\n",
      "12\n"
     ]
    },
    {
     "name": "stderr",
     "output_type": "stream",
     "text": [
      "2024-01-22 18:48:37,215 INFO Request is queued\n",
      "2024-01-22 18:50:31,977 INFO Request is completed\n",
      "2024-01-22 18:50:31,979 INFO Downloading https://download-0006-clone.copernicus-climate.eu/cache-compute-0006/cache/data3/adaptor.mars.internal-1705971000.5770133-11917-15-6e2dccde-4440-459f-b45a-47313a63e925.grib to 12.grib (71.3M)\n",
      "2024-01-22 18:50:53,582 INFO Download rate 3.3M/s   \n",
      "2024-01-22 18:50:53,849 INFO Welcome to the CDS\n",
      "2024-01-22 18:50:53,850 INFO Sending request to https://cds.climate.copernicus.eu/api/v2/resources/reanalysis-era5-single-levels\n"
     ]
    },
    {
     "name": "stdout",
     "output_type": "stream",
     "text": [
      "                     geometry              address\n",
      "0  POINT (-82.68814 40.22536)  Ohio, United States\n",
      "03\n",
      "02\n",
      "2022\n",
      "13\n"
     ]
    },
    {
     "name": "stderr",
     "output_type": "stream",
     "text": [
      "2024-01-22 18:50:54,048 INFO Downloading https://download-0006-clone.copernicus-climate.eu/cache-compute-0006/cache/data3/adaptor.mars.internal-1705971000.5770133-11917-15-6e2dccde-4440-459f-b45a-47313a63e925.grib to 13.grib (71.3M)\n",
      "2024-01-22 18:51:47,960 INFO Download rate 1.3M/s   \n",
      "2024-01-22 18:51:48,226 INFO Welcome to the CDS\n",
      "2024-01-22 18:51:48,227 INFO Sending request to https://cds.climate.copernicus.eu/api/v2/resources/reanalysis-era5-single-levels\n"
     ]
    },
    {
     "name": "stdout",
     "output_type": "stream",
     "text": [
      "                     geometry                          address\n",
      "0  POINT (-74.26185 41.86893)  Ulster, New York, United States\n",
      "04\n",
      "02\n",
      "2022\n",
      "14\n"
     ]
    },
    {
     "name": "stderr",
     "output_type": "stream",
     "text": [
      "2024-01-22 18:51:48,402 INFO Request is queued\n",
      "2024-01-22 18:53:04,558 INFO Request is completed\n",
      "2024-01-22 18:53:04,559 INFO Downloading https://download-0017.copernicus-climate.eu/cache-compute-0017/cache/data2/adaptor.mars.internal-1705971173.098665-1441-10-eadb4129-d368-4059-a649-f195096ab320.grib to 14.grib (71.3M)\n",
      "2024-01-22 18:53:11,730 INFO Download rate 9.9M/s   \n",
      "2024-01-22 18:53:12,299 INFO Welcome to the CDS\n",
      "2024-01-22 18:53:12,300 INFO Sending request to https://cds.climate.copernicus.eu/api/v2/resources/reanalysis-era5-single-levels\n"
     ]
    },
    {
     "name": "stdout",
     "output_type": "stream",
     "text": [
      "                     geometry                     address\n",
      "0  POINT (-72.73422 41.65002)  Connecticut, United States\n",
      "18\n",
      "02\n",
      "2022\n",
      "15\n"
     ]
    },
    {
     "name": "stderr",
     "output_type": "stream",
     "text": [
      "2024-01-22 18:53:12,472 INFO Request is queued\n",
      "2024-01-22 18:59:32,975 INFO Request is completed\n",
      "2024-01-22 18:59:32,976 INFO Downloading https://download-0005-clone.copernicus-climate.eu/cache-compute-0005/cache/data9/adaptor.mars.internal-1705971523.0065413-30237-1-978f1f88-9c28-4ced-ae09-d0ef5670dbb5.grib to 15.grib (71.3M)\n",
      "2024-01-22 18:59:41,205 INFO Download rate 8.7M/s   \n",
      "2024-01-22 18:59:41,472 INFO Welcome to the CDS\n",
      "2024-01-22 18:59:41,474 INFO Sending request to https://cds.climate.copernicus.eu/api/v2/resources/reanalysis-era5-single-levels\n"
     ]
    },
    {
     "name": "stdout",
     "output_type": "stream",
     "text": [
      "                     geometry               address\n",
      "0  POINT (-68.85902 45.70910)  Maine, United States\n",
      "18\n",
      "02\n",
      "2022\n",
      "16\n"
     ]
    },
    {
     "name": "stderr",
     "output_type": "stream",
     "text": [
      "2024-01-22 18:59:41,657 INFO Downloading https://download-0005-clone.copernicus-climate.eu/cache-compute-0005/cache/data9/adaptor.mars.internal-1705971523.0065413-30237-1-978f1f88-9c28-4ced-ae09-d0ef5670dbb5.grib to 16.grib (71.3M)\n",
      "2024-01-22 18:59:57,731 INFO Download rate 4.4M/s   \n",
      "2024-01-22 18:59:57,996 INFO Welcome to the CDS\n",
      "2024-01-22 18:59:57,997 INFO Sending request to https://cds.climate.copernicus.eu/api/v2/resources/reanalysis-era5-single-levels\n"
     ]
    },
    {
     "name": "stdout",
     "output_type": "stream",
     "text": [
      "                     geometry                       address\n",
      "0  POINT (-72.03237 42.37888)  Massachusetts, United States\n",
      "18\n",
      "02\n",
      "2022\n",
      "17\n"
     ]
    },
    {
     "name": "stderr",
     "output_type": "stream",
     "text": [
      "2024-01-22 18:59:58,157 INFO Downloading https://download-0005-clone.copernicus-climate.eu/cache-compute-0005/cache/data9/adaptor.mars.internal-1705971523.0065413-30237-1-978f1f88-9c28-4ced-ae09-d0ef5670dbb5.grib to 17.grib (71.3M)\n",
      "2024-01-22 19:00:33,943 INFO Download rate 2M/s     \n",
      "2024-01-22 19:00:34,214 INFO Welcome to the CDS\n",
      "2024-01-22 19:00:34,215 INFO Sending request to https://cds.climate.copernicus.eu/api/v2/resources/reanalysis-era5-single-levels\n"
     ]
    },
    {
     "name": "stdout",
     "output_type": "stream",
     "text": [
      "                     geometry                       address\n",
      "0  POINT (-71.65540 43.48491)  New Hampshire, United States\n",
      "18\n",
      "02\n",
      "2022\n",
      "18\n"
     ]
    },
    {
     "name": "stderr",
     "output_type": "stream",
     "text": [
      "2024-01-22 19:00:34,438 INFO Downloading https://download-0005-clone.copernicus-climate.eu/cache-compute-0005/cache/data9/adaptor.mars.internal-1705971523.0065413-30237-1-978f1f88-9c28-4ced-ae09-d0ef5670dbb5.grib to 18.grib (71.3M)\n",
      "2024-01-22 19:01:03,219 INFO Download rate 2.5M/s   \n",
      "2024-01-22 19:01:03,486 INFO Welcome to the CDS\n",
      "2024-01-22 19:01:03,487 INFO Sending request to https://cds.climate.copernicus.eu/api/v2/resources/reanalysis-era5-single-levels\n"
     ]
    },
    {
     "name": "stdout",
     "output_type": "stream",
     "text": [
      "                     geometry                 address\n",
      "0  POINT (-72.50026 44.59907)  Vermont, United States\n",
      "18\n",
      "02\n",
      "2022\n",
      "19\n"
     ]
    },
    {
     "name": "stderr",
     "output_type": "stream",
     "text": [
      "2024-01-22 19:01:03,661 INFO Downloading https://download-0005-clone.copernicus-climate.eu/cache-compute-0005/cache/data9/adaptor.mars.internal-1705971523.0065413-30237-1-978f1f88-9c28-4ced-ae09-d0ef5670dbb5.grib to 19.grib (71.3M)\n",
      "2024-01-22 19:01:40,423 INFO Download rate 1.9M/s   \n",
      "2024-01-22 19:01:40,728 INFO Welcome to the CDS\n",
      "2024-01-22 19:01:40,729 INFO Sending request to https://cds.climate.copernicus.eu/api/v2/resources/reanalysis-era5-single-levels\n"
     ]
    },
    {
     "name": "stdout",
     "output_type": "stream",
     "text": [
      "                     geometry                      address\n",
      "0  POINT (-71.59924 41.79624)  Rhode Island, United States\n",
      "18\n",
      "02\n",
      "2022\n",
      "20\n"
     ]
    },
    {
     "name": "stderr",
     "output_type": "stream",
     "text": [
      "2024-01-22 19:01:40,900 INFO Downloading https://download-0005-clone.copernicus-climate.eu/cache-compute-0005/cache/data9/adaptor.mars.internal-1705971523.0065413-30237-1-978f1f88-9c28-4ced-ae09-d0ef5670dbb5.grib to 20.grib (71.3M)\n",
      "2024-01-22 19:02:10,839 INFO Download rate 2.4M/s   \n",
      "2024-01-22 19:02:11,107 INFO Welcome to the CDS\n",
      "2024-01-22 19:02:11,108 INFO Sending request to https://cds.climate.copernicus.eu/api/v2/resources/reanalysis-era5-single-levels\n"
     ]
    },
    {
     "name": "stdout",
     "output_type": "stream",
     "text": [
      "                     geometry                 address\n",
      "0  POINT (-86.82953 33.25888)  Alabama, United States\n",
      "12\n",
      "03\n",
      "2022\n",
      "21\n"
     ]
    },
    {
     "name": "stderr",
     "output_type": "stream",
     "text": [
      "2024-01-22 19:02:11,253 INFO Request is queued\n",
      "2024-01-22 19:05:03,845 INFO Request is completed\n",
      "2024-01-22 19:05:03,846 INFO Downloading https://download-0018.copernicus-climate.eu/cache-compute-0018/cache/data9/adaptor.mars.internal-1705971860.2399733-16608-12-dfc5d356-33ef-4f5f-ae88-868409eed124.grib to 21.grib (71.3M)\n",
      "2024-01-22 19:05:15,296 INFO Download rate 6.2M/s   \n",
      "2024-01-22 19:05:15,565 INFO Welcome to the CDS\n",
      "2024-01-22 19:05:15,565 INFO Sending request to https://cds.climate.copernicus.eu/api/v2/resources/reanalysis-era5-single-levels\n"
     ]
    },
    {
     "name": "stdout",
     "output_type": "stream",
     "text": [
      "                     geometry                 address\n",
      "0  POINT (-83.11374 32.32938)  Georgia, United States\n",
      "12\n",
      "03\n",
      "2022\n",
      "22\n"
     ]
    },
    {
     "name": "stderr",
     "output_type": "stream",
     "text": [
      "2024-01-22 19:05:15,733 INFO Downloading https://download-0018.copernicus-climate.eu/cache-compute-0018/cache/data9/adaptor.mars.internal-1705971860.2399733-16608-12-dfc5d356-33ef-4f5f-ae88-868409eed124.grib to 22.grib (71.3M)\n",
      "2024-01-22 19:05:46,707 INFO Download rate 2.3M/s   \n",
      "2024-01-22 19:05:46,985 INFO Welcome to the CDS\n",
      "2024-01-22 19:05:46,986 INFO Sending request to https://cds.climate.copernicus.eu/api/v2/resources/reanalysis-era5-single-levels\n"
     ]
    },
    {
     "name": "stdout",
     "output_type": "stream",
     "text": [
      "                     geometry                     address\n",
      "0  POINT (-89.73485 32.97153)  Mississippi, United States\n",
      "12\n",
      "03\n",
      "2022\n",
      "23\n"
     ]
    },
    {
     "name": "stderr",
     "output_type": "stream",
     "text": [
      "2024-01-22 19:05:47,140 INFO Downloading https://download-0018.copernicus-climate.eu/cache-compute-0018/cache/data9/adaptor.mars.internal-1705971860.2399733-16608-12-dfc5d356-33ef-4f5f-ae88-868409eed124.grib to 23.grib (71.3M)\n",
      "2024-01-22 19:06:15,890 INFO Download rate 2.5M/s   \n",
      "2024-01-22 19:06:16,159 INFO Welcome to the CDS\n",
      "2024-01-22 19:06:16,160 INFO Sending request to https://cds.climate.copernicus.eu/api/v2/resources/reanalysis-era5-single-levels\n"
     ]
    },
    {
     "name": "stdout",
     "output_type": "stream",
     "text": [
      "                     geometry                 address\n",
      "0  POINT (-81.46398 27.75677)  Florida, United States\n",
      "12\n",
      "03\n",
      "2022\n",
      "24\n"
     ]
    },
    {
     "name": "stderr",
     "output_type": "stream",
     "text": [
      "2024-01-22 19:06:16,318 INFO Downloading https://download-0018.copernicus-climate.eu/cache-compute-0018/cache/data9/adaptor.mars.internal-1705971860.2399733-16608-12-dfc5d356-33ef-4f5f-ae88-868409eed124.grib to 24.grib (71.3M)\n",
      "2024-01-22 19:06:46,083 INFO Download rate 2.4M/s   \n",
      "2024-01-22 19:06:46,351 INFO Welcome to the CDS\n",
      "2024-01-22 19:06:46,352 INFO Sending request to https://cds.climate.copernicus.eu/api/v2/resources/reanalysis-era5-single-levels\n"
     ]
    },
    {
     "name": "stdout",
     "output_type": "stream",
     "text": [
      "                     geometry                         address\n",
      "0  POINT (-95.62582 31.78192)  Anderson, Texas, United States\n",
      "21\n",
      "03\n",
      "2022\n",
      "25\n"
     ]
    },
    {
     "name": "stderr",
     "output_type": "stream",
     "text": [
      "2024-01-22 19:06:46,509 INFO Request is queued\n",
      "2024-01-22 19:09:39,122 INFO Request is completed\n",
      "2024-01-22 19:09:39,123 INFO Downloading https://download-0021.copernicus-climate.eu/cache-compute-0021/cache/data0/adaptor.mars.internal-1705972137.618139-22828-13-644783f2-0fdf-40d4-bb86-9eebe187d511.grib to 25.grib (71.3M)\n",
      "2024-01-22 19:09:43,666 INFO Download rate 15.7M/s  \n",
      "2024-01-22 19:09:43,936 INFO Welcome to the CDS\n",
      "2024-01-22 19:09:43,937 INFO Sending request to https://cds.climate.copernicus.eu/api/v2/resources/reanalysis-era5-single-levels\n"
     ]
    },
    {
     "name": "stdout",
     "output_type": "stream",
     "text": [
      "                     geometry                   address\n",
      "0  POINT (-92.00713 30.87039)  Louisiana, United States\n",
      "30\n",
      "03\n",
      "2022\n",
      "26\n"
     ]
    },
    {
     "name": "stderr",
     "output_type": "stream",
     "text": [
      "2024-01-22 19:09:44,095 INFO Request is queued\n",
      "2024-01-22 19:12:36,717 INFO Request is completed\n",
      "2024-01-22 19:12:36,718 INFO Downloading https://download-0007-clone.copernicus-climate.eu/cache-compute-0007/cache/data7/adaptor.mars.internal-1705972306.811134-8875-12-1eb1fe78-cfc2-43ae-ba99-bae8830eb43d.grib to 26.grib (71.3M)\n",
      "2024-01-22 19:12:43,762 INFO Download rate 10.1M/s  \n",
      "2024-01-22 19:12:44,036 INFO Welcome to the CDS\n",
      "2024-01-22 19:12:44,037 INFO Sending request to https://cds.climate.copernicus.eu/api/v2/resources/reanalysis-era5-single-levels\n"
     ]
    },
    {
     "name": "stdout",
     "output_type": "stream",
     "text": [
      "                     geometry                     address\n",
      "0  POINT (-89.73485 32.97153)  Mississippi, United States\n",
      "30\n",
      "03\n",
      "2022\n",
      "27\n"
     ]
    },
    {
     "name": "stderr",
     "output_type": "stream",
     "text": [
      "2024-01-22 19:12:44,190 INFO Downloading https://download-0007-clone.copernicus-climate.eu/cache-compute-0007/cache/data7/adaptor.mars.internal-1705972306.811134-8875-12-1eb1fe78-cfc2-43ae-ba99-bae8830eb43d.grib to 27.grib (71.3M)\n",
      "2024-01-22 19:12:59,913 INFO Download rate 4.5M/s   \n",
      "2024-01-22 19:13:00,179 INFO Welcome to the CDS\n",
      "2024-01-22 19:13:00,180 INFO Sending request to https://cds.climate.copernicus.eu/api/v2/resources/reanalysis-era5-single-levels\n"
     ]
    },
    {
     "name": "stdout",
     "output_type": "stream",
     "text": [
      "                     geometry                  address\n",
      "0  POINT (-92.44791 35.20489)  Arkansas, United States\n",
      "30\n",
      "03\n",
      "2022\n",
      "28\n"
     ]
    },
    {
     "name": "stderr",
     "output_type": "stream",
     "text": [
      "2024-01-22 19:13:00,402 INFO Downloading https://download-0007-clone.copernicus-climate.eu/cache-compute-0007/cache/data7/adaptor.mars.internal-1705972306.811134-8875-12-1eb1fe78-cfc2-43ae-ba99-bae8830eb43d.grib to 28.grib (71.3M)\n",
      "2024-01-22 19:13:35,049 INFO Download rate 2.1M/s   \n",
      "2024-01-22 19:13:35,318 INFO Welcome to the CDS\n",
      "2024-01-22 19:13:35,319 INFO Sending request to https://cds.climate.copernicus.eu/api/v2/resources/reanalysis-era5-single-levels\n"
     ]
    },
    {
     "name": "stdout",
     "output_type": "stream",
     "text": [
      "                     geometry                 address\n",
      "0  POINT (-83.11374 32.32938)  Georgia, United States\n",
      "31\n",
      "03\n",
      "2022\n",
      "29\n"
     ]
    },
    {
     "name": "stderr",
     "output_type": "stream",
     "text": [
      "2024-01-22 19:13:35,479 INFO Request is queued\n",
      "2024-01-22 19:14:51,629 INFO Request is running\n",
      "2024-01-22 19:15:30,242 INFO Request is completed\n",
      "2024-01-22 19:15:30,243 INFO Downloading https://download-0017.copernicus-climate.eu/cache-compute-0017/cache/data7/adaptor.mars.internal-1705972491.458758-12945-2-51f3aefb-e78e-40f5-b8ec-872043e2699e.grib to 29.grib (71.3M)\n",
      "2024-01-22 19:16:46,062 INFO Download rate 962.9K/s \n",
      "2024-01-22 19:16:46,776 INFO Welcome to the CDS\n",
      "2024-01-22 19:16:46,777 INFO Sending request to https://cds.climate.copernicus.eu/api/v2/resources/reanalysis-era5-single-levels\n"
     ]
    },
    {
     "name": "stdout",
     "output_type": "stream",
     "text": [
      "                     geometry                 address\n",
      "0  POINT (-86.82953 33.25888)  Alabama, United States\n",
      "31\n",
      "03\n",
      "2022\n",
      "30\n"
     ]
    },
    {
     "name": "stderr",
     "output_type": "stream",
     "text": [
      "2024-01-22 19:16:46,956 INFO Downloading https://download-0017.copernicus-climate.eu/cache-compute-0017/cache/data7/adaptor.mars.internal-1705972491.458758-12945-2-51f3aefb-e78e-40f5-b8ec-872043e2699e.grib to 30.grib (71.3M)\n",
      "2024-01-22 19:17:24,945 INFO Download rate 1.9M/s   \n",
      "2024-01-22 19:17:25,205 INFO Welcome to the CDS\n",
      "2024-01-22 19:17:25,206 INFO Sending request to https://cds.climate.copernicus.eu/api/v2/resources/reanalysis-era5-single-levels\n"
     ]
    },
    {
     "name": "stdout",
     "output_type": "stream",
     "text": [
      "                     geometry                     address\n",
      "0  POINT (-89.73485 32.97153)  Mississippi, United States\n",
      "31\n",
      "03\n",
      "2022\n",
      "31\n"
     ]
    },
    {
     "name": "stderr",
     "output_type": "stream",
     "text": [
      "2024-01-22 19:17:25,354 INFO Downloading https://download-0017.copernicus-climate.eu/cache-compute-0017/cache/data7/adaptor.mars.internal-1705972491.458758-12945-2-51f3aefb-e78e-40f5-b8ec-872043e2699e.grib to 31.grib (71.3M)\n",
      "2024-01-22 19:18:13,944 INFO Download rate 1.5M/s   \n",
      "2024-01-22 19:18:14,207 INFO Welcome to the CDS\n",
      "2024-01-22 19:18:14,208 INFO Sending request to https://cds.climate.copernicus.eu/api/v2/resources/reanalysis-era5-single-levels\n"
     ]
    },
    {
     "name": "stdout",
     "output_type": "stream",
     "text": [
      "                     geometry                 address\n",
      "0  POINT (-81.46398 27.75677)  Florida, United States\n",
      "31\n",
      "03\n",
      "2022\n",
      "32\n"
     ]
    },
    {
     "name": "stderr",
     "output_type": "stream",
     "text": [
      "2024-01-22 19:18:14,390 INFO Downloading https://download-0017.copernicus-climate.eu/cache-compute-0017/cache/data7/adaptor.mars.internal-1705972491.458758-12945-2-51f3aefb-e78e-40f5-b8ec-872043e2699e.grib to 32.grib (71.3M)\n",
      "2024-01-22 19:19:09,417 INFO Download rate 1.3M/s   \n",
      "2024-01-22 19:19:09,677 INFO Welcome to the CDS\n",
      "2024-01-22 19:19:09,678 INFO Sending request to https://cds.climate.copernicus.eu/api/v2/resources/reanalysis-era5-single-levels\n"
     ]
    },
    {
     "name": "stdout",
     "output_type": "stream",
     "text": [
      "                      geometry                           address\n",
      "0  POINT (-122.40064 45.50938)  Multnomah, Oregon, United States\n",
      "11\n",
      "04\n",
      "2022\n",
      "33\n"
     ]
    },
    {
     "name": "stderr",
     "output_type": "stream",
     "text": [
      "2024-01-22 19:19:09,826 INFO Request is queued\n",
      "2024-01-22 19:19:31,404 WARNING HTTP error: [502 Bad Gateway]. Attempt 1 of 500.\n",
      "2024-01-22 19:19:31,405 WARNING Retrying in 120 seconds\n",
      "2024-01-22 19:21:31,506 INFO Retrying now...\n",
      "2024-01-22 19:21:32,086 INFO Request is completed\n",
      "2024-01-22 19:21:32,087 INFO Downloading https://download-0013-clone.copernicus-climate.eu/cache-compute-0013/cache/data1/adaptor.mars.internal-1705972887.515947-18080-3-8d568c8b-d6e5-42d3-83ff-47fb08965e29.grib to 33.grib (71.3M)\n",
      "2024-01-22 19:21:36,879 INFO Download rate 14.9M/s  \n",
      "2024-01-22 19:21:37,149 INFO Welcome to the CDS\n",
      "2024-01-22 19:21:37,150 INFO Sending request to https://cds.climate.copernicus.eu/api/v2/resources/reanalysis-era5-single-levels\n"
     ]
    },
    {
     "name": "stdout",
     "output_type": "stream",
     "text": [
      "                     geometry                          address\n",
      "0  POINT (-75.84041 42.14556)  Broome, New York, United States\n",
      "19\n",
      "04\n",
      "2022\n",
      "34\n"
     ]
    },
    {
     "name": "stderr",
     "output_type": "stream",
     "text": [
      "2024-01-22 19:21:37,297 INFO Request is queued\n",
      "2024-01-22 19:24:29,924 INFO Request is completed\n",
      "2024-01-22 19:24:29,925 INFO Downloading https://download-0005-clone.copernicus-climate.eu/cache-compute-0005/cache/data6/adaptor.mars.internal-1705973060.530743-16058-15-2371dabb-742e-4d67-bd83-b575de13f19f.grib to 34.grib (71.3M)\n",
      "2024-01-22 19:24:36,255 INFO Download rate 11.3M/s  \n",
      "2024-01-22 19:24:36,525 INFO Welcome to the CDS\n",
      "2024-01-22 19:24:36,526 INFO Sending request to https://cds.climate.copernicus.eu/api/v2/resources/reanalysis-era5-single-levels\n"
     ]
    },
    {
     "name": "stdout",
     "output_type": "stream",
     "text": [
      "                      geometry                      address\n",
      "0  POINT (-100.54074 47.62015)  North Dakota, United States\n",
      "22\n",
      "04\n",
      "2022\n",
      "35\n"
     ]
    },
    {
     "name": "stderr",
     "output_type": "stream",
     "text": [
      "2024-01-22 19:24:36,688 INFO Request is queued\n",
      "2024-01-22 19:27:29,303 INFO Request is completed\n",
      "2024-01-22 19:27:29,304 INFO Downloading https://download-0013-clone.copernicus-climate.eu/cache-compute-0013/cache/data4/adaptor.mars.internal-1705973222.412072-18299-6-af2974de-d9ac-4409-9ba4-ef3b73e45cf4.grib to 35.grib (71.3M)\n",
      "2024-01-22 19:27:34,381 INFO Download rate 14M/s    \n",
      "2024-01-22 19:27:34,652 INFO Welcome to the CDS\n",
      "2024-01-22 19:27:34,653 INFO Sending request to https://cds.climate.copernicus.eu/api/v2/resources/reanalysis-era5-single-levels\n"
     ]
    },
    {
     "name": "stdout",
     "output_type": "stream",
     "text": [
      "                     geometry  \\\n",
      "0  POINT (-96.81827 46.89715)   \n",
      "\n",
      "                                             address  \n",
      "0  North Dakota State University, 13th Avenue Nor...  \n",
      "22\n",
      "04\n",
      "2022\n",
      "36\n"
     ]
    },
    {
     "name": "stderr",
     "output_type": "stream",
     "text": [
      "2024-01-22 19:27:34,807 INFO Downloading https://download-0013-clone.copernicus-climate.eu/cache-compute-0013/cache/data4/adaptor.mars.internal-1705973222.412072-18299-6-af2974de-d9ac-4409-9ba4-ef3b73e45cf4.grib to 36.grib (71.3M)\n",
      "2024-01-22 19:27:44,912 INFO Download rate 7.1M/s   \n",
      "2024-01-22 19:27:45,186 INFO Welcome to the CDS\n",
      "2024-01-22 19:27:45,187 INFO Sending request to https://cds.climate.copernicus.eu/api/v2/resources/reanalysis-era5-single-levels\n"
     ]
    },
    {
     "name": "stdout",
     "output_type": "stream",
     "text": [
      "                      geometry                                 address\n",
      "0  POINT (-102.36033 48.23032)  Mountrail, North Dakota, United States\n",
      "23\n",
      "04\n",
      "2022\n",
      "37\n"
     ]
    },
    {
     "name": "stderr",
     "output_type": "stream",
     "text": [
      "2024-01-22 19:27:45,347 INFO Request is queued\n",
      "2024-01-22 19:30:37,964 INFO Request is completed\n",
      "2024-01-22 19:30:37,965 INFO Downloading https://download-0014-clone.copernicus-climate.eu/cache-compute-0014/cache/data1/adaptor.mars.internal-1705973401.6269257-21332-4-8a4a69b3-05f9-4665-8e1e-ffe7bfb31209.grib to 37.grib (71.3M)\n",
      "2024-01-22 19:30:46,026 INFO Download rate 8.8M/s   \n",
      "2024-01-22 19:30:46,295 INFO Welcome to the CDS\n",
      "2024-01-22 19:30:46,297 INFO Sending request to https://cds.climate.copernicus.eu/api/v2/resources/reanalysis-era5-single-levels\n"
     ]
    },
    {
     "name": "stdout",
     "output_type": "stream",
     "text": [
      "                     geometry  \\\n",
      "0  POINT (-94.18770 42.49331)   \n",
      "\n",
      "                                             address  \n",
      "0  Fort Dodge Iowa Illinois Gas & Electric Millda...  \n",
      "23\n",
      "04\n",
      "2022\n",
      "38\n"
     ]
    },
    {
     "name": "stderr",
     "output_type": "stream",
     "text": [
      "2024-01-22 19:30:46,451 INFO Downloading https://download-0014-clone.copernicus-climate.eu/cache-compute-0014/cache/data1/adaptor.mars.internal-1705973401.6269257-21332-4-8a4a69b3-05f9-4665-8e1e-ffe7bfb31209.grib to 38.grib (71.3M)\n",
      "2024-01-22 19:30:55,921 INFO Download rate 7.5M/s   \n",
      "2024-01-22 19:30:56,188 INFO Welcome to the CDS\n",
      "2024-01-22 19:30:56,189 INFO Sending request to https://cds.climate.copernicus.eu/api/v2/resources/reanalysis-era5-single-levels\n"
     ]
    },
    {
     "name": "stdout",
     "output_type": "stream",
     "text": [
      "                     geometry                       address\n",
      "0  POINT (-95.37412 29.81198)  Harris, Texas, United States\n",
      "22\n",
      "05\n",
      "2022\n",
      "39\n"
     ]
    },
    {
     "name": "stderr",
     "output_type": "stream",
     "text": [
      "2024-01-22 19:30:56,327 INFO Request is queued\n",
      "2024-01-22 19:33:48,954 INFO Request is completed\n",
      "2024-01-22 19:33:48,955 INFO Downloading https://download-0020.copernicus-climate.eu/cache-compute-0020/cache/data1/adaptor.mars.internal-1705973618.9441504-2488-5-0f28c2de-13e5-4561-bc04-b09c0009e8e9.grib to 39.grib (71.3M)\n",
      "2024-01-22 19:33:56,707 INFO Download rate 9.2M/s   \n",
      "2024-01-22 19:33:56,976 INFO Welcome to the CDS\n",
      "2024-01-22 19:33:56,977 INFO Sending request to https://cds.climate.copernicus.eu/api/v2/resources/reanalysis-era5-single-levels\n"
     ]
    },
    {
     "name": "stdout",
     "output_type": "stream",
     "text": [
      "                     geometry                address\n",
      "0  POINT (-98.58219 38.27312)  Kansas, United States\n",
      "08\n",
      "06\n",
      "2022\n",
      "40\n"
     ]
    },
    {
     "name": "stderr",
     "output_type": "stream",
     "text": [
      "2024-01-22 19:33:57,130 INFO Request is queued\n",
      "2024-01-22 19:42:18,221 INFO Request is completed\n",
      "2024-01-22 19:42:18,222 INFO Downloading https://download-0014-clone.copernicus-climate.eu/cache-compute-0014/cache/data0/adaptor.mars.internal-1705974093.2143703-8341-2-d1443bb9-614b-4f76-a813-f0db2bb8e7ed.grib to 40.grib (71.3M)\n",
      "2024-01-22 19:42:24,937 INFO Download rate 10.6M/s  \n",
      "2024-01-22 19:42:25,203 INFO Welcome to the CDS\n",
      "2024-01-22 19:42:25,204 INFO Sending request to https://cds.climate.copernicus.eu/api/v2/resources/reanalysis-era5-single-levels\n"
     ]
    },
    {
     "name": "stdout",
     "output_type": "stream",
     "text": [
      "                     geometry                  address\n",
      "0  POINT (-92.56179 38.76048)  Missouri, United States\n",
      "08\n",
      "06\n",
      "2022\n",
      "41\n"
     ]
    },
    {
     "name": "stderr",
     "output_type": "stream",
     "text": [
      "2024-01-22 19:42:25,356 INFO Downloading https://download-0014-clone.copernicus-climate.eu/cache-compute-0014/cache/data0/adaptor.mars.internal-1705974093.2143703-8341-2-d1443bb9-614b-4f76-a813-f0db2bb8e7ed.grib to 41.grib (71.3M)\n",
      "2024-01-22 19:42:56,165 INFO Download rate 2.3M/s   \n",
      "2024-01-22 19:42:56,431 INFO Welcome to the CDS\n",
      "2024-01-22 19:42:56,431 INFO Sending request to https://cds.climate.copernicus.eu/api/v2/resources/reanalysis-era5-single-levels\n"
     ]
    },
    {
     "name": "stdout",
     "output_type": "stream",
     "text": [
      "                     geometry                  address\n",
      "0  POINT (-99.58738 41.73702)  Nebraska, United States\n",
      "08\n",
      "06\n",
      "2022\n",
      "42\n"
     ]
    },
    {
     "name": "stderr",
     "output_type": "stream",
     "text": [
      "2024-01-22 19:42:56,593 INFO Downloading https://download-0014-clone.copernicus-climate.eu/cache-compute-0014/cache/data0/adaptor.mars.internal-1705974093.2143703-8341-2-d1443bb9-614b-4f76-a813-f0db2bb8e7ed.grib to 42.grib (71.3M)\n",
      "2024-01-22 19:43:48,857 INFO Download rate 1.4M/s   \n",
      "2024-01-22 19:43:49,126 INFO Welcome to the CDS\n",
      "2024-01-22 19:43:49,128 INFO Sending request to https://cds.climate.copernicus.eu/api/v2/resources/reanalysis-era5-single-levels\n"
     ]
    },
    {
     "name": "stdout",
     "output_type": "stream",
     "text": [
      "                     geometry                  address\n",
      "0  POINT (-92.56179 38.76048)  Missouri, United States\n",
      "08\n",
      "06\n",
      "2022\n",
      "43\n"
     ]
    },
    {
     "name": "stderr",
     "output_type": "stream",
     "text": [
      "2024-01-22 19:43:49,295 INFO Downloading https://download-0014-clone.copernicus-climate.eu/cache-compute-0014/cache/data0/adaptor.mars.internal-1705974093.2143703-8341-2-d1443bb9-614b-4f76-a813-f0db2bb8e7ed.grib to 43.grib (71.3M)\n",
      "2024-01-22 19:44:41,230 INFO Download rate 1.4M/s   \n",
      "2024-01-22 19:44:41,498 INFO Welcome to the CDS\n",
      "2024-01-22 19:44:41,499 INFO Sending request to https://cds.climate.copernicus.eu/api/v2/resources/reanalysis-era5-single-levels\n"
     ]
    },
    {
     "name": "stdout",
     "output_type": "stream",
     "text": [
      "                     geometry              address\n",
      "0  POINT (-82.68814 40.22536)  Ohio, United States\n",
      "12\n",
      "06\n",
      "2022\n",
      "44\n"
     ]
    },
    {
     "name": "stderr",
     "output_type": "stream",
     "text": [
      "2024-01-22 19:44:41,647 INFO Request is queued\n",
      "2024-01-22 19:47:34,274 INFO Request is completed\n",
      "2024-01-22 19:47:34,276 INFO Downloading https://download-0008-clone.copernicus-climate.eu/cache-compute-0008/cache/data8/adaptor.mars.internal-1705974442.4887028-24083-12-230fd968-41b1-4825-889b-b295877e6479.grib to 44.grib (71.3M)\n",
      "2024-01-22 19:47:38,985 INFO Download rate 15.1M/s  \n",
      "2024-01-22 19:47:39,253 INFO Welcome to the CDS\n",
      "2024-01-22 19:47:39,254 INFO Sending request to https://cds.climate.copernicus.eu/api/v2/resources/reanalysis-era5-single-levels\n"
     ]
    },
    {
     "name": "stdout",
     "output_type": "stream",
     "text": [
      "                     geometry                       address\n",
      "0  POINT (-80.84084 38.47584)  West Virginia, United States\n",
      "12\n",
      "06\n",
      "2022\n",
      "45\n"
     ]
    },
    {
     "name": "stderr",
     "output_type": "stream",
     "text": [
      "2024-01-22 19:47:39,409 INFO Downloading https://download-0008-clone.copernicus-climate.eu/cache-compute-0008/cache/data8/adaptor.mars.internal-1705974442.4887028-24083-12-230fd968-41b1-4825-889b-b295877e6479.grib to 45.grib (71.3M)\n",
      "2024-01-22 19:47:42,796 INFO Download rate 21.1M/s  \n",
      "2024-01-22 19:47:43,064 INFO Welcome to the CDS\n",
      "2024-01-22 19:47:43,065 INFO Sending request to https://cds.climate.copernicus.eu/api/v2/resources/reanalysis-era5-single-levels\n"
     ]
    },
    {
     "name": "stdout",
     "output_type": "stream",
     "text": [
      "                     geometry                  address\n",
      "0  POINT (-78.49277 37.12322)  Virginia, United States\n",
      "12\n",
      "06\n",
      "2022\n",
      "46\n"
     ]
    },
    {
     "name": "stderr",
     "output_type": "stream",
     "text": [
      "2024-01-22 19:47:43,217 INFO Downloading https://download-0008-clone.copernicus-climate.eu/cache-compute-0008/cache/data8/adaptor.mars.internal-1705974442.4887028-24083-12-230fd968-41b1-4825-889b-b295877e6479.grib to 46.grib (71.3M)\n",
      "2024-01-22 19:47:48,148 INFO Download rate 14.5M/s  \n",
      "2024-01-22 19:47:48,414 INFO Welcome to the CDS\n",
      "2024-01-22 19:47:48,415 INFO Sending request to https://cds.climate.copernicus.eu/api/v2/resources/reanalysis-era5-single-levels\n"
     ]
    },
    {
     "name": "stdout",
     "output_type": "stream",
     "text": [
      "                     geometry                 address\n",
      "0  POINT (-86.17469 40.32701)  Indiana, United States\n",
      "12\n",
      "06\n",
      "2022\n",
      "47\n"
     ]
    },
    {
     "name": "stderr",
     "output_type": "stream",
     "text": [
      "2024-01-22 19:47:48,568 INFO Downloading https://download-0008-clone.copernicus-climate.eu/cache-compute-0008/cache/data8/adaptor.mars.internal-1705974442.4887028-24083-12-230fd968-41b1-4825-889b-b295877e6479.grib to 47.grib (71.3M)\n",
      "2024-01-22 19:47:53,954 INFO Download rate 13.2M/s  \n",
      "2024-01-22 19:47:54,222 INFO Welcome to the CDS\n",
      "2024-01-22 19:47:54,223 INFO Sending request to https://cds.climate.copernicus.eu/api/v2/resources/reanalysis-era5-single-levels\n"
     ]
    },
    {
     "name": "stdout",
     "output_type": "stream",
     "text": [
      "                     geometry              address\n",
      "0  POINT (-82.68814 40.22536)  Ohio, United States\n",
      "13\n",
      "06\n",
      "2022\n",
      "48\n"
     ]
    },
    {
     "name": "stderr",
     "output_type": "stream",
     "text": [
      "2024-01-22 19:47:54,361 INFO Request is queued\n",
      "2024-01-22 19:52:14,114 INFO Request is completed\n",
      "2024-01-22 19:52:14,115 INFO Downloading https://download-0017.copernicus-climate.eu/cache-compute-0017/cache/data2/adaptor.mars.internal-1705974668.9666529-4084-14-8bfe02f5-c198-45fb-941f-ad2f9fba3e17.grib to 48.grib (71.3M)\n",
      "2024-01-22 19:52:28,085 INFO Download rate 5.1M/s   \n",
      "2024-01-22 19:52:28,342 INFO Welcome to the CDS\n",
      "2024-01-22 19:52:28,343 INFO Sending request to https://cds.climate.copernicus.eu/api/v2/resources/reanalysis-era5-single-levels\n"
     ]
    },
    {
     "name": "stdout",
     "output_type": "stream",
     "text": [
      "                     geometry                  address\n",
      "0  POINT (-85.15514 37.57260)  Kentucky, United States\n",
      "13\n",
      "06\n",
      "2022\n",
      "49\n"
     ]
    },
    {
     "name": "stderr",
     "output_type": "stream",
     "text": [
      "2024-01-22 19:52:28,500 INFO Downloading https://download-0017.copernicus-climate.eu/cache-compute-0017/cache/data2/adaptor.mars.internal-1705974668.9666529-4084-14-8bfe02f5-c198-45fb-941f-ad2f9fba3e17.grib to 49.grib (71.3M)\n",
      "2024-01-22 19:52:52,646 INFO Download rate 3M/s     \n",
      "2024-01-22 19:52:52,902 INFO Welcome to the CDS\n",
      "2024-01-22 19:52:52,903 INFO Sending request to https://cds.climate.copernicus.eu/api/v2/resources/reanalysis-era5-single-levels\n"
     ]
    },
    {
     "name": "stdout",
     "output_type": "stream",
     "text": [
      "                     geometry                  address\n",
      "0  POINT (-89.43373 40.07966)  Illinois, United States\n",
      "17\n",
      "06\n",
      "2022\n",
      "50\n"
     ]
    },
    {
     "name": "stderr",
     "output_type": "stream",
     "text": [
      "2024-01-22 19:52:53,057 INFO Request is queued\n",
      "2024-01-22 19:57:12,747 INFO Request is completed\n",
      "2024-01-22 19:57:12,749 INFO Downloading https://download-0012-clone.copernicus-climate.eu/cache-compute-0012/cache/data3/adaptor.mars.internal-1705974963.0686586-18178-9-cf722706-88ad-4b78-95a7-cdfd4bd447ba.grib to 50.grib (71.3M)\n",
      "2024-01-22 19:57:18,698 INFO Download rate 12M/s    \n",
      "2024-01-22 19:57:18,955 INFO Welcome to the CDS\n",
      "2024-01-22 19:57:18,956 INFO Sending request to https://cds.climate.copernicus.eu/api/v2/resources/reanalysis-era5-single-levels\n"
     ]
    },
    {
     "name": "stdout",
     "output_type": "stream",
     "text": [
      "                     geometry                  address\n",
      "0  POINT (-92.56179 38.76048)  Missouri, United States\n",
      "17\n",
      "06\n",
      "2022\n",
      "51\n"
     ]
    },
    {
     "name": "stderr",
     "output_type": "stream",
     "text": [
      "2024-01-22 19:57:19,106 INFO Downloading https://download-0012-clone.copernicus-climate.eu/cache-compute-0012/cache/data3/adaptor.mars.internal-1705974963.0686586-18178-9-cf722706-88ad-4b78-95a7-cdfd4bd447ba.grib to 51.grib (71.3M)\n",
      "2024-01-22 19:57:29,656 INFO Download rate 6.8M/s   \n",
      "2024-01-22 19:57:29,913 INFO Welcome to the CDS\n",
      "2024-01-22 19:57:29,914 INFO Sending request to https://cds.climate.copernicus.eu/api/v2/resources/reanalysis-era5-single-levels\n"
     ]
    },
    {
     "name": "stdout",
     "output_type": "stream",
     "text": [
      "                     geometry                  address\n",
      "0  POINT (-78.49277 37.12322)  Virginia, United States\n",
      "22\n",
      "06\n",
      "2022\n",
      "52\n"
     ]
    },
    {
     "name": "stderr",
     "output_type": "stream",
     "text": [
      "2024-01-22 19:57:30,062 INFO Request is queued\n",
      "2024-01-22 20:00:23,015 INFO Request is completed\n",
      "2024-01-22 20:00:23,017 INFO Downloading https://download-0012-clone.copernicus-climate.eu/cache-compute-0012/cache/data9/adaptor.mars.internal-1705975212.8676603-7182-18-51bbd0fa-a05a-428f-976e-c29be09d821d.grib to 52.grib (71.3M)\n",
      "2024-01-22 20:00:28,144 INFO Download rate 13.9M/s  \n",
      "2024-01-22 20:00:28,406 INFO Welcome to the CDS\n",
      "2024-01-22 20:00:28,407 INFO Sending request to https://cds.climate.copernicus.eu/api/v2/resources/reanalysis-era5-single-levels\n"
     ]
    },
    {
     "name": "stdout",
     "output_type": "stream",
     "text": [
      "                     geometry                            address\n",
      "0  POINT (-86.12935 43.24846)  Muskegon, Michigan, United States\n",
      "23\n",
      "07\n",
      "2022\n",
      "53\n"
     ]
    },
    {
     "name": "stderr",
     "output_type": "stream",
     "text": [
      "2024-01-22 20:00:28,542 INFO Request is queued\n",
      "2024-01-22 20:10:50,377 INFO Request is completed\n",
      "2024-01-22 20:10:50,379 INFO Downloading https://download-0005-clone.copernicus-climate.eu/cache-compute-0005/cache/data7/adaptor.mars.internal-1705975823.5118008-23890-4-a59ea332-697d-4660-9eb4-b837fbcd51c6.grib to 53.grib (71.3M)\n",
      "2024-01-22 20:11:02,993 INFO Download rate 5.7M/s   \n",
      "2024-01-22 20:11:03,265 INFO Welcome to the CDS\n",
      "2024-01-22 20:11:03,266 INFO Sending request to https://cds.climate.copernicus.eu/api/v2/resources/reanalysis-era5-single-levels\n"
     ]
    },
    {
     "name": "stdout",
     "output_type": "stream",
     "text": [
      "                     geometry                   address\n",
      "0  POINT (-94.61133 45.98966)  Minnesota, United States\n",
      "03\n",
      "08\n",
      "2022\n",
      "54\n"
     ]
    },
    {
     "name": "stderr",
     "output_type": "stream",
     "text": [
      "2024-01-22 20:11:03,424 INFO Request is queued\n",
      "2024-01-22 20:17:23,952 INFO Request is completed\n",
      "2024-01-22 20:17:23,953 INFO Downloading https://download-0021.copernicus-climate.eu/cache-compute-0021/cache/data8/adaptor.mars.internal-1705976131.551114-32617-19-89d6d247-a2d1-4ce2-95c1-c8b21df6f385.grib to 54.grib (71.3M)\n",
      "2024-01-22 20:17:37,231 INFO Download rate 5.4M/s   \n",
      "2024-01-22 20:17:37,494 INFO Welcome to the CDS\n",
      "2024-01-22 20:17:37,496 INFO Sending request to https://cds.climate.copernicus.eu/api/v2/resources/reanalysis-era5-single-levels\n"
     ]
    },
    {
     "name": "stdout",
     "output_type": "stream",
     "text": [
      "                     geometry                   address\n",
      "0  POINT (-89.68846 44.43090)  Wisconsin, United States\n",
      "03\n",
      "08\n",
      "2022\n",
      "55\n"
     ]
    },
    {
     "name": "stderr",
     "output_type": "stream",
     "text": [
      "2024-01-22 20:17:37,654 INFO Downloading https://download-0021.copernicus-climate.eu/cache-compute-0021/cache/data8/adaptor.mars.internal-1705976131.551114-32617-19-89d6d247-a2d1-4ce2-95c1-c8b21df6f385.grib to 55.grib (71.3M)\n",
      "2024-01-22 20:18:39,084 INFO Download rate 1.2M/s   \n",
      "2024-01-22 20:18:39,349 INFO Welcome to the CDS\n",
      "2024-01-22 20:18:39,351 INFO Sending request to https://cds.climate.copernicus.eu/api/v2/resources/reanalysis-era5-single-levels\n"
     ]
    },
    {
     "name": "stdout",
     "output_type": "stream",
     "text": [
      "                     geometry                           address\n",
      "0  POINT (-85.88615 42.58672)  Allegan, Michigan, United States\n",
      "03\n",
      "08\n",
      "2022\n",
      "56\n"
     ]
    },
    {
     "name": "stderr",
     "output_type": "stream",
     "text": [
      "2024-01-22 20:18:39,515 INFO Downloading https://download-0021.copernicus-climate.eu/cache-compute-0021/cache/data8/adaptor.mars.internal-1705976131.551114-32617-19-89d6d247-a2d1-4ce2-95c1-c8b21df6f385.grib to 56.grib (71.3M)\n",
      "2024-01-22 20:19:13,814 INFO Download rate 2.1M/s   \n",
      "2024-01-22 20:19:14,078 INFO Welcome to the CDS\n",
      "2024-01-22 20:19:14,079 INFO Sending request to https://cds.climate.copernicus.eu/api/v2/resources/reanalysis-era5-single-levels\n"
     ]
    },
    {
     "name": "stdout",
     "output_type": "stream",
     "text": [
      "                     geometry                                address\n",
      "0  POINT (-76.57345 38.97226)  Anne Arundel, Maryland, United States\n",
      "04\n",
      "08\n",
      "2022\n",
      "57\n"
     ]
    },
    {
     "name": "stderr",
     "output_type": "stream",
     "text": [
      "2024-01-22 20:19:14,441 INFO Request is queued\n",
      "2024-01-22 20:23:34,290 INFO Request is completed\n",
      "2024-01-22 20:23:34,291 INFO Downloading https://download-0007-clone.copernicus-climate.eu/cache-compute-0007/cache/data6/adaptor.mars.internal-1705976592.9298043-27769-8-d077d584-1b85-4c34-bb07-b28a1b8cea56.grib to 57.grib (71.3M)\n",
      "2024-01-22 20:24:34,689 INFO Download rate 1.2M/s   \n",
      "2024-01-22 20:24:34,960 INFO Welcome to the CDS\n",
      "2024-01-22 20:24:34,961 INFO Sending request to https://cds.climate.copernicus.eu/api/v2/resources/reanalysis-era5-single-levels\n"
     ]
    },
    {
     "name": "stdout",
     "output_type": "stream",
     "text": [
      "                     geometry                            address\n",
      "0  POINT (-91.16555 36.00782)  Lawrence, Arkansas, United States\n",
      "10\n",
      "08\n",
      "2022\n",
      "58\n"
     ]
    },
    {
     "name": "stderr",
     "output_type": "stream",
     "text": [
      "2024-01-22 20:24:35,102 INFO Request is queued\n",
      "2024-01-22 20:28:54,881 INFO Request is completed\n",
      "2024-01-22 20:28:54,882 INFO Downloading https://download-0020.copernicus-climate.eu/cache-compute-0020/cache/data0/adaptor.mars.internal-1705976930.4840531-30024-1-973e884b-9fcd-40cc-ba55-607a5594ff16.grib to 58.grib (71.3M)\n",
      "2024-01-22 20:28:59,882 INFO Download rate 14.3M/s  \n",
      "2024-01-22 20:29:00,144 INFO Welcome to the CDS\n",
      "2024-01-22 20:29:00,146 INFO Sending request to https://cds.climate.copernicus.eu/api/v2/resources/reanalysis-era5-single-levels\n"
     ]
    },
    {
     "name": "stdout",
     "output_type": "stream",
     "text": [
      "                     geometry                       address\n",
      "0  POINT (-95.37412 29.81198)  Harris, Texas, United States\n",
      "10\n",
      "08\n",
      "2022\n",
      "59\n"
     ]
    },
    {
     "name": "stderr",
     "output_type": "stream",
     "text": [
      "2024-01-22 20:29:00,297 INFO Downloading https://download-0020.copernicus-climate.eu/cache-compute-0020/cache/data0/adaptor.mars.internal-1705976930.4840531-30024-1-973e884b-9fcd-40cc-ba55-607a5594ff16.grib to 59.grib (71.3M)\n",
      "2024-01-22 20:29:08,102 INFO Download rate 9.1M/s   \n",
      "2024-01-22 20:29:08,366 INFO Welcome to the CDS\n",
      "2024-01-22 20:29:08,367 INFO Sending request to https://cds.climate.copernicus.eu/api/v2/resources/reanalysis-era5-single-levels\n"
     ]
    },
    {
     "name": "stdout",
     "output_type": "stream",
     "text": [
      "                      geometry                        address\n",
      "0  POINT (-106.22304 31.80722)  El Paso, Texas, United States\n",
      "22\n",
      "08\n",
      "2022\n",
      "60\n"
     ]
    },
    {
     "name": "stderr",
     "output_type": "stream",
     "text": [
      "2024-01-22 20:29:08,504 INFO Request is queued\n",
      "2024-01-22 20:39:30,283 INFO Request is completed\n",
      "2024-01-22 20:39:30,284 INFO Downloading https://download-0008-clone.copernicus-climate.eu/cache-compute-0008/cache/data7/adaptor.mars.internal-1705977515.734381-25587-2-ef3a3757-403b-4844-89e0-d62f877890c4.grib to 60.grib (71.3M)\n",
      "2024-01-22 20:39:34,620 INFO Download rate 16.4M/s  \n",
      "2024-01-22 20:39:34,890 INFO Welcome to the CDS\n",
      "2024-01-22 20:39:34,891 INFO Sending request to https://cds.climate.copernicus.eu/api/v2/resources/reanalysis-era5-single-levels\n"
     ]
    },
    {
     "name": "stdout",
     "output_type": "stream",
     "text": [
      "                      geometry                            address\n",
      "0  POINT (-121.99792 40.79651)  Shasta, California, United States\n",
      "01\n",
      "09\n",
      "2022\n",
      "61\n"
     ]
    },
    {
     "name": "stderr",
     "output_type": "stream",
     "text": [
      "2024-01-22 20:39:35,041 INFO Request is queued\n",
      "2024-01-22 20:45:55,377 INFO Request is completed\n",
      "2024-01-22 20:45:55,378 INFO Downloading https://download-0018.copernicus-climate.eu/cache-compute-0018/cache/data5/adaptor.mars.internal-1705977890.9593368-14036-13-386d4152-8833-4384-9f9c-ad822512a83a.grib to 61.grib (71.3M)\n",
      "2024-01-22 20:46:00,253 INFO Download rate 14.6M/s  \n",
      "2024-01-22 20:46:00,517 INFO Welcome to the CDS\n",
      "2024-01-22 20:46:00,518 INFO Sending request to https://cds.climate.copernicus.eu/api/v2/resources/reanalysis-era5-single-levels\n"
     ]
    },
    {
     "name": "stdout",
     "output_type": "stream",
     "text": [
      "                     geometry                               address\n",
      "0  POINT (-97.33570 32.75137)  Tarrant County, Texas, United States\n",
      "04\n",
      "09\n",
      "2022\n",
      "62\n"
     ]
    },
    {
     "name": "stderr",
     "output_type": "stream",
     "text": [
      "2024-01-22 20:46:00,653 INFO Request is queued\n",
      "2024-01-22 20:52:21,086 INFO Request is completed\n",
      "2024-01-22 20:52:21,087 INFO Downloading https://download-0000-clone.copernicus-climate.eu/cache-compute-0000/cache/data3/adaptor.mars.internal-1705978307.5475783-16374-11-55579fa8-7e76-4986-b470-37ca63ddb147.grib to 62.grib (71.3M)\n",
      "2024-01-22 20:52:26,036 INFO Download rate 14.4M/s  \n",
      "2024-01-22 20:52:26,299 INFO Welcome to the CDS\n",
      "2024-01-22 20:52:26,301 INFO Sending request to https://cds.climate.copernicus.eu/api/v2/resources/reanalysis-era5-single-levels\n"
     ]
    },
    {
     "name": "stdout",
     "output_type": "stream",
     "text": [
      "                      geometry                            address\n",
      "0  POINT (-121.99792 40.79651)  Shasta, California, United States\n",
      "06\n",
      "09\n",
      "2022\n",
      "63\n"
     ]
    },
    {
     "name": "stderr",
     "output_type": "stream",
     "text": [
      "2024-01-22 20:52:26,464 INFO Request is queued\n",
      "2024-01-22 21:04:48,952 INFO Request is completed\n",
      "2024-01-22 21:04:48,953 INFO Downloading https://download-0002-clone.copernicus-climate.eu/cache-compute-0002/cache/data7/adaptor.mars.internal-1705979054.5660021-12553-13-f0ff6ce1-739c-4b60-9eba-f89e34fd86a4.grib to 63.grib (71.3M)\n",
      "2024-01-22 21:04:56,884 INFO Download rate 9M/s     \n",
      "2024-01-22 21:04:57,141 INFO Welcome to the CDS\n",
      "2024-01-22 21:04:57,142 INFO Sending request to https://cds.climate.copernicus.eu/api/v2/resources/reanalysis-era5-single-levels\n"
     ]
    },
    {
     "name": "stdout",
     "output_type": "stream",
     "text": [
      "                      geometry                            address\n",
      "0  POINT (-121.99792 40.79651)  Shasta, California, United States\n",
      "07\n",
      "09\n",
      "2022\n",
      "64\n"
     ]
    },
    {
     "name": "stderr",
     "output_type": "stream",
     "text": [
      "2024-01-22 21:04:57,305 INFO Request is queued\n",
      "2024-01-22 21:13:18,388 INFO Request is completed\n",
      "2024-01-22 21:13:18,389 INFO Downloading https://download-0021.copernicus-climate.eu/cache-compute-0021/cache/data2/adaptor.mars.internal-1705979524.3910995-26961-4-bf3695ab-091a-4071-aa2e-aad299c9cf18.grib to 64.grib (71.3M)\n",
      "2024-01-22 21:13:23,890 INFO Download rate 13M/s    \n",
      "2024-01-22 21:13:24,158 INFO Welcome to the CDS\n",
      "2024-01-22 21:13:24,159 INFO Sending request to https://cds.climate.copernicus.eu/api/v2/resources/reanalysis-era5-single-levels\n"
     ]
    },
    {
     "name": "stdout",
     "output_type": "stream",
     "text": [
      "                      geometry                            address\n",
      "0  POINT (-121.99792 40.79651)  Shasta, California, United States\n",
      "08\n",
      "09\n",
      "2022\n",
      "65\n"
     ]
    },
    {
     "name": "stderr",
     "output_type": "stream",
     "text": [
      "2024-01-22 21:13:24,341 INFO Request is queued\n",
      "2024-01-22 21:21:45,460 INFO Request is completed\n",
      "2024-01-22 21:21:45,461 INFO Downloading https://download-0012-clone.copernicus-climate.eu/cache-compute-0012/cache/data1/adaptor.mars.internal-1705980060.4456651-27733-11-921f4100-c6e2-4ccb-8ba9-89dc299585f7.grib to 65.grib (71.3M)\n",
      "2024-01-22 21:21:50,395 INFO Download rate 14.5M/s  \n",
      "2024-01-22 21:21:50,664 INFO Welcome to the CDS\n",
      "2024-01-22 21:21:50,665 INFO Sending request to https://cds.climate.copernicus.eu/api/v2/resources/reanalysis-era5-single-levels\n"
     ]
    },
    {
     "name": "stdout",
     "output_type": "stream",
     "text": [
      "                      geometry                            address\n",
      "0  POINT (-121.99792 40.79651)  Shasta, California, United States\n",
      "09\n",
      "09\n",
      "2022\n",
      "66\n"
     ]
    },
    {
     "name": "stderr",
     "output_type": "stream",
     "text": [
      "2024-01-22 21:21:50,883 INFO Request is queued\n",
      "2024-01-22 21:30:12,049 INFO Request is completed\n",
      "2024-01-22 21:30:12,050 INFO Downloading https://download-0011-clone.copernicus-climate.eu/cache-compute-0011/cache/data7/adaptor.mars.internal-1705980519.1934004-1339-15-ff1b9a76-adda-41e1-bec9-2f1ca486ba57.grib to 66.grib (71.3M)\n",
      "2024-01-22 21:30:17,477 INFO Download rate 13.1M/s  \n",
      "2024-01-22 21:30:17,748 INFO Welcome to the CDS\n",
      "2024-01-22 21:30:17,749 INFO Sending request to https://cds.climate.copernicus.eu/api/v2/resources/reanalysis-era5-single-levels\n"
     ]
    },
    {
     "name": "stdout",
     "output_type": "stream",
     "text": [
      "                      geometry                        address\n",
      "0  POINT (-106.22304 31.80722)  El Paso, Texas, United States\n",
      "13\n",
      "09\n",
      "2022\n",
      "67\n"
     ]
    },
    {
     "name": "stderr",
     "output_type": "stream",
     "text": [
      "2024-01-22 21:30:17,922 INFO Request is queued\n",
      "2024-01-22 21:38:39,123 INFO Request is completed\n",
      "2024-01-22 21:38:39,124 INFO Downloading https://download-0012-clone.copernicus-climate.eu/cache-compute-0012/cache/data1/adaptor.mars.internal-1705981024.8317444-26616-11-ec3799ae-e763-4cbb-aa30-06d0b5143fa9.grib to 67.grib (71.3M)\n",
      "2024-01-22 21:38:58,349 INFO Download rate 3.7M/s   \n",
      "2024-01-22 21:38:58,618 INFO Welcome to the CDS\n",
      "2024-01-22 21:38:58,619 INFO Sending request to https://cds.climate.copernicus.eu/api/v2/resources/reanalysis-era5-single-levels\n"
     ]
    },
    {
     "name": "stdout",
     "output_type": "stream",
     "text": [
      "                     geometry                               address\n",
      "0  POINT (-82.34881 27.91845)  Hillsborough, Florida, United States\n",
      "28\n",
      "09\n",
      "2022\n",
      "68\n"
     ]
    },
    {
     "name": "stderr",
     "output_type": "stream",
     "text": [
      "2024-01-22 21:38:58,772 INFO Request is queued\n",
      "2024-01-22 21:45:19,205 INFO Request is completed\n",
      "2024-01-22 21:45:19,206 INFO Downloading https://download-0009-clone.copernicus-climate.eu/cache-compute-0009/cache/data0/adaptor.mars.internal-1705981475.4115481-3050-4-959802c5-c243-47c5-82c4-219e5a25e6dd.grib to 68.grib (71.3M)\n",
      "2024-01-22 21:45:24,299 INFO Download rate 14M/s    \n",
      "2024-01-22 21:45:24,558 INFO Welcome to the CDS\n",
      "2024-01-22 21:45:24,559 INFO Sending request to https://cds.climate.copernicus.eu/api/v2/resources/reanalysis-era5-single-levels\n"
     ]
    },
    {
     "name": "stdout",
     "output_type": "stream",
     "text": [
      "                     geometry                       address\n",
      "0  POINT (-81.72688 27.94485)  Polk, Florida, United States\n",
      "29\n",
      "09\n",
      "2022\n",
      "69\n"
     ]
    },
    {
     "name": "stderr",
     "output_type": "stream",
     "text": [
      "2024-01-22 21:45:24,693 INFO Request is queued\n",
      "2024-01-22 21:59:47,888 INFO Request is completed\n",
      "2024-01-22 21:59:47,890 INFO Downloading https://download-0013-clone.copernicus-climate.eu/cache-compute-0013/cache/data1/adaptor.mars.internal-1705982279.2236912-1193-15-469e856a-7a3f-488a-9154-512a4f425832.grib to 69.grib (71.3M)\n",
      "2024-01-22 21:59:52,634 INFO Download rate 15M/s    \n",
      "2024-01-22 21:59:52,898 INFO Welcome to the CDS\n",
      "2024-01-22 21:59:52,900 INFO Sending request to https://cds.climate.copernicus.eu/api/v2/resources/reanalysis-era5-single-levels\n"
     ]
    },
    {
     "name": "stdout",
     "output_type": "stream",
     "text": [
      "                     geometry                        address\n",
      "0  POINT (-79.03929 35.67296)  North Carolina, United States\n",
      "30\n",
      "09\n",
      "2022\n",
      "70\n"
     ]
    },
    {
     "name": "stderr",
     "output_type": "stream",
     "text": [
      "2024-01-22 21:59:53,052 INFO Request is queued\n",
      "2024-01-22 22:08:14,597 INFO Request is completed\n",
      "2024-01-22 22:08:14,599 INFO Downloading https://download-0003-clone.copernicus-climate.eu/cache-compute-0003/cache/data4/adaptor.mars.internal-1705982802.293952-27511-5-26e646ac-3503-4b67-a1bf-3dad28b06c02.grib to 70.grib (71.3M)\n",
      "2024-01-22 22:08:19,706 INFO Download rate 14M/s    \n",
      "2024-01-22 22:08:19,971 INFO Welcome to the CDS\n",
      "2024-01-22 22:08:19,972 INFO Sending request to https://cds.climate.copernicus.eu/api/v2/resources/reanalysis-era5-single-levels\n"
     ]
    },
    {
     "name": "stdout",
     "output_type": "stream",
     "text": [
      "                     geometry                     address\n",
      "0  POINT (-72.73422 41.65002)  Connecticut, United States\n",
      "14\n",
      "10\n",
      "2022\n",
      "71\n"
     ]
    },
    {
     "name": "stderr",
     "output_type": "stream",
     "text": [
      "2024-01-22 22:08:20,119 INFO Request is queued\n",
      "2024-01-22 22:18:42,006 INFO Request is completed\n",
      "2024-01-22 22:18:42,008 INFO Downloading https://download-0006-clone.copernicus-climate.eu/cache-compute-0006/cache/data4/adaptor.mars.internal-1705983488.46029-10398-14-c0a7d0fc-73ea-4d1a-b9b7-c85dae9d067e.grib to 71.grib (71.3M)\n",
      "2024-01-22 22:18:47,594 INFO Download rate 12.8M/s  \n",
      "2024-01-22 22:18:47,890 INFO Welcome to the CDS\n",
      "2024-01-22 22:18:47,891 INFO Sending request to https://cds.climate.copernicus.eu/api/v2/resources/reanalysis-era5-single-levels\n"
     ]
    },
    {
     "name": "stdout",
     "output_type": "stream",
     "text": [
      "                     geometry                       address\n",
      "0  POINT (-72.03237 42.37888)  Massachusetts, United States\n",
      "14\n",
      "10\n",
      "2022\n",
      "72\n"
     ]
    },
    {
     "name": "stderr",
     "output_type": "stream",
     "text": [
      "2024-01-22 22:18:48,046 INFO Downloading https://download-0006-clone.copernicus-climate.eu/cache-compute-0006/cache/data4/adaptor.mars.internal-1705983488.46029-10398-14-c0a7d0fc-73ea-4d1a-b9b7-c85dae9d067e.grib to 72.grib (71.3M)\n",
      "2024-01-22 22:19:17,885 INFO Download rate 2.4M/s   \n",
      "2024-01-22 22:19:18,271 INFO Welcome to the CDS\n",
      "2024-01-22 22:19:18,272 INFO Sending request to https://cds.climate.copernicus.eu/api/v2/resources/reanalysis-era5-single-levels\n"
     ]
    },
    {
     "name": "stdout",
     "output_type": "stream",
     "text": [
      "                     geometry               address\n",
      "0  POINT (-68.85902 45.70910)  Maine, United States\n",
      "14\n",
      "10\n",
      "2022\n",
      "73\n"
     ]
    },
    {
     "name": "stderr",
     "output_type": "stream",
     "text": [
      "2024-01-22 22:19:18,514 INFO Downloading https://download-0006-clone.copernicus-climate.eu/cache-compute-0006/cache/data4/adaptor.mars.internal-1705983488.46029-10398-14-c0a7d0fc-73ea-4d1a-b9b7-c85dae9d067e.grib to 73.grib (71.3M)\n",
      "2024-01-22 22:19:41,328 INFO Download rate 3.1M/s   \n",
      "2024-01-22 22:19:41,600 INFO Welcome to the CDS\n",
      "2024-01-22 22:19:41,601 INFO Sending request to https://cds.climate.copernicus.eu/api/v2/resources/reanalysis-era5-single-levels\n"
     ]
    },
    {
     "name": "stdout",
     "output_type": "stream",
     "text": [
      "                     geometry                      address\n",
      "0  POINT (-71.59924 41.79624)  Rhode Island, United States\n",
      "14\n",
      "10\n",
      "2022\n",
      "74\n"
     ]
    },
    {
     "name": "stderr",
     "output_type": "stream",
     "text": [
      "2024-01-22 22:19:41,763 INFO Downloading https://download-0006-clone.copernicus-climate.eu/cache-compute-0006/cache/data4/adaptor.mars.internal-1705983488.46029-10398-14-c0a7d0fc-73ea-4d1a-b9b7-c85dae9d067e.grib to 74.grib (71.3M)\n",
      "2024-01-22 22:20:01,753 INFO Download rate 3.6M/s   \n",
      "2024-01-22 22:20:02,016 INFO Welcome to the CDS\n",
      "2024-01-22 22:20:02,016 INFO Sending request to https://cds.climate.copernicus.eu/api/v2/resources/reanalysis-era5-single-levels\n"
     ]
    },
    {
     "name": "stdout",
     "output_type": "stream",
     "text": [
      "                     geometry                       address\n",
      "0  POINT (-71.65540 43.48491)  New Hampshire, United States\n",
      "14\n",
      "10\n",
      "2022\n",
      "75\n"
     ]
    },
    {
     "name": "stderr",
     "output_type": "stream",
     "text": [
      "2024-01-22 22:20:02,484 INFO Downloading https://download-0006-clone.copernicus-climate.eu/cache-compute-0006/cache/data4/adaptor.mars.internal-1705983488.46029-10398-14-c0a7d0fc-73ea-4d1a-b9b7-c85dae9d067e.grib to 75.grib (71.3M)\n",
      "2024-01-22 22:20:39,516 INFO Download rate 1.9M/s   \n",
      "2024-01-22 22:20:39,777 INFO Welcome to the CDS\n",
      "2024-01-22 22:20:39,778 INFO Sending request to https://cds.climate.copernicus.eu/api/v2/resources/reanalysis-era5-single-levels\n"
     ]
    },
    {
     "name": "stdout",
     "output_type": "stream",
     "text": [
      "                     geometry                 address\n",
      "0  POINT (-72.50026 44.59907)  Vermont, United States\n",
      "14\n",
      "10\n",
      "2022\n",
      "76\n"
     ]
    },
    {
     "name": "stderr",
     "output_type": "stream",
     "text": [
      "2024-01-22 22:20:39,929 INFO Downloading https://download-0006-clone.copernicus-climate.eu/cache-compute-0006/cache/data4/adaptor.mars.internal-1705983488.46029-10398-14-c0a7d0fc-73ea-4d1a-b9b7-c85dae9d067e.grib to 76.grib (71.3M)\n",
      "2024-01-22 22:21:09,679 INFO Download rate 2.4M/s   \n",
      "2024-01-22 22:21:09,943 INFO Welcome to the CDS\n",
      "2024-01-22 22:21:09,944 INFO Sending request to https://cds.climate.copernicus.eu/api/v2/resources/reanalysis-era5-single-levels\n"
     ]
    },
    {
     "name": "stdout",
     "output_type": "stream",
     "text": [
      "                      geometry                            address\n",
      "0  POINT (-122.68424 48.21627)  Island, Washington, United States\n",
      "04\n",
      "11\n",
      "2022\n",
      "77\n"
     ]
    },
    {
     "name": "stderr",
     "output_type": "stream",
     "text": [
      "2024-01-22 22:21:10,104 INFO Request is queued\n",
      "2024-01-22 22:31:32,042 INFO Request is completed\n",
      "2024-01-22 22:31:32,043 INFO Downloading https://download-0020.copernicus-climate.eu/cache-compute-0020/cache/data4/adaptor.mars.internal-1705984273.7814884-14884-2-bbff1dce-1e0c-4760-bc1a-94e32dafb555.grib to 77.grib (71.3M)\n",
      "2024-01-22 22:31:50,802 INFO Download rate 3.8M/s   \n",
      "2024-01-22 22:31:51,066 INFO Welcome to the CDS\n",
      "2024-01-22 22:31:51,067 INFO Sending request to https://cds.climate.copernicus.eu/api/v2/resources/reanalysis-era5-single-levels\n"
     ]
    },
    {
     "name": "stdout",
     "output_type": "stream",
     "text": [
      "                     geometry                             address\n",
      "0  POINT (-85.53728 42.24950)  Kalamazoo, Michigan, United States\n",
      "05\n",
      "11\n",
      "2022\n",
      "78\n"
     ]
    },
    {
     "name": "stderr",
     "output_type": "stream",
     "text": [
      "2024-01-22 22:31:51,208 INFO Request is queued\n",
      "2024-01-22 22:42:13,045 INFO Request is completed\n",
      "2024-01-22 22:42:13,046 INFO Downloading https://download-0017.copernicus-climate.eu/cache-compute-0017/cache/data9/adaptor.mars.internal-1705984901.438851-5933-1-fff8d727-b3f8-4c83-8f27-777180892662.grib to 78.grib (71.3M)\n",
      "2024-01-22 22:43:02,671 INFO Download rate 1.4M/s   \n",
      "2024-01-22 22:43:02,929 INFO Welcome to the CDS\n",
      "2024-01-22 22:43:02,930 INFO Sending request to https://cds.climate.copernicus.eu/api/v2/resources/reanalysis-era5-single-levels\n"
     ]
    },
    {
     "name": "stdout",
     "output_type": "stream",
     "text": [
      "                     geometry                   address\n",
      "0  POINT (-89.68846 44.43090)  Wisconsin, United States\n",
      "05\n",
      "11\n",
      "2022\n",
      "79\n"
     ]
    },
    {
     "name": "stderr",
     "output_type": "stream",
     "text": [
      "2024-01-22 22:43:03,090 INFO Downloading https://download-0017.copernicus-climate.eu/cache-compute-0017/cache/data9/adaptor.mars.internal-1705984901.438851-5933-1-fff8d727-b3f8-4c83-8f27-777180892662.grib to 79.grib (71.3M)\n",
      "2024-01-22 22:43:19,105 INFO Download rate 4.5M/s   \n",
      "2024-01-22 22:43:19,363 INFO Welcome to the CDS\n",
      "2024-01-22 22:43:19,365 INFO Sending request to https://cds.climate.copernicus.eu/api/v2/resources/reanalysis-era5-single-levels\n"
     ]
    },
    {
     "name": "stdout",
     "output_type": "stream",
     "text": [
      "                     geometry                          address\n",
      "0  POINT (-82.36401 29.67557)  Alachua, Florida, United States\n",
      "10\n",
      "11\n",
      "2022\n",
      "80\n"
     ]
    },
    {
     "name": "stderr",
     "output_type": "stream",
     "text": [
      "2024-01-22 22:43:19,507 INFO Request is queued\n",
      "2024-01-22 22:55:41,990 INFO Request is completed\n",
      "2024-01-22 22:55:41,991 INFO Downloading https://download-0001-clone.copernicus-climate.eu/cache-compute-0001/cache/data8/adaptor.mars.internal-1705985631.9976227-8639-9-8f2d685a-ef6d-4601-ab65-e581a9e3a3c5.grib to 80.grib (71.3M)\n",
      "2024-01-22 22:55:46,673 INFO Download rate 15.2M/s  \n",
      "2024-01-22 22:55:46,943 INFO Welcome to the CDS\n",
      "2024-01-22 22:55:46,944 INFO Sending request to https://cds.climate.copernicus.eu/api/v2/resources/reanalysis-era5-single-levels\n"
     ]
    },
    {
     "name": "stdout",
     "output_type": "stream",
     "text": [
      "                     geometry                 address\n",
      "0  POINT (-86.82953 33.25888)  Alabama, United States\n",
      "30\n",
      "11\n",
      "2022\n",
      "81\n"
     ]
    },
    {
     "name": "stderr",
     "output_type": "stream",
     "text": [
      "2024-01-22 22:55:47,084 INFO Request is queued\n",
      "2024-01-22 23:04:08,222 INFO Request is completed\n",
      "2024-01-22 23:04:08,224 INFO Downloading https://download-0006-clone.copernicus-climate.eu/cache-compute-0006/cache/data9/adaptor.mars.internal-1705986216.9750886-3106-9-c08f6a1a-589b-4311-86ef-177b72124968.grib to 81.grib (71.3M)\n",
      "2024-01-22 23:04:24,091 INFO Download rate 4.5M/s   \n",
      "2024-01-22 23:04:24,352 INFO Welcome to the CDS\n",
      "2024-01-22 23:04:24,353 INFO Sending request to https://cds.climate.copernicus.eu/api/v2/resources/reanalysis-era5-single-levels\n"
     ]
    },
    {
     "name": "stdout",
     "output_type": "stream",
     "text": [
      "                     geometry                     address\n",
      "0  POINT (-89.73485 32.97153)  Mississippi, United States\n",
      "30\n",
      "11\n",
      "2022\n",
      "82\n"
     ]
    },
    {
     "name": "stderr",
     "output_type": "stream",
     "text": [
      "2024-01-22 23:04:24,601 INFO Downloading https://download-0006-clone.copernicus-climate.eu/cache-compute-0006/cache/data9/adaptor.mars.internal-1705986216.9750886-3106-9-c08f6a1a-589b-4311-86ef-177b72124968.grib to 82.grib (71.3M)\n",
      "2024-01-22 23:04:50,667 INFO Download rate 2.7M/s   \n",
      "2024-01-22 23:04:50,933 INFO Welcome to the CDS\n",
      "2024-01-22 23:04:50,934 INFO Sending request to https://cds.climate.copernicus.eu/api/v2/resources/reanalysis-era5-single-levels\n"
     ]
    },
    {
     "name": "stdout",
     "output_type": "stream",
     "text": [
      "                     geometry                 address\n",
      "0  POINT (-83.11374 32.32938)  Georgia, United States\n",
      "30\n",
      "11\n",
      "2022\n",
      "83\n"
     ]
    },
    {
     "name": "stderr",
     "output_type": "stream",
     "text": [
      "2024-01-22 23:04:51,095 INFO Downloading https://download-0006-clone.copernicus-climate.eu/cache-compute-0006/cache/data9/adaptor.mars.internal-1705986216.9750886-3106-9-c08f6a1a-589b-4311-86ef-177b72124968.grib to 83.grib (71.3M)\n",
      "2024-01-22 23:05:13,239 INFO Download rate 3.2M/s   \n",
      "2024-01-22 23:05:13,502 INFO Welcome to the CDS\n",
      "2024-01-22 23:05:13,502 INFO Sending request to https://cds.climate.copernicus.eu/api/v2/resources/reanalysis-era5-single-levels\n"
     ]
    },
    {
     "name": "stdout",
     "output_type": "stream",
     "text": [
      "                     geometry                       address\n",
      "0  POINT (-72.03237 42.37888)  Massachusetts, United States\n",
      "16\n",
      "12\n",
      "2022\n",
      "84\n"
     ]
    },
    {
     "name": "stderr",
     "output_type": "stream",
     "text": [
      "2024-01-22 23:05:13,681 INFO Request is queued\n",
      "2024-01-22 23:13:34,836 INFO Request is completed\n",
      "2024-01-22 23:13:34,838 INFO Downloading https://download-0013-clone.copernicus-climate.eu/cache-compute-0013/cache/data1/adaptor.mars.internal-1705986799.2081547-21424-1-98fc1c62-168f-464b-b8e3-2c5a02a06372.grib to 84.grib (71.3M)\n",
      "2024-01-22 23:14:13,811 INFO Download rate 1.8M/s   \n",
      "2024-01-22 23:14:14,067 INFO Welcome to the CDS\n",
      "2024-01-22 23:14:14,068 INFO Sending request to https://cds.climate.copernicus.eu/api/v2/resources/reanalysis-era5-single-levels\n"
     ]
    },
    {
     "name": "stdout",
     "output_type": "stream",
     "text": [
      "                     geometry                 address\n",
      "0  POINT (-72.50026 44.59907)  Vermont, United States\n",
      "16\n",
      "12\n",
      "2022\n",
      "85\n"
     ]
    },
    {
     "name": "stderr",
     "output_type": "stream",
     "text": [
      "2024-01-22 23:14:14,243 INFO Downloading https://download-0013-clone.copernicus-climate.eu/cache-compute-0013/cache/data1/adaptor.mars.internal-1705986799.2081547-21424-1-98fc1c62-168f-464b-b8e3-2c5a02a06372.grib to 85.grib (71.3M)\n",
      "2024-01-22 23:15:13,903 INFO Download rate 1.2M/s   \n",
      "2024-01-22 23:15:14,159 INFO Welcome to the CDS\n",
      "2024-01-22 23:15:14,160 INFO Sending request to https://cds.climate.copernicus.eu/api/v2/resources/reanalysis-era5-single-levels\n"
     ]
    },
    {
     "name": "stdout",
     "output_type": "stream",
     "text": [
      "                     geometry                       address\n",
      "0  POINT (-71.65540 43.48491)  New Hampshire, United States\n",
      "16\n",
      "12\n",
      "2022\n",
      "86\n"
     ]
    },
    {
     "name": "stderr",
     "output_type": "stream",
     "text": [
      "2024-01-22 23:15:14,465 INFO Downloading https://download-0013-clone.copernicus-climate.eu/cache-compute-0013/cache/data1/adaptor.mars.internal-1705986799.2081547-21424-1-98fc1c62-168f-464b-b8e3-2c5a02a06372.grib to 86.grib (71.3M)\n",
      "2024-01-22 23:15:47,354 INFO Download rate 2.2M/s   \n",
      "2024-01-22 23:15:47,612 INFO Welcome to the CDS\n",
      "2024-01-22 23:15:47,613 INFO Sending request to https://cds.climate.copernicus.eu/api/v2/resources/reanalysis-era5-single-levels\n"
     ]
    },
    {
     "name": "stdout",
     "output_type": "stream",
     "text": [
      "                     geometry               address\n",
      "0  POINT (-68.85902 45.70910)  Maine, United States\n",
      "16\n",
      "12\n",
      "2022\n",
      "87\n"
     ]
    },
    {
     "name": "stderr",
     "output_type": "stream",
     "text": [
      "2024-01-22 23:15:47,808 INFO Downloading https://download-0013-clone.copernicus-climate.eu/cache-compute-0013/cache/data1/adaptor.mars.internal-1705986799.2081547-21424-1-98fc1c62-168f-464b-b8e3-2c5a02a06372.grib to 87.grib (71.3M)\n",
      "2024-01-22 23:16:28,701 INFO Download rate 1.7M/s   \n",
      "2024-01-22 23:16:28,959 INFO Welcome to the CDS\n",
      "2024-01-22 23:16:28,960 INFO Sending request to https://cds.climate.copernicus.eu/api/v2/resources/reanalysis-era5-single-levels\n"
     ]
    },
    {
     "name": "stdout",
     "output_type": "stream",
     "text": [
      "                     geometry                 address\n",
      "0  POINT (-86.82953 33.25888)  Alabama, United States\n",
      "23\n",
      "12\n",
      "2022\n",
      "88\n"
     ]
    },
    {
     "name": "stderr",
     "output_type": "stream",
     "text": [
      "2024-01-22 23:16:29,094 INFO Request is queued\n",
      "2024-01-22 23:26:50,844 INFO Request is completed\n",
      "2024-01-22 23:26:50,845 INFO Downloading https://download-0006-clone.copernicus-climate.eu/cache-compute-0006/cache/data5/adaptor.mars.internal-1705987509.2073848-29429-2-9fe06b52-058b-4012-b41d-370ae247bd36.grib to 88.grib (71.3M)\n",
      "2024-01-22 23:27:21,885 INFO Download rate 2.3M/s   \n",
      "2024-01-22 23:27:22,142 INFO Welcome to the CDS\n",
      "2024-01-22 23:27:22,143 INFO Sending request to https://cds.climate.copernicus.eu/api/v2/resources/reanalysis-era5-single-levels\n"
     ]
    },
    {
     "name": "stdout",
     "output_type": "stream",
     "text": [
      "                     geometry                 address\n",
      "0  POINT (-83.11374 32.32938)  Georgia, United States\n",
      "23\n",
      "12\n",
      "2022\n",
      "89\n"
     ]
    },
    {
     "name": "stderr",
     "output_type": "stream",
     "text": [
      "2024-01-22 23:27:22,331 INFO Downloading https://download-0006-clone.copernicus-climate.eu/cache-compute-0006/cache/data5/adaptor.mars.internal-1705987509.2073848-29429-2-9fe06b52-058b-4012-b41d-370ae247bd36.grib to 89.grib (71.3M)\n",
      "2024-01-22 23:28:57,012 INFO Download rate 771.1K/s \n",
      "2024-01-22 23:28:57,731 INFO Welcome to the CDS\n",
      "2024-01-22 23:28:57,732 INFO Sending request to https://cds.climate.copernicus.eu/api/v2/resources/reanalysis-era5-single-levels\n"
     ]
    },
    {
     "name": "stdout",
     "output_type": "stream",
     "text": [
      "                     geometry                     address\n",
      "0  POINT (-89.73485 32.97153)  Mississippi, United States\n",
      "23\n",
      "12\n",
      "2022\n",
      "90\n"
     ]
    },
    {
     "name": "stderr",
     "output_type": "stream",
     "text": [
      "2024-01-22 23:28:57,933 INFO Downloading https://download-0006-clone.copernicus-climate.eu/cache-compute-0006/cache/data5/adaptor.mars.internal-1705987509.2073848-29429-2-9fe06b52-058b-4012-b41d-370ae247bd36.grib to 90.grib (71.3M)\n",
      "2024-01-22 23:30:24,334 INFO Download rate 845K/s   \n",
      "2024-01-22 23:30:25,071 INFO Welcome to the CDS\n",
      "2024-01-22 23:30:25,072 INFO Sending request to https://cds.climate.copernicus.eu/api/v2/resources/reanalysis-era5-single-levels\n"
     ]
    },
    {
     "name": "stdout",
     "output_type": "stream",
     "text": [
      "                     geometry                          address\n",
      "0  POINT (-94.31034 37.17652)  Jasper, Missouri, United States\n",
      "23\n",
      "12\n",
      "2022\n",
      "91\n"
     ]
    },
    {
     "name": "stderr",
     "output_type": "stream",
     "text": [
      "2024-01-22 23:30:25,279 INFO Downloading https://download-0006-clone.copernicus-climate.eu/cache-compute-0006/cache/data5/adaptor.mars.internal-1705987509.2073848-29429-2-9fe06b52-058b-4012-b41d-370ae247bd36.grib to 91.grib (71.3M)\n",
      "2024-01-22 23:31:36,959 INFO Download rate 1018.5K/s\n",
      "2024-01-22 23:31:37,642 INFO Welcome to the CDS\n",
      "2024-01-22 23:31:37,643 INFO Sending request to https://cds.climate.copernicus.eu/api/v2/resources/reanalysis-era5-single-levels\n"
     ]
    },
    {
     "name": "stdout",
     "output_type": "stream",
     "text": [
      "                     geometry                        address\n",
      "0  POINT (-79.03929 35.67296)  North Carolina, United States\n",
      "24\n",
      "12\n",
      "2022\n",
      "92\n"
     ]
    },
    {
     "name": "stderr",
     "output_type": "stream",
     "text": [
      "2024-01-22 23:31:37,791 INFO Request is queued\n",
      "2024-01-22 23:39:58,868 INFO Request is completed\n",
      "2024-01-22 23:39:58,870 INFO Downloading https://download-0000-clone.copernicus-climate.eu/cache-compute-0000/cache/data6/adaptor.mars.internal-1705988330.3289325-13163-19-c02dd0ab-bc76-4b57-9022-b8aaafc71f56.grib to 92.grib (71.3M)\n",
      "2024-01-22 23:40:34,645 INFO Download rate 2M/s     \n",
      "2024-01-22 23:40:34,909 INFO Welcome to the CDS\n",
      "2024-01-22 23:40:34,910 INFO Sending request to https://cds.climate.copernicus.eu/api/v2/resources/reanalysis-era5-single-levels\n"
     ]
    },
    {
     "name": "stdout",
     "output_type": "stream",
     "text": [
      "                     geometry                        address\n",
      "0  POINT (-80.43637 33.68744)  South Carolina, United States\n",
      "24\n",
      "12\n",
      "2022\n",
      "93\n"
     ]
    },
    {
     "name": "stderr",
     "output_type": "stream",
     "text": [
      "2024-01-22 23:40:35,125 INFO Downloading https://download-0000-clone.copernicus-climate.eu/cache-compute-0000/cache/data6/adaptor.mars.internal-1705988330.3289325-13163-19-c02dd0ab-bc76-4b57-9022-b8aaafc71f56.grib to 93.grib (71.3M)\n",
      "2024-01-22 23:41:51,427 INFO Download rate 956.8K/s \n",
      "2024-01-22 23:41:52,127 INFO Welcome to the CDS\n",
      "2024-01-22 23:41:52,128 INFO Sending request to https://cds.climate.copernicus.eu/api/v2/resources/reanalysis-era5-single-levels\n"
     ]
    },
    {
     "name": "stdout",
     "output_type": "stream",
     "text": [
      "                     geometry                 address\n",
      "0  POINT (-86.82953 33.25888)  Alabama, United States\n",
      "24\n",
      "12\n",
      "2022\n",
      "94\n"
     ]
    },
    {
     "name": "stderr",
     "output_type": "stream",
     "text": [
      "2024-01-22 23:41:52,338 INFO Downloading https://download-0000-clone.copernicus-climate.eu/cache-compute-0000/cache/data6/adaptor.mars.internal-1705988330.3289325-13163-19-c02dd0ab-bc76-4b57-9022-b8aaafc71f56.grib to 94.grib (71.3M)\n",
      "2024-01-22 23:42:02,128 INFO Download rate 7.3M/s   \n",
      "2024-01-22 23:42:02,382 INFO Welcome to the CDS\n",
      "2024-01-22 23:42:02,383 INFO Sending request to https://cds.climate.copernicus.eu/api/v2/resources/reanalysis-era5-single-levels\n"
     ]
    },
    {
     "name": "stdout",
     "output_type": "stream",
     "text": [
      "                     geometry                 address\n",
      "0  POINT (-83.11374 32.32938)  Georgia, United States\n",
      "24\n",
      "12\n",
      "2022\n",
      "95\n"
     ]
    },
    {
     "name": "stderr",
     "output_type": "stream",
     "text": [
      "2024-01-22 23:42:02,541 INFO Downloading https://download-0000-clone.copernicus-climate.eu/cache-compute-0000/cache/data6/adaptor.mars.internal-1705988330.3289325-13163-19-c02dd0ab-bc76-4b57-9022-b8aaafc71f56.grib to 95.grib (71.3M)\n",
      "2024-01-22 23:42:13,053 INFO Download rate 6.8M/s   \n",
      "2024-01-22 23:42:13,307 INFO Welcome to the CDS\n",
      "2024-01-22 23:42:13,308 INFO Sending request to https://cds.climate.copernicus.eu/api/v2/resources/reanalysis-era5-single-levels\n"
     ]
    },
    {
     "name": "stdout",
     "output_type": "stream",
     "text": [
      "                     geometry                     address\n",
      "0  POINT (-89.73485 32.97153)  Mississippi, United States\n",
      "24\n",
      "12\n",
      "2022\n",
      "96\n"
     ]
    },
    {
     "name": "stderr",
     "output_type": "stream",
     "text": [
      "2024-01-22 23:42:13,453 INFO Downloading https://download-0000-clone.copernicus-climate.eu/cache-compute-0000/cache/data6/adaptor.mars.internal-1705988330.3289325-13163-19-c02dd0ab-bc76-4b57-9022-b8aaafc71f56.grib to 96.grib (71.3M)\n",
      "2024-01-22 23:42:27,165 INFO Download rate 5.2M/s   \n",
      "2024-01-22 23:42:27,424 INFO Welcome to the CDS\n",
      "2024-01-22 23:42:27,425 INFO Sending request to https://cds.climate.copernicus.eu/api/v2/resources/reanalysis-era5-single-levels\n"
     ]
    },
    {
     "name": "stdout",
     "output_type": "stream",
     "text": [
      "                      geometry                          address\n",
      "0  POINT (-121.86221 47.48734)  King, Washington, United States\n",
      "26\n",
      "12\n",
      "2022\n",
      "97\n"
     ]
    },
    {
     "name": "stderr",
     "output_type": "stream",
     "text": [
      "2024-01-22 23:42:27,616 INFO Request is queued\n",
      "2024-01-22 23:50:48,678 INFO Request is completed\n",
      "2024-01-22 23:50:48,679 INFO Downloading https://download-0002-clone.copernicus-climate.eu/cache-compute-0002/cache/data0/adaptor.mars.internal-1705988972.969353-18136-3-a454d318-4544-4c1b-9728-836fd92e8bc2.grib to 97.grib (71.3M)\n",
      "2024-01-22 23:50:57,256 INFO Download rate 8.3M/s   \n",
      "2024-01-22 23:50:57,516 INFO Welcome to the CDS\n",
      "2024-01-22 23:50:57,517 INFO Sending request to https://cds.climate.copernicus.eu/api/v2/resources/reanalysis-era5-single-levels\n"
     ]
    },
    {
     "name": "stdout",
     "output_type": "stream",
     "text": [
      "                      geometry                                address\n",
      "0  POINT (-121.29807 38.47323)  Sacramento, California, United States\n",
      "31\n",
      "12\n",
      "2022\n",
      "98\n"
     ]
    },
    {
     "name": "stderr",
     "output_type": "stream",
     "text": [
      "2024-01-22 23:50:57,669 INFO Request is queued\n",
      "2024-01-22 23:59:18,689 INFO Request is completed\n",
      "2024-01-22 23:59:18,691 INFO Downloading https://download-0014-clone.copernicus-climate.eu/cache-compute-0014/cache/data2/adaptor.mars.internal-1705989465.6450467-23509-3-d1c0f578-c95d-4a3a-835e-a40ee1d70b16.grib to 98.grib (71.3M)\n",
      "2024-01-22 23:59:24,046 INFO Download rate 13.3M/s  \n",
      "2024-01-22 23:59:24,302 INFO Welcome to the CDS\n",
      "2024-01-22 23:59:24,303 INFO Sending request to https://cds.climate.copernicus.eu/api/v2/resources/reanalysis-era5-single-levels\n"
     ]
    },
    {
     "name": "stdout",
     "output_type": "stream",
     "text": [
      "                     geometry                                         address\n",
      "0  POINT (-92.19165 32.53370)  Arkansas Road, 71291, Louisiana, United States\n",
      "02\n",
      "01\n",
      "2023\n",
      "99\n"
     ]
    },
    {
     "name": "stderr",
     "output_type": "stream",
     "text": [
      "2024-01-22 23:59:24,453 INFO Request is queued\n",
      "2024-01-23 00:07:46,358 INFO Request is completed\n",
      "2024-01-23 00:07:46,359 INFO Downloading https://download-0003-clone.copernicus-climate.eu/cache-compute-0003/cache/data7/adaptor.mars.internal-1705989956.3084114-30928-19-b931c2f1-1854-42ba-a3ae-0f7f1cae8a08.grib to 99.grib (71.3M)\n",
      "2024-01-23 00:07:51,304 INFO Download rate 14.4M/s  \n",
      "2024-01-23 00:07:51,572 INFO Welcome to the CDS\n",
      "2024-01-23 00:07:51,573 INFO Sending request to https://cds.climate.copernicus.eu/api/v2/resources/reanalysis-era5-single-levels\n"
     ]
    },
    {
     "name": "stdout",
     "output_type": "stream",
     "text": [
      "                      geometry                                address\n",
      "0  POINT (-121.29807 38.47323)  Sacramento, California, United States\n",
      "07\n",
      "01\n",
      "2023\n",
      "100\n"
     ]
    },
    {
     "name": "stderr",
     "output_type": "stream",
     "text": [
      "2024-01-23 00:07:51,757 INFO Request is queued\n",
      "2024-01-23 00:16:12,909 INFO Request is completed\n",
      "2024-01-23 00:16:12,911 INFO Downloading https://download-0016.copernicus-climate.eu/cache-compute-0016/cache/data0/adaptor.mars.internal-1705990469.9796495-1344-12-6508d39c-45f5-4a79-a4b3-75ed0a87a47e.grib to 100.grib (71.3M)\n",
      "2024-01-23 00:16:22,692 INFO Download rate 7.3M/s   \n",
      "2024-01-23 00:16:22,956 INFO Welcome to the CDS\n",
      "2024-01-23 00:16:22,957 INFO Sending request to https://cds.climate.copernicus.eu/api/v2/resources/reanalysis-era5-single-levels\n"
     ]
    },
    {
     "name": "stdout",
     "output_type": "stream",
     "text": [
      "                     geometry                     address\n",
      "0  POINT (-72.73422 41.65002)  Connecticut, United States\n",
      "23\n",
      "01\n",
      "2023\n",
      "101\n"
     ]
    },
    {
     "name": "stderr",
     "output_type": "stream",
     "text": [
      "2024-01-23 00:16:23,117 INFO Request is queued\n",
      "2024-01-23 00:26:44,954 INFO Request is completed\n",
      "2024-01-23 00:26:44,955 INFO Downloading https://download-0006-clone.copernicus-climate.eu/cache-compute-0006/cache/data1/adaptor.mars.internal-1705991087.3723214-18618-3-4a0186b0-c737-424e-82fd-f9b962cbf444.grib to 101.grib (71.3M)\n",
      "2024-01-23 00:26:49,613 INFO Download rate 15.3M/s  \n",
      "2024-01-23 00:26:49,876 INFO Welcome to the CDS\n",
      "2024-01-23 00:26:49,876 INFO Sending request to https://cds.climate.copernicus.eu/api/v2/resources/reanalysis-era5-single-levels\n"
     ]
    },
    {
     "name": "stdout",
     "output_type": "stream",
     "text": [
      "                     geometry                      address\n",
      "0  POINT (-71.59924 41.79624)  Rhode Island, United States\n",
      "23\n",
      "01\n",
      "2023\n",
      "102\n"
     ]
    },
    {
     "name": "stderr",
     "output_type": "stream",
     "text": [
      "2024-01-23 00:26:50,060 INFO Downloading https://download-0006-clone.copernicus-climate.eu/cache-compute-0006/cache/data1/adaptor.mars.internal-1705991087.3723214-18618-3-4a0186b0-c737-424e-82fd-f9b962cbf444.grib to 102.grib (71.3M)\n",
      "2024-01-23 00:26:59,992 INFO Download rate 7.2M/s   \n",
      "2024-01-23 00:27:00,255 INFO Welcome to the CDS\n",
      "2024-01-23 00:27:00,256 INFO Sending request to https://cds.climate.copernicus.eu/api/v2/resources/reanalysis-era5-single-levels\n"
     ]
    },
    {
     "name": "stdout",
     "output_type": "stream",
     "text": [
      "                     geometry                       address\n",
      "0  POINT (-72.03237 42.37888)  Massachusetts, United States\n",
      "23\n",
      "01\n",
      "2023\n",
      "103\n"
     ]
    },
    {
     "name": "stderr",
     "output_type": "stream",
     "text": [
      "2024-01-23 00:27:00,416 INFO Downloading https://download-0006-clone.copernicus-climate.eu/cache-compute-0006/cache/data1/adaptor.mars.internal-1705991087.3723214-18618-3-4a0186b0-c737-424e-82fd-f9b962cbf444.grib to 103.grib (71.3M)\n",
      "2024-01-23 00:27:12,199 INFO Download rate 6.1M/s   \n",
      "2024-01-23 00:27:12,463 INFO Welcome to the CDS\n",
      "2024-01-23 00:27:12,464 INFO Sending request to https://cds.climate.copernicus.eu/api/v2/resources/reanalysis-era5-single-levels\n"
     ]
    },
    {
     "name": "stdout",
     "output_type": "stream",
     "text": [
      "                     geometry                 address\n",
      "0  POINT (-72.50026 44.59907)  Vermont, United States\n",
      "23\n",
      "01\n",
      "2023\n",
      "104\n"
     ]
    },
    {
     "name": "stderr",
     "output_type": "stream",
     "text": [
      "2024-01-23 00:27:12,621 INFO Downloading https://download-0006-clone.copernicus-climate.eu/cache-compute-0006/cache/data1/adaptor.mars.internal-1705991087.3723214-18618-3-4a0186b0-c737-424e-82fd-f9b962cbf444.grib to 104.grib (71.3M)\n",
      "2024-01-23 00:27:23,689 INFO Download rate 6.4M/s   \n",
      "2024-01-23 00:27:23,954 INFO Welcome to the CDS\n",
      "2024-01-23 00:27:23,955 INFO Sending request to https://cds.climate.copernicus.eu/api/v2/resources/reanalysis-era5-single-levels\n"
     ]
    },
    {
     "name": "stdout",
     "output_type": "stream",
     "text": [
      "                     geometry                       address\n",
      "0  POINT (-71.65540 43.48491)  New Hampshire, United States\n",
      "23\n",
      "01\n",
      "2023\n",
      "105\n"
     ]
    },
    {
     "name": "stderr",
     "output_type": "stream",
     "text": [
      "2024-01-23 00:27:24,124 INFO Downloading https://download-0006-clone.copernicus-climate.eu/cache-compute-0006/cache/data1/adaptor.mars.internal-1705991087.3723214-18618-3-4a0186b0-c737-424e-82fd-f9b962cbf444.grib to 105.grib (71.3M)\n",
      "2024-01-23 00:27:35,436 INFO Download rate 6.3M/s   \n",
      "2024-01-23 00:27:35,700 INFO Welcome to the CDS\n",
      "2024-01-23 00:27:35,701 INFO Sending request to https://cds.climate.copernicus.eu/api/v2/resources/reanalysis-era5-single-levels\n"
     ]
    },
    {
     "name": "stdout",
     "output_type": "stream",
     "text": [
      "                     geometry               address\n",
      "0  POINT (-68.85902 45.70910)  Maine, United States\n",
      "23\n",
      "01\n",
      "2023\n",
      "106\n"
     ]
    },
    {
     "name": "stderr",
     "output_type": "stream",
     "text": [
      "2024-01-23 00:27:35,873 INFO Downloading https://download-0006-clone.copernicus-climate.eu/cache-compute-0006/cache/data1/adaptor.mars.internal-1705991087.3723214-18618-3-4a0186b0-c737-424e-82fd-f9b962cbf444.grib to 106.grib (71.3M)\n",
      "2024-01-23 00:28:00,042 INFO Download rate 3M/s     \n",
      "2024-01-23 00:28:00,304 INFO Welcome to the CDS\n",
      "2024-01-23 00:28:00,306 INFO Sending request to https://cds.climate.copernicus.eu/api/v2/resources/reanalysis-era5-single-levels\n"
     ]
    },
    {
     "name": "stdout",
     "output_type": "stream",
     "text": [
      "                     geometry                       address\n",
      "0  POINT (-95.37412 29.81198)  Harris, Texas, United States\n",
      "24\n",
      "01\n",
      "2023\n",
      "107\n"
     ]
    },
    {
     "name": "stderr",
     "output_type": "stream",
     "text": [
      "2024-01-23 00:28:00,464 INFO Request is queued\n",
      "2024-01-23 00:38:22,226 INFO Request is completed\n",
      "2024-01-23 00:38:22,228 INFO Downloading https://download-0013-clone.copernicus-climate.eu/cache-compute-0013/cache/data1/adaptor.mars.internal-1705991856.8037133-11488-15-b792f72f-5108-4322-b710-c8ca86411173.grib to 107.grib (71.3M)\n",
      "2024-01-23 00:38:26,957 INFO Download rate 15.1M/s  \n",
      "2024-01-23 00:38:27,220 INFO Welcome to the CDS\n",
      "2024-01-23 00:38:27,221 INFO Sending request to https://cds.climate.copernicus.eu/api/v2/resources/reanalysis-era5-single-levels\n"
     ]
    },
    {
     "name": "stdout",
     "output_type": "stream",
     "text": [
      "                     geometry                  address\n",
      "0  POINT (-92.44791 35.20489)  Arkansas, United States\n",
      "25\n",
      "01\n",
      "2023\n",
      "108\n"
     ]
    },
    {
     "name": "stderr",
     "output_type": "stream",
     "text": [
      "2024-01-23 00:38:27,442 INFO Request is queued\n",
      "2024-01-23 00:54:51,216 INFO Request is completed\n",
      "2024-01-23 00:54:51,217 INFO Downloading https://download-0009-clone.copernicus-climate.eu/cache-compute-0009/cache/data0/adaptor.mars.internal-1705992872.653846-5250-18-8b94c28d-011c-4b70-aaf0-24739fe76b6b.grib to 108.grib (71.3M)\n",
      "2024-01-23 00:55:35,393 INFO Download rate 1.6M/s   \n",
      "2024-01-23 00:55:35,651 INFO Welcome to the CDS\n",
      "2024-01-23 00:55:35,652 INFO Sending request to https://cds.climate.copernicus.eu/api/v2/resources/reanalysis-era5-single-levels\n"
     ]
    },
    {
     "name": "stdout",
     "output_type": "stream",
     "text": [
      "                     geometry               address\n",
      "0  POINT (-98.54561 31.26389)  Texas, United States\n",
      "25\n",
      "01\n",
      "2023\n",
      "109\n"
     ]
    },
    {
     "name": "stderr",
     "output_type": "stream",
     "text": [
      "2024-01-23 00:55:35,849 INFO Downloading https://download-0009-clone.copernicus-climate.eu/cache-compute-0009/cache/data0/adaptor.mars.internal-1705992872.653846-5250-18-8b94c28d-011c-4b70-aaf0-24739fe76b6b.grib to 109.grib (71.3M)\n",
      "2024-01-23 00:56:18,743 INFO Download rate 1.7M/s   \n",
      "2024-01-23 00:56:19,000 INFO Welcome to the CDS\n",
      "2024-01-23 00:56:19,002 INFO Sending request to https://cds.climate.copernicus.eu/api/v2/resources/reanalysis-era5-single-levels\n"
     ]
    },
    {
     "name": "stdout",
     "output_type": "stream",
     "text": [
      "                     geometry                   address\n",
      "0  POINT (-92.00713 30.87039)  Louisiana, United States\n",
      "25\n",
      "01\n",
      "2023\n",
      "110\n"
     ]
    },
    {
     "name": "stderr",
     "output_type": "stream",
     "text": [
      "2024-01-23 00:56:19,152 INFO Downloading https://download-0009-clone.copernicus-climate.eu/cache-compute-0009/cache/data0/adaptor.mars.internal-1705992872.653846-5250-18-8b94c28d-011c-4b70-aaf0-24739fe76b6b.grib to 110.grib (71.3M)\n",
      "2024-01-23 00:56:51,952 INFO Download rate 2.2M/s   \n",
      "2024-01-23 00:56:52,208 INFO Welcome to the CDS\n",
      "2024-01-23 00:56:52,209 INFO Sending request to https://cds.climate.copernicus.eu/api/v2/resources/reanalysis-era5-single-levels\n"
     ]
    },
    {
     "name": "stdout",
     "output_type": "stream",
     "text": [
      "                     geometry                     address\n",
      "0  POINT (-89.73485 32.97153)  Mississippi, United States\n",
      "25\n",
      "01\n",
      "2023\n",
      "111\n"
     ]
    },
    {
     "name": "stderr",
     "output_type": "stream",
     "text": [
      "2024-01-23 00:56:52,358 INFO Downloading https://download-0009-clone.copernicus-climate.eu/cache-compute-0009/cache/data0/adaptor.mars.internal-1705992872.653846-5250-18-8b94c28d-011c-4b70-aaf0-24739fe76b6b.grib to 111.grib (71.3M)\n",
      "2024-01-23 00:57:26,980 INFO Download rate 2.1M/s   \n",
      "2024-01-23 00:57:27,240 INFO Welcome to the CDS\n",
      "2024-01-23 00:57:27,241 INFO Sending request to https://cds.climate.copernicus.eu/api/v2/resources/reanalysis-era5-single-levels\n"
     ]
    },
    {
     "name": "stdout",
     "output_type": "stream",
     "text": [
      "                     geometry                       address\n",
      "0  POINT (-96.79686 32.77627)  Dallas, Texas, United States\n",
      "31\n",
      "01\n",
      "2023\n",
      "112\n"
     ]
    },
    {
     "name": "stderr",
     "output_type": "stream",
     "text": [
      "2024-01-23 00:57:27,395 INFO Request is queued\n",
      "2024-01-23 01:11:50,480 INFO Request is completed\n",
      "2024-01-23 01:11:50,481 INFO Downloading https://download-0009-clone.copernicus-climate.eu/cache-compute-0009/cache/data3/adaptor.mars.internal-1705993854.430896-28812-5-02f86478-3683-4ebe-a465-da8afa60468a.grib to 112.grib (71.3M)\n",
      "2024-01-23 01:11:56,109 INFO Download rate 12.7M/s  \n",
      "2024-01-23 01:11:56,379 INFO Welcome to the CDS\n",
      "2024-01-23 01:11:56,380 INFO Sending request to https://cds.climate.copernicus.eu/api/v2/resources/reanalysis-era5-single-levels\n"
     ]
    },
    {
     "name": "stdout",
     "output_type": "stream",
     "text": [
      "                     geometry                       address\n",
      "0  POINT (-97.75614 30.28786)  Travis, Texas, United States\n",
      "01\n",
      "02\n",
      "2023\n",
      "113\n"
     ]
    },
    {
     "name": "stderr",
     "output_type": "stream",
     "text": [
      "2024-01-23 01:11:56,591 INFO Request is queued\n",
      "2024-01-23 01:28:20,271 INFO Request is completed\n",
      "2024-01-23 01:28:20,273 INFO Downloading https://download-0016.copernicus-climate.eu/cache-compute-0016/cache/data6/adaptor.mars.internal-1705994845.664361-13100-1-a8608556-e18c-45f4-8256-1faddbe3a231.grib to 113.grib (71.3M)\n",
      "2024-01-23 01:28:25,221 INFO Download rate 14.4M/s  \n",
      "2024-01-23 01:28:25,480 INFO Welcome to the CDS\n",
      "2024-01-23 01:28:25,481 INFO Sending request to https://cds.climate.copernicus.eu/api/v2/resources/reanalysis-era5-single-levels\n"
     ]
    },
    {
     "name": "stdout",
     "output_type": "stream",
     "text": [
      "                     geometry                  address\n",
      "0  POINT (-92.44791 35.20489)  Arkansas, United States\n",
      "02\n",
      "02\n",
      "2023\n",
      "114\n"
     ]
    },
    {
     "name": "stderr",
     "output_type": "stream",
     "text": [
      "2024-01-23 01:28:25,691 INFO Request is queued\n",
      "2024-01-23 01:44:49,378 INFO Request is completed\n",
      "2024-01-23 01:44:49,380 INFO Downloading https://download-0002-clone.copernicus-climate.eu/cache-compute-0002/cache/data7/adaptor.mars.internal-1705995835.9914467-28080-9-683f8861-703d-4a84-8a9b-5cea6e18df1d.grib to 114.grib (71.3M)\n",
      "2024-01-23 01:45:05,447 INFO Download rate 4.4M/s   \n",
      "2024-01-23 01:45:05,705 INFO Welcome to the CDS\n",
      "2024-01-23 01:45:05,706 INFO Sending request to https://cds.climate.copernicus.eu/api/v2/resources/reanalysis-era5-single-levels\n"
     ]
    },
    {
     "name": "stdout",
     "output_type": "stream",
     "text": [
      "                     geometry                     address\n",
      "0  POINT (-89.73485 32.97153)  Mississippi, United States\n",
      "02\n",
      "02\n",
      "2023\n",
      "115\n"
     ]
    },
    {
     "name": "stderr",
     "output_type": "stream",
     "text": [
      "2024-01-23 01:45:05,898 INFO Downloading https://download-0002-clone.copernicus-climate.eu/cache-compute-0002/cache/data7/adaptor.mars.internal-1705995835.9914467-28080-9-683f8861-703d-4a84-8a9b-5cea6e18df1d.grib to 115.grib (71.3M)\n",
      "2024-01-23 01:45:29,055 INFO Download rate 3.1M/s   \n",
      "2024-01-23 01:45:29,318 INFO Welcome to the CDS\n",
      "2024-01-23 01:45:29,319 INFO Sending request to https://cds.climate.copernicus.eu/api/v2/resources/reanalysis-era5-single-levels\n"
     ]
    },
    {
     "name": "stdout",
     "output_type": "stream",
     "text": [
      "                     geometry               address\n",
      "0  POINT (-98.54561 31.26389)  Texas, United States\n",
      "02\n",
      "02\n",
      "2023\n",
      "116\n"
     ]
    },
    {
     "name": "stderr",
     "output_type": "stream",
     "text": [
      "2024-01-23 01:45:29,466 INFO Downloading https://download-0002-clone.copernicus-climate.eu/cache-compute-0002/cache/data7/adaptor.mars.internal-1705995835.9914467-28080-9-683f8861-703d-4a84-8a9b-5cea6e18df1d.grib to 116.grib (71.3M)\n",
      "2024-01-23 01:45:49,928 INFO Download rate 3.5M/s   \n",
      "2024-01-23 01:45:50,213 INFO Welcome to the CDS\n",
      "2024-01-23 01:45:50,214 INFO Sending request to https://cds.climate.copernicus.eu/api/v2/resources/reanalysis-era5-single-levels\n"
     ]
    },
    {
     "name": "stdout",
     "output_type": "stream",
     "text": [
      "                     geometry  \\\n",
      "0  POINT (-87.38122 44.83195)   \n",
      "\n",
      "                                             address  \n",
      "0  Michigan Street Bridge, Michigan Street, 54235...  \n",
      "23\n",
      "02\n",
      "2023\n",
      "117\n"
     ]
    },
    {
     "name": "stderr",
     "output_type": "stream",
     "text": [
      "2024-01-23 01:45:50,362 INFO Request is queued\n",
      "2024-01-23 02:10:16,905 INFO Request is completed\n",
      "2024-01-23 02:10:16,906 INFO Downloading https://download-0015-clone.copernicus-climate.eu/cache-compute-0015/cache/data8/adaptor.mars.internal-1705997318.202038-32093-12-a00363c4-3fac-464a-b722-1f65604b977e.grib to 117.grib (71.3M)\n",
      "2024-01-23 02:10:43,479 INFO Download rate 2.7M/s   \n",
      "2024-01-23 02:10:43,749 INFO Welcome to the CDS\n",
      "2024-01-23 02:10:43,750 INFO Sending request to https://cds.climate.copernicus.eu/api/v2/resources/reanalysis-era5-single-levels\n"
     ]
    },
    {
     "name": "stdout",
     "output_type": "stream",
     "text": [
      "                      geometry                                 address\n",
      "0  POINT (-118.24277 34.05369)  Los Angeles, California, United States\n",
      "25\n",
      "02\n",
      "2023\n",
      "118\n"
     ]
    },
    {
     "name": "stderr",
     "output_type": "stream",
     "text": [
      "2024-01-23 02:10:43,933 INFO Request is queued\n",
      "2024-01-23 02:37:11,177 INFO Request is completed\n",
      "2024-01-23 02:37:11,178 INFO Downloading https://download-0016.copernicus-climate.eu/cache-compute-0016/cache/data4/adaptor.mars.internal-1705998924.009887-30035-6-2ceea70d-4abb-47c4-849f-4396811474fd.grib to 118.grib (71.3M)\n",
      "2024-01-23 02:37:19,697 INFO Download rate 8.4M/s   \n",
      "2024-01-23 02:37:19,959 INFO Welcome to the CDS\n",
      "2024-01-23 02:37:19,960 INFO Sending request to https://cds.climate.copernicus.eu/api/v2/resources/reanalysis-era5-single-levels\n"
     ]
    },
    {
     "name": "stdout",
     "output_type": "stream",
     "text": [
      "                     geometry                           address\n",
      "0  POINT (-85.79450 43.51212)  Newaygo, Michigan, United States\n",
      "27\n",
      "02\n",
      "2023\n",
      "119\n"
     ]
    },
    {
     "name": "stderr",
     "output_type": "stream",
     "text": [
      "2024-01-23 02:37:20,128 INFO Request is queued\n",
      "2024-01-23 02:59:46,030 INFO Request is completed\n",
      "2024-01-23 02:59:46,031 INFO Downloading https://download-0021.copernicus-climate.eu/cache-compute-0021/cache/data5/adaptor.mars.internal-1706000377.6374211-426-15-3aea9df1-cda6-474c-b450-1b3c07e24433.grib to 119.grib (71.3M)\n",
      "2024-01-23 02:59:58,403 INFO Download rate 5.8M/s   \n",
      "2024-01-23 02:59:58,679 INFO Welcome to the CDS\n",
      "2024-01-23 02:59:58,680 INFO Sending request to https://cds.climate.copernicus.eu/api/v2/resources/reanalysis-era5-single-levels\n"
     ]
    },
    {
     "name": "stdout",
     "output_type": "stream",
     "text": [
      "                     geometry                         address\n",
      "0  POINT (-97.72158 33.62058)  Montague, Texas, United States\n",
      "02\n",
      "03\n",
      "2023\n",
      "120\n"
     ]
    },
    {
     "name": "stderr",
     "output_type": "stream",
     "text": [
      "2024-01-23 02:59:58,844 INFO Request is queued\n",
      "2024-01-23 03:22:24,574 INFO Request is completed\n",
      "2024-01-23 03:22:24,575 INFO Downloading https://download-0016.copernicus-climate.eu/cache-compute-0016/cache/data0/adaptor.mars.internal-1706001631.4762156-15519-13-7cab7093-0c20-4157-a1f8-0c47e544e178.grib to 120.grib (71.3M)\n",
      "2024-01-23 03:22:29,423 INFO Download rate 14.7M/s  \n",
      "2024-01-23 03:22:29,682 INFO Welcome to the CDS\n",
      "2024-01-23 03:22:29,683 INFO Sending request to https://cds.climate.copernicus.eu/api/v2/resources/reanalysis-era5-single-levels\n"
     ]
    },
    {
     "name": "stdout",
     "output_type": "stream",
     "text": [
      "                     geometry                 address\n",
      "0  POINT (-86.82953 33.25888)  Alabama, United States\n",
      "03\n",
      "03\n",
      "2023\n",
      "121\n"
     ]
    },
    {
     "name": "stderr",
     "output_type": "stream",
     "text": [
      "2024-01-23 03:22:29,979 INFO Request is queued\n",
      "2024-01-23 03:44:55,666 INFO Request is completed\n",
      "2024-01-23 03:44:55,668 INFO Downloading https://download-0005-clone.copernicus-climate.eu/cache-compute-0005/cache/data9/adaptor.mars.internal-1706003006.5235713-8986-1-f3e14f60-5bde-4526-b283-c58a96e2829c.grib to 121.grib (71.3M)\n",
      "2024-01-23 03:45:00,282 INFO Download rate 15.5M/s  \n",
      "2024-01-23 03:45:00,539 INFO Welcome to the CDS\n",
      "2024-01-23 03:45:00,540 INFO Sending request to https://cds.climate.copernicus.eu/api/v2/resources/reanalysis-era5-single-levels\n"
     ]
    },
    {
     "name": "stdout",
     "output_type": "stream",
     "text": [
      "                     geometry                 address\n",
      "0  POINT (-83.11374 32.32938)  Georgia, United States\n",
      "03\n",
      "03\n",
      "2023\n",
      "122\n"
     ]
    },
    {
     "name": "stderr",
     "output_type": "stream",
     "text": [
      "2024-01-23 03:45:00,711 INFO Downloading https://download-0005-clone.copernicus-climate.eu/cache-compute-0005/cache/data9/adaptor.mars.internal-1706003006.5235713-8986-1-f3e14f60-5bde-4526-b283-c58a96e2829c.grib to 122.grib (71.3M)\n",
      "2024-01-23 03:45:03,597 INFO Download rate 24.7M/s  \n",
      "2024-01-23 03:45:03,855 INFO Welcome to the CDS\n",
      "2024-01-23 03:45:03,856 INFO Sending request to https://cds.climate.copernicus.eu/api/v2/resources/reanalysis-era5-single-levels\n"
     ]
    },
    {
     "name": "stdout",
     "output_type": "stream",
     "text": [
      "                     geometry                     address\n",
      "0  POINT (-89.73485 32.97153)  Mississippi, United States\n",
      "03\n",
      "03\n",
      "2023\n",
      "123\n"
     ]
    },
    {
     "name": "stderr",
     "output_type": "stream",
     "text": [
      "2024-01-23 03:45:04,060 INFO Downloading https://download-0005-clone.copernicus-climate.eu/cache-compute-0005/cache/data9/adaptor.mars.internal-1706003006.5235713-8986-1-f3e14f60-5bde-4526-b283-c58a96e2829c.grib to 123.grib (71.3M)\n",
      "2024-01-23 03:45:08,796 INFO Download rate 15.1M/s  \n",
      "2024-01-23 03:45:09,052 INFO Welcome to the CDS\n",
      "2024-01-23 03:45:09,053 INFO Sending request to https://cds.climate.copernicus.eu/api/v2/resources/reanalysis-era5-single-levels\n"
     ]
    },
    {
     "name": "stdout",
     "output_type": "stream",
     "text": [
      "                     geometry                                       address\n",
      "0  POINT (-84.15966 36.74342)  Williamsburg, 40769, Kentucky, United States\n",
      "03\n",
      "03\n",
      "2023\n",
      "124\n"
     ]
    },
    {
     "name": "stderr",
     "output_type": "stream",
     "text": [
      "2024-01-23 03:45:09,235 INFO Downloading https://download-0005-clone.copernicus-climate.eu/cache-compute-0005/cache/data9/adaptor.mars.internal-1706003006.5235713-8986-1-f3e14f60-5bde-4526-b283-c58a96e2829c.grib to 124.grib (71.3M)\n",
      "2024-01-23 03:45:16,530 INFO Download rate 9.8M/s   \n",
      "2024-01-23 03:45:16,784 INFO Welcome to the CDS\n",
      "2024-01-23 03:45:16,785 INFO Sending request to https://cds.climate.copernicus.eu/api/v2/resources/reanalysis-era5-single-levels\n"
     ]
    },
    {
     "name": "stdout",
     "output_type": "stream",
     "text": [
      "                     geometry                                    address\n",
      "0  POINT (-88.54130 42.66752)  Walworth County, Wisconsin, United States\n",
      "09\n",
      "03\n",
      "2023\n",
      "125\n"
     ]
    },
    {
     "name": "stderr",
     "output_type": "stream",
     "text": [
      "2024-01-23 03:45:16,929 INFO Request is queued\n",
      "2024-01-23 04:09:43,807 INFO Request is completed\n",
      "2024-01-23 04:09:43,808 INFO Downloading https://download-0021.copernicus-climate.eu/cache-compute-0021/cache/data1/adaptor.mars.internal-1706004466.1046486-32320-4-2c2b86e1-abb3-4476-869f-db8b71488512.grib to 125.grib (71.3M)\n",
      "2024-01-23 04:09:48,532 INFO Download rate 15.1M/s  \n",
      "2024-01-23 04:09:48,794 INFO Welcome to the CDS\n",
      "2024-01-23 04:09:48,795 INFO Sending request to https://cds.climate.copernicus.eu/api/v2/resources/reanalysis-era5-single-levels\n"
     ]
    },
    {
     "name": "stdout",
     "output_type": "stream",
     "text": [
      "                     geometry                     address\n",
      "0  POINT (-72.73422 41.65002)  Connecticut, United States\n",
      "14\n",
      "03\n",
      "2023\n",
      "126\n"
     ]
    },
    {
     "name": "stderr",
     "output_type": "stream",
     "text": [
      "2024-01-23 04:09:48,978 INFO Request is queued\n",
      "2024-01-23 04:38:17,492 INFO Request is completed\n",
      "2024-01-23 04:38:17,493 INFO Downloading https://download-0019.copernicus-climate.eu/cache-compute-0019/cache/data5/adaptor.mars.internal-1706006227.275333-6354-1-4bc12d60-2138-40d0-b28f-a95823239ca0.grib to 126.grib (71.3M)\n",
      "2024-01-23 04:38:23,819 INFO Download rate 11.3M/s  \n",
      "2024-01-23 04:38:24,078 INFO Welcome to the CDS\n",
      "2024-01-23 04:38:24,079 INFO Sending request to https://cds.climate.copernicus.eu/api/v2/resources/reanalysis-era5-single-levels\n"
     ]
    },
    {
     "name": "stdout",
     "output_type": "stream",
     "text": [
      "                     geometry                       address\n",
      "0  POINT (-72.03237 42.37888)  Massachusetts, United States\n",
      "14\n",
      "03\n",
      "2023\n",
      "127\n"
     ]
    },
    {
     "name": "stderr",
     "output_type": "stream",
     "text": [
      "2024-01-23 04:38:24,275 INFO Downloading https://download-0019.copernicus-climate.eu/cache-compute-0019/cache/data5/adaptor.mars.internal-1706006227.275333-6354-1-4bc12d60-2138-40d0-b28f-a95823239ca0.grib to 127.grib (71.3M)\n",
      "2024-01-23 04:38:47,802 INFO Download rate 3M/s     \n",
      "2024-01-23 04:38:48,061 INFO Welcome to the CDS\n",
      "2024-01-23 04:38:48,062 INFO Sending request to https://cds.climate.copernicus.eu/api/v2/resources/reanalysis-era5-single-levels\n"
     ]
    },
    {
     "name": "stdout",
     "output_type": "stream",
     "text": [
      "                     geometry                 address\n",
      "0  POINT (-72.50026 44.59907)  Vermont, United States\n",
      "14\n",
      "03\n",
      "2023\n",
      "128\n"
     ]
    },
    {
     "name": "stderr",
     "output_type": "stream",
     "text": [
      "2024-01-23 04:38:48,242 INFO Downloading https://download-0019.copernicus-climate.eu/cache-compute-0019/cache/data5/adaptor.mars.internal-1706006227.275333-6354-1-4bc12d60-2138-40d0-b28f-a95823239ca0.grib to 128.grib (71.3M)\n",
      "2024-01-23 04:39:36,100 INFO Download rate 1.5M/s   \n",
      "2024-01-23 04:39:36,360 INFO Welcome to the CDS\n",
      "2024-01-23 04:39:36,361 INFO Sending request to https://cds.climate.copernicus.eu/api/v2/resources/reanalysis-era5-single-levels\n"
     ]
    },
    {
     "name": "stdout",
     "output_type": "stream",
     "text": [
      "                     geometry                      address\n",
      "0  POINT (-71.59924 41.79624)  Rhode Island, United States\n",
      "14\n",
      "03\n",
      "2023\n",
      "129\n"
     ]
    },
    {
     "name": "stderr",
     "output_type": "stream",
     "text": [
      "2024-01-23 04:39:36,530 INFO Downloading https://download-0019.copernicus-climate.eu/cache-compute-0019/cache/data5/adaptor.mars.internal-1706006227.275333-6354-1-4bc12d60-2138-40d0-b28f-a95823239ca0.grib to 129.grib (71.3M)\n",
      "2024-01-23 04:40:14,883 INFO Download rate 1.9M/s   \n",
      "2024-01-23 04:40:15,147 INFO Welcome to the CDS\n",
      "2024-01-23 04:40:15,148 INFO Sending request to https://cds.climate.copernicus.eu/api/v2/resources/reanalysis-era5-single-levels\n"
     ]
    },
    {
     "name": "stdout",
     "output_type": "stream",
     "text": [
      "                     geometry                       address\n",
      "0  POINT (-71.65540 43.48491)  New Hampshire, United States\n",
      "14\n",
      "03\n",
      "2023\n",
      "130\n"
     ]
    },
    {
     "name": "stderr",
     "output_type": "stream",
     "text": [
      "2024-01-23 04:40:15,318 INFO Downloading https://download-0019.copernicus-climate.eu/cache-compute-0019/cache/data5/adaptor.mars.internal-1706006227.275333-6354-1-4bc12d60-2138-40d0-b28f-a95823239ca0.grib to 130.grib (71.3M)\n",
      "2024-01-23 04:40:49,991 INFO Download rate 2.1M/s   \n",
      "2024-01-23 04:40:50,249 INFO Welcome to the CDS\n",
      "2024-01-23 04:40:50,250 INFO Sending request to https://cds.climate.copernicus.eu/api/v2/resources/reanalysis-era5-single-levels\n"
     ]
    },
    {
     "name": "stdout",
     "output_type": "stream",
     "text": [
      "                     geometry               address\n",
      "0  POINT (-68.85902 45.70910)  Maine, United States\n",
      "14\n",
      "03\n",
      "2023\n",
      "131\n"
     ]
    },
    {
     "name": "stderr",
     "output_type": "stream",
     "text": [
      "2024-01-23 04:40:50,398 INFO Downloading https://download-0019.copernicus-climate.eu/cache-compute-0019/cache/data5/adaptor.mars.internal-1706006227.275333-6354-1-4bc12d60-2138-40d0-b28f-a95823239ca0.grib to 131.grib (71.3M)\n",
      "2024-01-23 04:41:13,783 INFO Download rate 3M/s     \n",
      "2024-01-23 04:41:14,039 INFO Welcome to the CDS\n",
      "2024-01-23 04:41:14,041 INFO Sending request to https://cds.climate.copernicus.eu/api/v2/resources/reanalysis-era5-single-levels\n"
     ]
    },
    {
     "name": "stdout",
     "output_type": "stream",
     "text": [
      "                     geometry                            address\n",
      "0  POINT (-74.00602 40.71273)  New York, New York, United States\n",
      "14\n",
      "03\n",
      "2023\n",
      "132\n"
     ]
    },
    {
     "name": "stderr",
     "output_type": "stream",
     "text": [
      "2024-01-23 04:41:14,212 INFO Downloading https://download-0019.copernicus-climate.eu/cache-compute-0019/cache/data5/adaptor.mars.internal-1706006227.275333-6354-1-4bc12d60-2138-40d0-b28f-a95823239ca0.grib to 132.grib (71.3M)\n",
      "2024-01-23 04:41:40,853 INFO Download rate 2.7M/s   \n",
      "2024-01-23 04:41:41,111 INFO Welcome to the CDS\n",
      "2024-01-23 04:41:41,112 INFO Sending request to https://cds.climate.copernicus.eu/api/v2/resources/reanalysis-era5-single-levels\n"
     ]
    },
    {
     "name": "stdout",
     "output_type": "stream",
     "text": [
      "                     geometry              address\n",
      "0  POINT (-82.68814 40.22536)  Ohio, United States\n",
      "25\n",
      "03\n",
      "2023\n",
      "133\n"
     ]
    },
    {
     "name": "stderr",
     "output_type": "stream",
     "text": [
      "2024-01-23 04:41:41,264 INFO Request is queued\n",
      "2024-01-23 05:12:09,738 INFO Request is completed\n",
      "2024-01-23 05:12:09,739 INFO Downloading https://download-0005-clone.copernicus-climate.eu/cache-compute-0005/cache/data3/adaptor.mars.internal-1706008216.6668267-13177-8-59b9c5ce-7d50-47f6-aabc-ff5641a57c0c.grib to 133.grib (71.3M)\n",
      "2024-01-23 05:12:40,504 INFO Download rate 2.3M/s   \n",
      "2024-01-23 05:12:40,774 INFO Welcome to the CDS\n",
      "2024-01-23 05:12:40,775 INFO Sending request to https://cds.climate.copernicus.eu/api/v2/resources/reanalysis-era5-single-levels\n"
     ]
    },
    {
     "name": "stdout",
     "output_type": "stream",
     "text": [
      "                     geometry                       address\n",
      "0  POINT (-80.84084 38.47584)  West Virginia, United States\n",
      "25\n",
      "03\n",
      "2023\n",
      "134\n"
     ]
    },
    {
     "name": "stderr",
     "output_type": "stream",
     "text": [
      "2024-01-23 05:12:41,061 INFO Downloading https://download-0005-clone.copernicus-climate.eu/cache-compute-0005/cache/data3/adaptor.mars.internal-1706008216.6668267-13177-8-59b9c5ce-7d50-47f6-aabc-ff5641a57c0c.grib to 134.grib (71.3M)\n",
      "2024-01-23 05:13:06,091 INFO Download rate 2.8M/s   \n",
      "2024-01-23 05:13:06,358 INFO Welcome to the CDS\n",
      "2024-01-23 05:13:06,360 INFO Sending request to https://cds.climate.copernicus.eu/api/v2/resources/reanalysis-era5-single-levels\n"
     ]
    },
    {
     "name": "stdout",
     "output_type": "stream",
     "text": [
      "                     geometry                  address\n",
      "0  POINT (-78.49277 37.12322)  Virginia, United States\n",
      "25\n",
      "03\n",
      "2023\n",
      "135\n"
     ]
    },
    {
     "name": "stderr",
     "output_type": "stream",
     "text": [
      "2024-01-23 05:13:06,514 INFO Downloading https://download-0005-clone.copernicus-climate.eu/cache-compute-0005/cache/data3/adaptor.mars.internal-1706008216.6668267-13177-8-59b9c5ce-7d50-47f6-aabc-ff5641a57c0c.grib to 135.grib (71.3M)\n",
      "2024-01-23 05:13:21,382 INFO Download rate 4.8M/s   \n",
      "2024-01-23 05:13:21,647 INFO Welcome to the CDS\n",
      "2024-01-23 05:13:21,648 INFO Sending request to https://cds.climate.copernicus.eu/api/v2/resources/reanalysis-era5-single-levels\n"
     ]
    },
    {
     "name": "stdout",
     "output_type": "stream",
     "text": [
      "                     geometry                  address\n",
      "0  POINT (-92.44791 35.20489)  Arkansas, United States\n",
      "31\n",
      "03\n",
      "2023\n",
      "136\n"
     ]
    },
    {
     "name": "stderr",
     "output_type": "stream",
     "text": [
      "2024-01-23 05:13:21,785 INFO Request is queued\n",
      "2024-01-23 05:41:50,641 INFO Request is completed\n",
      "2024-01-23 05:41:50,642 INFO Downloading https://download-0016.copernicus-climate.eu/cache-compute-0016/cache/data0/adaptor.mars.internal-1706010020.2121646-30124-12-8924a460-921f-4a20-a656-24a01c74ecc1.grib to 136.grib (71.3M)\n",
      "2024-01-23 05:42:04,395 INFO Download rate 5.2M/s   \n",
      "2024-01-23 05:42:04,652 INFO Welcome to the CDS\n",
      "2024-01-23 05:42:04,653 INFO Sending request to https://cds.climate.copernicus.eu/api/v2/resources/reanalysis-era5-single-levels\n"
     ]
    },
    {
     "name": "stdout",
     "output_type": "stream",
     "text": [
      "                     geometry                  address\n",
      "0  POINT (-89.43373 40.07966)  Illinois, United States\n",
      "31\n",
      "03\n",
      "2023\n",
      "137\n"
     ]
    },
    {
     "name": "stderr",
     "output_type": "stream",
     "text": [
      "2024-01-23 05:42:04,799 INFO Downloading https://download-0016.copernicus-climate.eu/cache-compute-0016/cache/data0/adaptor.mars.internal-1706010020.2121646-30124-12-8924a460-921f-4a20-a656-24a01c74ecc1.grib to 137.grib (71.3M)\n",
      "2024-01-23 05:42:27,392 INFO Download rate 3.2M/s   \n",
      "2024-01-23 05:42:27,648 INFO Welcome to the CDS\n",
      "2024-01-23 05:42:27,649 INFO Sending request to https://cds.climate.copernicus.eu/api/v2/resources/reanalysis-era5-single-levels\n"
     ]
    },
    {
     "name": "stdout",
     "output_type": "stream",
     "text": [
      "                     geometry              address\n",
      "0  POINT (-82.68814 40.22536)  Ohio, United States\n",
      "01\n",
      "04\n",
      "2023\n",
      "138\n"
     ]
    },
    {
     "name": "stderr",
     "output_type": "stream",
     "text": [
      "2024-01-23 05:42:27,791 INFO Request is queued\n",
      "2024-01-23 06:10:55,755 INFO Request is completed\n",
      "2024-01-23 06:10:55,757 INFO Downloading https://download-0015-clone.copernicus-climate.eu/cache-compute-0015/cache/data4/adaptor.mars.internal-1706011786.4744074-21585-3-07f6498b-85f8-4345-b00f-b8807197cc13.grib to 138.grib (71.3M)\n",
      "2024-01-23 06:11:10,639 INFO Download rate 4.8M/s   \n",
      "2024-01-23 06:11:10,908 INFO Welcome to the CDS\n",
      "2024-01-23 06:11:10,909 INFO Sending request to https://cds.climate.copernicus.eu/api/v2/resources/reanalysis-era5-single-levels\n"
     ]
    },
    {
     "name": "stdout",
     "output_type": "stream",
     "text": [
      "                     geometry                       address\n",
      "0  POINT (-80.84084 38.47584)  West Virginia, United States\n",
      "01\n",
      "04\n",
      "2023\n",
      "139\n"
     ]
    },
    {
     "name": "stderr",
     "output_type": "stream",
     "text": [
      "2024-01-23 06:11:11,060 INFO Downloading https://download-0015-clone.copernicus-climate.eu/cache-compute-0015/cache/data4/adaptor.mars.internal-1706011786.4744074-21585-3-07f6498b-85f8-4345-b00f-b8807197cc13.grib to 139.grib (71.3M)\n",
      "2024-01-23 06:11:24,806 INFO Download rate 5.2M/s   \n",
      "2024-01-23 06:11:25,070 INFO Welcome to the CDS\n",
      "2024-01-23 06:11:25,071 INFO Sending request to https://cds.climate.copernicus.eu/api/v2/resources/reanalysis-era5-single-levels\n"
     ]
    },
    {
     "name": "stdout",
     "output_type": "stream",
     "text": [
      "                     geometry                  address\n",
      "0  POINT (-78.49277 37.12322)  Virginia, United States\n",
      "01\n",
      "04\n",
      "2023\n",
      "140\n"
     ]
    },
    {
     "name": "stderr",
     "output_type": "stream",
     "text": [
      "2024-01-23 06:11:25,234 INFO Downloading https://download-0015-clone.copernicus-climate.eu/cache-compute-0015/cache/data4/adaptor.mars.internal-1706011786.4744074-21585-3-07f6498b-85f8-4345-b00f-b8807197cc13.grib to 140.grib (71.3M)\n",
      "2024-01-23 06:11:51,739 INFO Download rate 2.7M/s   \n",
      "2024-01-23 06:11:52,001 INFO Welcome to the CDS\n",
      "2024-01-23 06:11:52,002 INFO Sending request to https://cds.climate.copernicus.eu/api/v2/resources/reanalysis-era5-single-levels\n"
     ]
    },
    {
     "name": "stdout",
     "output_type": "stream",
     "text": [
      "                     geometry                        address\n",
      "0  POINT (-98.21644 26.35303)  Hidalgo, Texas, United States\n",
      "29\n",
      "04\n",
      "2023\n",
      "141\n"
     ]
    },
    {
     "name": "stderr",
     "output_type": "stream",
     "text": [
      "2024-01-23 06:11:52,154 INFO Request is queued\n",
      "2024-01-23 06:36:19,132 INFO Request is completed\n",
      "2024-01-23 06:36:19,133 INFO Downloading https://download-0019.copernicus-climate.eu/cache-compute-0019/cache/data2/adaptor.mars.internal-1706013375.2992852-26569-9-56d2047d-384a-4c12-9f06-bcc316bff970.grib to 141.grib (71.3M)\n",
      "2024-01-23 06:36:38,090 INFO Download rate 3.8M/s   \n",
      "2024-01-23 06:36:38,353 INFO Welcome to the CDS\n",
      "2024-01-23 06:36:38,354 INFO Sending request to https://cds.climate.copernicus.eu/api/v2/resources/reanalysis-era5-single-levels\n"
     ]
    },
    {
     "name": "stdout",
     "output_type": "stream",
     "text": [
      "                     geometry                     address\n",
      "0  POINT (-72.73422 41.65002)  Connecticut, United States\n",
      "01\n",
      "05\n",
      "2023\n",
      "142\n"
     ]
    },
    {
     "name": "stderr",
     "output_type": "stream",
     "text": [
      "2024-01-23 06:36:38,491 INFO Request is queued\n",
      "2024-01-23 07:09:07,992 INFO Request is completed\n",
      "2024-01-23 07:09:07,993 INFO Downloading https://download-0010-clone.copernicus-climate.eu/cache-compute-0010/cache/data7/adaptor.mars.internal-1706015274.2398443-9231-4-3af69a9d-0272-4a5e-9cd7-3116abfa5ea8.grib to 142.grib (71.3M)\n",
      "2024-01-23 07:09:13,743 INFO Download rate 12.4M/s  \n",
      "2024-01-23 07:09:14,014 INFO Welcome to the CDS\n",
      "2024-01-23 07:09:14,015 INFO Sending request to https://cds.climate.copernicus.eu/api/v2/resources/reanalysis-era5-single-levels\n"
     ]
    },
    {
     "name": "stdout",
     "output_type": "stream",
     "text": [
      "                     geometry                       address\n",
      "0  POINT (-72.03237 42.37888)  Massachusetts, United States\n",
      "01\n",
      "05\n",
      "2023\n",
      "143\n"
     ]
    },
    {
     "name": "stderr",
     "output_type": "stream",
     "text": [
      "2024-01-23 07:09:14,200 INFO Downloading https://download-0010-clone.copernicus-climate.eu/cache-compute-0010/cache/data7/adaptor.mars.internal-1706015274.2398443-9231-4-3af69a9d-0272-4a5e-9cd7-3116abfa5ea8.grib to 143.grib (71.3M)\n",
      "2024-01-23 07:09:57,650 INFO Download rate 1.6M/s   \n",
      "2024-01-23 07:09:57,920 INFO Welcome to the CDS\n",
      "2024-01-23 07:09:57,921 INFO Sending request to https://cds.climate.copernicus.eu/api/v2/resources/reanalysis-era5-single-levels\n"
     ]
    },
    {
     "name": "stdout",
     "output_type": "stream",
     "text": [
      "                     geometry                      address\n",
      "0  POINT (-71.59924 41.79624)  Rhode Island, United States\n",
      "01\n",
      "05\n",
      "2023\n",
      "144\n"
     ]
    },
    {
     "name": "stderr",
     "output_type": "stream",
     "text": [
      "2024-01-23 07:09:58,107 INFO Downloading https://download-0010-clone.copernicus-climate.eu/cache-compute-0010/cache/data7/adaptor.mars.internal-1706015274.2398443-9231-4-3af69a9d-0272-4a5e-9cd7-3116abfa5ea8.grib to 144.grib (71.3M)\n",
      "2024-01-23 07:10:25,918 INFO Download rate 2.6M/s   \n",
      "2024-01-23 07:10:26,186 INFO Welcome to the CDS\n",
      "2024-01-23 07:10:26,187 INFO Sending request to https://cds.climate.copernicus.eu/api/v2/resources/reanalysis-era5-single-levels\n"
     ]
    },
    {
     "name": "stdout",
     "output_type": "stream",
     "text": [
      "                     geometry               address\n",
      "0  POINT (-68.85902 45.70910)  Maine, United States\n",
      "01\n",
      "05\n",
      "2023\n",
      "145\n"
     ]
    },
    {
     "name": "stderr",
     "output_type": "stream",
     "text": [
      "2024-01-23 07:10:26,364 INFO Downloading https://download-0010-clone.copernicus-climate.eu/cache-compute-0010/cache/data7/adaptor.mars.internal-1706015274.2398443-9231-4-3af69a9d-0272-4a5e-9cd7-3116abfa5ea8.grib to 145.grib (71.3M)\n",
      "2024-01-23 07:10:55,465 INFO Download rate 2.4M/s   \n",
      "2024-01-23 07:10:55,736 INFO Welcome to the CDS\n",
      "2024-01-23 07:10:55,737 INFO Sending request to https://cds.climate.copernicus.eu/api/v2/resources/reanalysis-era5-single-levels\n"
     ]
    },
    {
     "name": "stdout",
     "output_type": "stream",
     "text": [
      "                     geometry                       address\n",
      "0  POINT (-71.65540 43.48491)  New Hampshire, United States\n",
      "01\n",
      "05\n",
      "2023\n",
      "146\n"
     ]
    },
    {
     "name": "stderr",
     "output_type": "stream",
     "text": [
      "2024-01-23 07:10:55,944 INFO Downloading https://download-0010-clone.copernicus-climate.eu/cache-compute-0010/cache/data7/adaptor.mars.internal-1706015274.2398443-9231-4-3af69a9d-0272-4a5e-9cd7-3116abfa5ea8.grib to 146.grib (71.3M)\n",
      "2024-01-23 07:11:08,367 INFO Download rate 5.7M/s   \n",
      "2024-01-23 07:11:08,639 INFO Welcome to the CDS\n",
      "2024-01-23 07:11:08,640 INFO Sending request to https://cds.climate.copernicus.eu/api/v2/resources/reanalysis-era5-single-levels\n"
     ]
    },
    {
     "name": "stdout",
     "output_type": "stream",
     "text": [
      "                     geometry                 address\n",
      "0  POINT (-72.50026 44.59907)  Vermont, United States\n",
      "01\n",
      "05\n",
      "2023\n",
      "147\n"
     ]
    },
    {
     "name": "stderr",
     "output_type": "stream",
     "text": [
      "2024-01-23 07:11:08,835 INFO Downloading https://download-0010-clone.copernicus-climate.eu/cache-compute-0010/cache/data7/adaptor.mars.internal-1706015274.2398443-9231-4-3af69a9d-0272-4a5e-9cd7-3116abfa5ea8.grib to 147.grib (71.3M)\n",
      "2024-01-23 07:11:37,971 INFO Download rate 2.4M/s   \n",
      "2024-01-23 07:11:38,241 INFO Welcome to the CDS\n",
      "2024-01-23 07:11:38,243 INFO Sending request to https://cds.climate.copernicus.eu/api/v2/resources/reanalysis-era5-single-levels\n"
     ]
    },
    {
     "name": "stdout",
     "output_type": "stream",
     "text": [
      "                     geometry                         address\n",
      "0  POINT (-81.72305 29.62662)  Putnam, Florida, United States\n",
      "22\n",
      "05\n",
      "2023\n",
      "148\n"
     ]
    },
    {
     "name": "stderr",
     "output_type": "stream",
     "text": [
      "2024-01-23 07:11:38,393 INFO Request is queued\n",
      "2024-01-23 07:40:06,221 INFO Request is completed\n",
      "2024-01-23 07:40:06,222 INFO Downloading https://download-0008-clone.copernicus-climate.eu/cache-compute-0008/cache/data4/adaptor.mars.internal-1706017167.519208-11514-15-8f75bbe3-39bd-440e-8ee1-56b46734ffe4.grib to 148.grib (71.3M)\n",
      "2024-01-23 07:40:10,896 INFO Download rate 15.3M/s  \n"
     ]
    }
   ],
   "source": [
    "c = cdsapi.Client()\n",
    "for row in final_table:\n",
    "    print(row[\"Location\"])\n",
    "    print(row[\"Day\"])\n",
    "    print(row[\"Month\"])\n",
    "    print(row[\"Year\"])\n",
    "    print(row[\"ID\"])\n",
    "    c.retrieve(\n",
    "    'reanalysis-era5-single-levels',\n",
    "    {\n",
    "        'product_type': 'reanalysis', 'format': 'grib',\n",
    "        'year': [\n",
    "        row[\"Year\"],\n",
    "        ],\n",
    "        'month': [\n",
    "        row[\"Month\"]\n",
    "        ],\n",
    "        'day': [\n",
    "        row[\"Day\"]\n",
    "        ],\n",
    "        'time': [\n",
    "        '00:00', '04:00', '08:00',\n",
    "        '12:00', '16:00', '20:00',\n",
    "        ],\n",
    "        'variable': [\n",
    "        '10m_u_component_of_wind', '10m_v_component_of_wind', '2m_temperature',\n",
    "        'snowfall', 'surface_pressure', 'total_precipitation',\n",
    "        ],\n",
    "        },\n",
    "        str(row[\"ID\"]) + '.grib')"
   ]
  },
  {
   "cell_type": "code",
   "execution_count": 8,
   "metadata": {},
   "outputs": [
    {
     "name": "stderr",
     "output_type": "stream",
     "text": [
      "2024-01-18 23:47:44,958 INFO Welcome to the CDS\n",
      "2024-01-18 23:47:44,959 INFO Sending request to https://cds.climate.copernicus.eu/api/v2/resources/reanalysis-era5-single-levels\n"
     ]
    },
    {
     "ename": "KeyboardInterrupt",
     "evalue": "",
     "output_type": "error",
     "traceback": [
      "\u001b[0;31m---------------------------------------------------------------------------\u001b[0m",
      "\u001b[0;31mKeyboardInterrupt\u001b[0m                         Traceback (most recent call last)",
      "Cell \u001b[0;32mIn[8], line 1\u001b[0m\n\u001b[0;32m----> 1\u001b[0m \u001b[43mc\u001b[49m\u001b[38;5;241;43m.\u001b[39;49m\u001b[43mretrieve\u001b[49m\u001b[43m(\u001b[49m\n\u001b[1;32m      2\u001b[0m \u001b[38;5;124;43m'\u001b[39;49m\u001b[38;5;124;43mreanalysis-era5-single-levels\u001b[39;49m\u001b[38;5;124;43m'\u001b[39;49m\u001b[43m,\u001b[49m\n\u001b[1;32m      3\u001b[0m \u001b[43m{\u001b[49m\n\u001b[1;32m      4\u001b[0m \u001b[43m    \u001b[49m\u001b[38;5;124;43m'\u001b[39;49m\u001b[38;5;124;43mproduct_type\u001b[39;49m\u001b[38;5;124;43m'\u001b[39;49m\u001b[43m:\u001b[49m\u001b[43m \u001b[49m\u001b[38;5;124;43m'\u001b[39;49m\u001b[38;5;124;43mreanalysis\u001b[39;49m\u001b[38;5;124;43m'\u001b[39;49m\u001b[43m,\u001b[49m\u001b[43m \u001b[49m\u001b[38;5;124;43m'\u001b[39;49m\u001b[38;5;124;43mformat\u001b[39;49m\u001b[38;5;124;43m'\u001b[39;49m\u001b[43m:\u001b[49m\u001b[43m \u001b[49m\u001b[38;5;124;43m'\u001b[39;49m\u001b[38;5;124;43mgrib\u001b[39;49m\u001b[38;5;124;43m'\u001b[39;49m\u001b[43m,\u001b[49m\n\u001b[1;32m      5\u001b[0m \u001b[43m    \u001b[49m\u001b[38;5;124;43m'\u001b[39;49m\u001b[38;5;124;43myear\u001b[39;49m\u001b[38;5;124;43m'\u001b[39;49m\u001b[43m:\u001b[49m\u001b[43m \u001b[49m\u001b[43m[\u001b[49m\n\u001b[1;32m      6\u001b[0m \u001b[43m    \u001b[49m\u001b[38;5;28;43mstr\u001b[39;49m\u001b[43m(\u001b[49m\u001b[43myear\u001b[49m\u001b[43m)\u001b[49m\u001b[43m,\u001b[49m\n\u001b[1;32m      7\u001b[0m \u001b[43m    \u001b[49m\u001b[43m]\u001b[49m\u001b[43m,\u001b[49m\n\u001b[1;32m      8\u001b[0m \u001b[43m    \u001b[49m\u001b[38;5;124;43m'\u001b[39;49m\u001b[38;5;124;43mmonth\u001b[39;49m\u001b[38;5;124;43m'\u001b[39;49m\u001b[43m:\u001b[49m\u001b[43m \u001b[49m\u001b[43m[\u001b[49m\n\u001b[1;32m      9\u001b[0m \u001b[43m    \u001b[49m\u001b[38;5;28;43mstr\u001b[39;49m\u001b[43m(\u001b[49m\u001b[43mmonth\u001b[49m\u001b[43m)\u001b[49m\n\u001b[1;32m     10\u001b[0m \u001b[43m    \u001b[49m\u001b[43m]\u001b[49m\u001b[43m,\u001b[49m\n\u001b[1;32m     11\u001b[0m \u001b[43m    \u001b[49m\u001b[38;5;124;43m'\u001b[39;49m\u001b[38;5;124;43mday\u001b[39;49m\u001b[38;5;124;43m'\u001b[39;49m\u001b[43m:\u001b[49m\u001b[43m \u001b[49m\u001b[43m[\u001b[49m\n\u001b[1;32m     12\u001b[0m \u001b[43m    \u001b[49m\u001b[38;5;28;43mstr\u001b[39;49m\u001b[43m(\u001b[49m\u001b[43mday\u001b[49m\u001b[43m)\u001b[49m\n\u001b[1;32m     13\u001b[0m \u001b[43m    \u001b[49m\u001b[43m]\u001b[49m\u001b[43m,\u001b[49m\n\u001b[1;32m     14\u001b[0m \u001b[43m    \u001b[49m\u001b[38;5;124;43m'\u001b[39;49m\u001b[38;5;124;43mtime\u001b[39;49m\u001b[38;5;124;43m'\u001b[39;49m\u001b[43m:\u001b[49m\u001b[43m \u001b[49m\u001b[43m[\u001b[49m\n\u001b[1;32m     15\u001b[0m \u001b[43m    \u001b[49m\u001b[38;5;124;43m'\u001b[39;49m\u001b[38;5;124;43m00:00\u001b[39;49m\u001b[38;5;124;43m'\u001b[39;49m\u001b[43m,\u001b[49m\u001b[43m \u001b[49m\u001b[38;5;124;43m'\u001b[39;49m\u001b[38;5;124;43m04:00\u001b[39;49m\u001b[38;5;124;43m'\u001b[39;49m\u001b[43m,\u001b[49m\u001b[43m \u001b[49m\u001b[38;5;124;43m'\u001b[39;49m\u001b[38;5;124;43m08:00\u001b[39;49m\u001b[38;5;124;43m'\u001b[39;49m\u001b[43m,\u001b[49m\n\u001b[1;32m     16\u001b[0m \u001b[43m    \u001b[49m\u001b[38;5;124;43m'\u001b[39;49m\u001b[38;5;124;43m12:00\u001b[39;49m\u001b[38;5;124;43m'\u001b[39;49m\u001b[43m,\u001b[49m\u001b[43m \u001b[49m\u001b[38;5;124;43m'\u001b[39;49m\u001b[38;5;124;43m16:00\u001b[39;49m\u001b[38;5;124;43m'\u001b[39;49m\u001b[43m,\u001b[49m\u001b[43m \u001b[49m\u001b[38;5;124;43m'\u001b[39;49m\u001b[38;5;124;43m20:00\u001b[39;49m\u001b[38;5;124;43m'\u001b[39;49m\u001b[43m,\u001b[49m\n\u001b[1;32m     17\u001b[0m \u001b[43m    \u001b[49m\u001b[43m]\u001b[49m\u001b[43m,\u001b[49m\n\u001b[1;32m     18\u001b[0m \u001b[43m    \u001b[49m\u001b[38;5;124;43m'\u001b[39;49m\u001b[38;5;124;43mvariable\u001b[39;49m\u001b[38;5;124;43m'\u001b[39;49m\u001b[43m:\u001b[49m\u001b[43m \u001b[49m\u001b[43m[\u001b[49m\n\u001b[1;32m     19\u001b[0m \u001b[43m    \u001b[49m\u001b[38;5;124;43m'\u001b[39;49m\u001b[38;5;124;43m2t\u001b[39;49m\u001b[38;5;124;43m'\u001b[39;49m\u001b[43m,\u001b[49m\u001b[43m \u001b[49m\u001b[38;5;124;43m'\u001b[39;49m\u001b[38;5;124;43mmsl\u001b[39;49m\u001b[38;5;124;43m'\u001b[39;49m\u001b[43m,\u001b[49m\n\u001b[1;32m     20\u001b[0m \u001b[43m    \u001b[49m\u001b[43m]\u001b[49m\u001b[43m,\u001b[49m\n\u001b[1;32m     21\u001b[0m \u001b[43m    \u001b[49m\u001b[43m}\u001b[49m\u001b[43m,\u001b[49m\n\u001b[1;32m     22\u001b[0m \u001b[43m    \u001b[49m\u001b[38;5;28;43mstr\u001b[39;49m\u001b[43m(\u001b[49m\u001b[43myear\u001b[49m\u001b[43m)\u001b[49m\u001b[43m \u001b[49m\u001b[38;5;241;43m+\u001b[39;49m\u001b[43m \u001b[49m\u001b[38;5;124;43m\"\u001b[39;49m\u001b[38;5;124;43m-\u001b[39;49m\u001b[38;5;124;43m\"\u001b[39;49m\u001b[43m \u001b[49m\u001b[38;5;241;43m+\u001b[39;49m\u001b[43m \u001b[49m\u001b[38;5;28;43mstr\u001b[39;49m\u001b[43m(\u001b[49m\u001b[43mmonth\u001b[49m\u001b[43m)\u001b[49m\u001b[43m \u001b[49m\u001b[38;5;241;43m+\u001b[39;49m\u001b[43m \u001b[49m\u001b[38;5;124;43m\"\u001b[39;49m\u001b[38;5;124;43m-\u001b[39;49m\u001b[38;5;124;43m\"\u001b[39;49m\u001b[43m \u001b[49m\u001b[38;5;241;43m+\u001b[39;49m\u001b[43m \u001b[49m\u001b[38;5;28;43mstr\u001b[39;49m\u001b[43m(\u001b[49m\u001b[43mday\u001b[49m\u001b[43m)\u001b[49m\u001b[43m \u001b[49m\u001b[38;5;241;43m+\u001b[39;49m\u001b[43m \u001b[49m\u001b[38;5;124;43m'\u001b[39;49m\u001b[38;5;124;43m.grib\u001b[39;49m\u001b[38;5;124;43m'\u001b[39;49m\u001b[43m)\u001b[49m\n",
      "File \u001b[0;32m~/anaconda3/envs/workenv/lib/python3.9/site-packages/cdsapi/api.py:364\u001b[0m, in \u001b[0;36mClient.retrieve\u001b[0;34m(self, name, request, target)\u001b[0m\n\u001b[1;32m    363\u001b[0m \u001b[38;5;28;01mdef\u001b[39;00m \u001b[38;5;21mretrieve\u001b[39m(\u001b[38;5;28mself\u001b[39m, name, request, target\u001b[38;5;241m=\u001b[39m\u001b[38;5;28;01mNone\u001b[39;00m):\n\u001b[0;32m--> 364\u001b[0m     result \u001b[38;5;241m=\u001b[39m \u001b[38;5;28;43mself\u001b[39;49m\u001b[38;5;241;43m.\u001b[39;49m\u001b[43m_api\u001b[49m\u001b[43m(\u001b[49m\u001b[38;5;124;43m\"\u001b[39;49m\u001b[38;5;132;43;01m%s\u001b[39;49;00m\u001b[38;5;124;43m/resources/\u001b[39;49m\u001b[38;5;132;43;01m%s\u001b[39;49;00m\u001b[38;5;124;43m\"\u001b[39;49m\u001b[43m \u001b[49m\u001b[38;5;241;43m%\u001b[39;49m\u001b[43m \u001b[49m\u001b[43m(\u001b[49m\u001b[38;5;28;43mself\u001b[39;49m\u001b[38;5;241;43m.\u001b[39;49m\u001b[43murl\u001b[49m\u001b[43m,\u001b[49m\u001b[43m \u001b[49m\u001b[43mname\u001b[49m\u001b[43m)\u001b[49m\u001b[43m,\u001b[49m\u001b[43m \u001b[49m\u001b[43mrequest\u001b[49m\u001b[43m,\u001b[49m\u001b[43m \u001b[49m\u001b[38;5;124;43m\"\u001b[39;49m\u001b[38;5;124;43mPOST\u001b[39;49m\u001b[38;5;124;43m\"\u001b[39;49m\u001b[43m)\u001b[49m\n\u001b[1;32m    365\u001b[0m     \u001b[38;5;28;01mif\u001b[39;00m target \u001b[38;5;129;01mis\u001b[39;00m \u001b[38;5;129;01mnot\u001b[39;00m \u001b[38;5;28;01mNone\u001b[39;00m:\n\u001b[1;32m    366\u001b[0m         result\u001b[38;5;241m.\u001b[39mdownload(target)\n",
      "File \u001b[0;32m~/anaconda3/envs/workenv/lib/python3.9/site-packages/cdsapi/api.py:492\u001b[0m, in \u001b[0;36mClient._api\u001b[0;34m(self, url, request, method)\u001b[0m\n\u001b[1;32m    489\u001b[0m rid \u001b[38;5;241m=\u001b[39m reply[\u001b[38;5;124m\"\u001b[39m\u001b[38;5;124mrequest_id\u001b[39m\u001b[38;5;124m\"\u001b[39m]\n\u001b[1;32m    491\u001b[0m \u001b[38;5;28mself\u001b[39m\u001b[38;5;241m.\u001b[39mdebug(\u001b[38;5;124m\"\u001b[39m\u001b[38;5;124mRequest ID is \u001b[39m\u001b[38;5;132;01m%s\u001b[39;00m\u001b[38;5;124m, sleep \u001b[39m\u001b[38;5;132;01m%s\u001b[39;00m\u001b[38;5;124m\"\u001b[39m, rid, sleep)\n\u001b[0;32m--> 492\u001b[0m \u001b[43mtime\u001b[49m\u001b[38;5;241;43m.\u001b[39;49m\u001b[43msleep\u001b[49m\u001b[43m(\u001b[49m\u001b[43msleep\u001b[49m\u001b[43m)\u001b[49m\n\u001b[1;32m    493\u001b[0m sleep \u001b[38;5;241m*\u001b[39m\u001b[38;5;241m=\u001b[39m \u001b[38;5;241m1.5\u001b[39m\n\u001b[1;32m    494\u001b[0m \u001b[38;5;28;01mif\u001b[39;00m sleep \u001b[38;5;241m>\u001b[39m \u001b[38;5;28mself\u001b[39m\u001b[38;5;241m.\u001b[39msleep_max:\n",
      "\u001b[0;31mKeyboardInterrupt\u001b[0m: "
     ]
    }
   ],
   "source": [
    "# c.retrieve(\n",
    "# 'reanalysis-era5-single-levels',\n",
    "# {\n",
    "#     'product_type': 'reanalysis', 'format': 'grib',\n",
    "#     'year': [\n",
    "#     str(year),\n",
    "#     ],\n",
    "#     'month': [\n",
    "#     str(month)\n",
    "#     ],\n",
    "#     'day': [\n",
    "#     str(day)\n",
    "#     ],\n",
    "#     'time': [\n",
    "#     '00:00', '04:00', '08:00',\n",
    "#     '12:00', '16:00', '20:00',\n",
    "#     ],\n",
    "#     'variable': [\n",
    "#     '2t', 'msl',\n",
    "#     ],\n",
    "#     },\n",
    "#     str(year) + \"-\" + str(month) + \"-\" + str(day) + '.grib')"
   ]
  },
  {
   "cell_type": "code",
   "execution_count": null,
   "metadata": {},
   "outputs": [],
   "source": [
    "for row in final_table:\n",
    "    year = row[\"Year\"]\n",
    "    month = row[\"Month\"]\n",
    "    "
   ]
  },
  {
   "cell_type": "code",
   "execution_count": 10,
   "metadata": {},
   "outputs": [
    {
     "name": "stdout",
     "output_type": "stream",
     "text": [
      "                     geometry                             address\n",
      "0  POINT (-88.24309 40.11648)  Champaign, Illinois, United States\n",
      "                      geometry                          address\n",
      "0  POINT (-122.67419 45.52025)  Portland, Oregon, United States\n",
      "                      geometry                            address\n",
      "0  POINT (-123.05879 45.56019)  Washington, Oregon, United States\n",
      "                     geometry               address\n",
      "0  POINT (-98.54561 31.26389)  Texas, United States\n"
     ]
    }
   ],
   "source": [
    "CMI = geopandas.tools.geocode(\"Champaign, IL\")\n",
    "PDX = geopandas.tools.geocode(\"Portland, OR\")\n",
    "\n",
    "wash = geopandas.tools.geocode(\"Washington County, OR\")\n",
    "texas = geopandas.tools.geocode(\"Texas\")\n",
    "\n",
    "print(CMI)\n",
    "print(PDX)\n",
    "print(wash)\n",
    "print(texas)"
   ]
  },
  {
   "cell_type": "code",
   "execution_count": null,
   "metadata": {},
   "outputs": [],
   "source": []
  },
  {
   "cell_type": "code",
   "execution_count": 33,
   "metadata": {},
   "outputs": [
    {
     "name": "stderr",
     "output_type": "stream",
     "text": [
      "skipping variable: paramId==144 shortName='sf'\n",
      "Traceback (most recent call last):\n",
      "  File \"/data/keeling/a/rct4/anaconda3/envs/workenv/lib/python3.9/site-packages/cfgrib/dataset.py\", line 680, in build_dataset_components\n",
      "    dict_merge(variables, coord_vars)\n",
      "  File \"/data/keeling/a/rct4/anaconda3/envs/workenv/lib/python3.9/site-packages/cfgrib/dataset.py\", line 611, in dict_merge\n",
      "    raise DatasetBuildError(\n",
      "cfgrib.dataset.DatasetBuildError: key present and new value is different: key='time' value=Variable(dimensions=('time',), data=array([1641081600, 1641096000, 1641110400, 1641124800, 1641139200,\n",
      "       1641153600])) new_value=Variable(dimensions=('time',), data=array([1641060000, 1641103200, 1641146400]))\n",
      "skipping variable: paramId==228 shortName='tp'\n",
      "Traceback (most recent call last):\n",
      "  File \"/data/keeling/a/rct4/anaconda3/envs/workenv/lib/python3.9/site-packages/cfgrib/dataset.py\", line 680, in build_dataset_components\n",
      "    dict_merge(variables, coord_vars)\n",
      "  File \"/data/keeling/a/rct4/anaconda3/envs/workenv/lib/python3.9/site-packages/cfgrib/dataset.py\", line 611, in dict_merge\n",
      "    raise DatasetBuildError(\n",
      "cfgrib.dataset.DatasetBuildError: key present and new value is different: key='time' value=Variable(dimensions=('time',), data=array([1641081600, 1641096000, 1641110400, 1641124800, 1641139200,\n",
      "       1641153600])) new_value=Variable(dimensions=('time',), data=array([1641060000, 1641103200, 1641146400]))\n"
     ]
    },
    {
     "name": "stdout",
     "output_type": "stream",
     "text": [
      "<xarray.Dataset>\n",
      "Dimensions:     (time: 6, latitude: 721, longitude: 1440)\n",
      "Coordinates:\n",
      "    number      int64 0\n",
      "  * time        (time) datetime64[ns] 2022-01-02 ... 2022-01-02T20:00:00\n",
      "    step        timedelta64[ns] 00:00:00\n",
      "    surface     float64 0.0\n",
      "  * latitude    (latitude) float64 90.0 89.75 89.5 89.25 ... -89.5 -89.75 -90.0\n",
      "  * longitude   (longitude) float64 0.0 0.25 0.5 0.75 ... 359.2 359.5 359.8\n",
      "    valid_time  (time) datetime64[ns] 2022-01-02 ... 2022-01-02T20:00:00\n",
      "Data variables:\n",
      "    u10         (time, latitude, longitude) float32 -0.1208 -0.1208 ... 0.2339\n",
      "    v10         (time, latitude, longitude) float32 -0.1419 -0.1419 ... -0.02336\n",
      "    t2m         (time, latitude, longitude) float32 247.0 247.0 ... 247.5 247.5\n",
      "    sp          (time, latitude, longitude) float32 1.035e+05 ... 6.886e+04\n",
      "Attributes:\n",
      "    GRIB_edition:            1\n",
      "    GRIB_centre:             ecmf\n",
      "    GRIB_centreDescription:  European Centre for Medium-Range Weather Forecasts\n",
      "    GRIB_subCentre:          0\n",
      "    Conventions:             CF-1.7\n",
      "    institution:             European Centre for Medium-Range Weather Forecasts\n",
      "    history:                 2024-01-23T13:42 GRIB to CDM+CF via cfgrib-0.9.1...\n"
     ]
    }
   ],
   "source": [
    "currLocation = geopandas.tools.geocode(\"Champaign, IL\")\n",
    "x = xr.load_dataset(\"0.grib\", engine=\"cfgrib\")\n",
    "\n",
    "# print(x)\n",
    "\n",
    "point = x.t2m.sel(latitude=currLocation.geometry.y.values[0], longitude=currLocation.geometry.x.values[0]+360, method=\"nearest\") - 273\n",
    "point2 = x.sp.sel(latitude=currLocation.geometry.y.values[0], longitude=currLocation.geometry.x.values[0]+360, time = \"2022-01-02T20:00:00\", method=\"nearest\")"
   ]
  },
  {
   "cell_type": "code",
   "execution_count": 42,
   "metadata": {},
   "outputs": [
    {
     "name": "stdout",
     "output_type": "stream",
     "text": [
      "99656.66\n"
     ]
    }
   ],
   "source": [
    "# point2.plot()\n",
    "# print(point2)\n",
    "p2 = point2.values\n",
    "print(p2)"
   ]
  },
  {
   "cell_type": "code",
   "execution_count": 10,
   "metadata": {},
   "outputs": [
    {
     "name": "stdout",
     "output_type": "stream",
     "text": [
      "<xarray.DataArray 't2m' (time: 6)>\n",
      "array([-12.077637, -12.943665, -12.966034, -12.739807, -10.089355,\n",
      "        -5.753662], dtype=float32)\n",
      "Coordinates:\n",
      "    number      int64 0\n",
      "  * time        (time) datetime64[ns] 2014-01-22 ... 2014-01-22T20:00:00\n",
      "    step        timedelta64[ns] 00:00:00\n",
      "    surface     float64 0.0\n",
      "    latitude    float64 40.0\n",
      "    longitude   float64 271.8\n",
      "    valid_time  (time) datetime64[ns] 2014-01-22 ... 2014-01-22T20:00:00\n"
     ]
    }
   ],
   "source": [
    "print(point)"
   ]
  },
  {
   "cell_type": "code",
   "execution_count": null,
   "metadata": {},
   "outputs": [],
   "source": [
    "currLocation = CMI\n",
    "point = x.t2m.sel(latitude=currLocation.geometry.y.values[0], longitude=currLocation.geometry.x.values[0]+360, method=\"nearest\") - 273\n",
    "point2 = x.msl.sel(latitude=currLocation.geometry.y.values[0], longitude=currLocation.geometry.x.values[0]+360, method=\"nearest\")"
   ]
  }
 ],
 "metadata": {
  "kernelspec": {
   "display_name": "workenv",
   "language": "python",
   "name": "python3"
  },
  "language_info": {
   "codemirror_mode": {
    "name": "ipython",
    "version": 3
   },
   "file_extension": ".py",
   "mimetype": "text/x-python",
   "name": "python",
   "nbconvert_exporter": "python",
   "pygments_lexer": "ipython3",
   "version": "3.9.18"
  }
 },
 "nbformat": 4,
 "nbformat_minor": 2
}
